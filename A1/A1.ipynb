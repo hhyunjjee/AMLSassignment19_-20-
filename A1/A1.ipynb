{
 "cells": [
  {
   "cell_type": "markdown",
   "metadata": {},
   "source": [
    "# Import the relevant libraries"
   ]
  },
  {
   "cell_type": "code",
   "execution_count": 2,
   "metadata": {},
   "outputs": [],
   "source": [
    "# import libraries\n",
    "import numpy as np\n",
    "import matplotlib.pyplot as plt\n",
    "from sklearn import svm, datasets\n",
    "from sklearn.svm import SVC\n",
    "from sklearn.model_selection import train_test_split\n",
    "from sklearn.utils import shuffle\n",
    "from sklearn.metrics import classification_report,accuracy_score\n",
    "import pandas as pd\n",
    "from sklearn.datasets import load_iris ##\n",
    "import os\n",
    "from sklearn.metrics import classification_report,accuracy_score\n",
    "from sklearn import svm"
   ]
  },
  {
   "cell_type": "markdown",
   "metadata": {},
   "source": [
    "# Load csv file"
   ]
  },
  {
   "cell_type": "code",
   "execution_count": 3,
   "metadata": {},
   "outputs": [
    {
     "data": {
      "text/html": [
       "<div>\n",
       "<style scoped>\n",
       "    .dataframe tbody tr th:only-of-type {\n",
       "        vertical-align: middle;\n",
       "    }\n",
       "\n",
       "    .dataframe tbody tr th {\n",
       "        vertical-align: top;\n",
       "    }\n",
       "\n",
       "    .dataframe thead th {\n",
       "        text-align: right;\n",
       "    }\n",
       "</style>\n",
       "<table border=\"1\" class=\"dataframe\">\n",
       "  <thead>\n",
       "    <tr style=\"text-align: right;\">\n",
       "      <th></th>\n",
       "      <th>img_name</th>\n",
       "      <th>gender</th>\n",
       "    </tr>\n",
       "  </thead>\n",
       "  <tbody>\n",
       "    <tr>\n",
       "      <td>0</td>\n",
       "      <td>0.jpg</td>\n",
       "      <td>-1</td>\n",
       "    </tr>\n",
       "    <tr>\n",
       "      <td>1</td>\n",
       "      <td>1.jpg</td>\n",
       "      <td>-1</td>\n",
       "    </tr>\n",
       "    <tr>\n",
       "      <td>2</td>\n",
       "      <td>2.jpg</td>\n",
       "      <td>1</td>\n",
       "    </tr>\n",
       "    <tr>\n",
       "      <td>3</td>\n",
       "      <td>3.jpg</td>\n",
       "      <td>-1</td>\n",
       "    </tr>\n",
       "    <tr>\n",
       "      <td>4</td>\n",
       "      <td>4.jpg</td>\n",
       "      <td>-1</td>\n",
       "    </tr>\n",
       "    <tr>\n",
       "      <td>...</td>\n",
       "      <td>...</td>\n",
       "      <td>...</td>\n",
       "    </tr>\n",
       "    <tr>\n",
       "      <td>4995</td>\n",
       "      <td>4995.jpg</td>\n",
       "      <td>1</td>\n",
       "    </tr>\n",
       "    <tr>\n",
       "      <td>4996</td>\n",
       "      <td>4996.jpg</td>\n",
       "      <td>1</td>\n",
       "    </tr>\n",
       "    <tr>\n",
       "      <td>4997</td>\n",
       "      <td>4997.jpg</td>\n",
       "      <td>1</td>\n",
       "    </tr>\n",
       "    <tr>\n",
       "      <td>4998</td>\n",
       "      <td>4998.jpg</td>\n",
       "      <td>1</td>\n",
       "    </tr>\n",
       "    <tr>\n",
       "      <td>4999</td>\n",
       "      <td>4999.jpg</td>\n",
       "      <td>1</td>\n",
       "    </tr>\n",
       "  </tbody>\n",
       "</table>\n",
       "<p>5000 rows × 2 columns</p>\n",
       "</div>"
      ],
      "text/plain": [
       "      img_name gender\n",
       "0        0.jpg     -1\n",
       "1        1.jpg     -1\n",
       "2        2.jpg      1\n",
       "3        3.jpg     -1\n",
       "4        4.jpg     -1\n",
       "...        ...    ...\n",
       "4995  4995.jpg      1\n",
       "4996  4996.jpg      1\n",
       "4997  4997.jpg      1\n",
       "4998  4998.jpg      1\n",
       "4999  4999.jpg      1\n",
       "\n",
       "[5000 rows x 2 columns]"
      ]
     },
     "execution_count": 3,
     "metadata": {},
     "output_type": "execute_result"
    }
   ],
   "source": [
    "df = pd.read_csv(\"/Users/Hyunjee/Desktop/AMLS_19-20_SN16075203/Datasets/celeba/labels.csv\")\n",
    "df = pd.DataFrame(df).reset_index()\n",
    "df.columns = ['Index','Total']\n",
    "del df['Index']\n",
    "df[\"Index\"] = df[\"Total\"].str.split(\"\\t\").str[0]\n",
    "df[\"img_name\"] = df[\"Total\"].str.split(\"\\t\").str[1]\n",
    "df[\"gender\"] = df[\"Total\"].str.split(\"\\t\").str[2]\n",
    "#df[\"smiling\"] = df[\"Total\"].str.split(\"\\t\").str[3]\n",
    "del df['Total']\n",
    "del df['Index']\n",
    "df"
   ]
  },
  {
   "cell_type": "markdown",
   "metadata": {},
   "source": [
    "Divide the dataset into female and male dataset.\n",
    "And create the dataset for female and male which contains only the image name for moving the images into the other folder."
   ]
  },
  {
   "cell_type": "code",
   "execution_count": 4,
   "metadata": {},
   "outputs": [
    {
     "data": {
      "text/plain": [
       "(2500, 1)"
      ]
     },
     "execution_count": 4,
     "metadata": {},
     "output_type": "execute_result"
    }
   ],
   "source": [
    "# Gender: -1(Female), 1(Male)\n",
    "\n",
    "celeb_female = df.loc[df['gender'] == '-1']\n",
    "female_img = celeb_female[['img_name']]\n",
    "female_img.shape"
   ]
  },
  {
   "cell_type": "code",
   "execution_count": 5,
   "metadata": {},
   "outputs": [
    {
     "data": {
      "text/plain": [
       "(2500, 1)"
      ]
     },
     "execution_count": 5,
     "metadata": {},
     "output_type": "execute_result"
    }
   ],
   "source": [
    "celeb_male = df.loc[df['gender'] == '1']\n",
    "male_img = celeb_male[['img_name']]\n",
    "male_img.shape"
   ]
  },
  {
   "cell_type": "code",
   "execution_count": 6,
   "metadata": {},
   "outputs": [],
   "source": [
    "import os\n",
    "import glob\n",
    "import shutil\n",
    "\n",
    "import os.path\n",
    "import fnmatch"
   ]
  },
  {
   "cell_type": "markdown",
   "metadata": {},
   "source": [
    "Move images into sub-folder; female and male"
   ]
  },
  {
   "cell_type": "code",
   "execution_count": 7,
   "metadata": {},
   "outputs": [],
   "source": [
    "#src = \"/Users/Hyunjee/Desktop/AMLS_19-20_SN16075203/Datasets/celeba/img\"\n",
    "#dst = \"/Users/Hyunjee/Desktop/AMLS_19-20_SN16075203/Datasets/celeba/train\"\n",
    "\n",
    "os.chdir = \"/Users/Hyunjee/Desktop/AMLS_19-20_SN16075203/Datasets/celeba/img\"\n",
    "src = \"/Users/Hyunjee/Desktop/AMLS_19-20_SN16075203/Datasets/celeba/img\"\n",
    "#os.mkdir(\"/Users/Hyunjee/Desktop/AMLS_19-20_SN16075203/Datasets/celeba/img/female\")\n",
    "dst_female = \"/Users/Hyunjee/Desktop/AMLS_19-20_SN16075203/Datasets/celeba/img/female\"\n",
    "\n",
    "names_female = female_img.img_name.tolist()\n",
    "\n",
    "for filename in os.listdir(src):\n",
    "    for name in names_female:\n",
    "        if name == filename:\n",
    "             # move the file\n",
    "            shutil.move(filename, dst_female)\n",
    "            break"
   ]
  },
  {
   "cell_type": "code",
   "execution_count": 8,
   "metadata": {},
   "outputs": [],
   "source": [
    "#os.mkdir(\"/Users/Hyunjee/Desktop/AMLS_19-20_SN16075203/Datasets/celeba/img/male\")\n",
    "dst_male = \"/Users/Hyunjee/Desktop/AMLS_19-20_SN16075203/Datasets/celeba/img/male\"\n",
    "\n",
    "names_male= male_img.img_name.tolist()\n",
    "\n",
    "for filename in os.listdir(src):\n",
    "    for name in names_male:\n",
    "        if name == filename:\n",
    "             # move the file\n",
    "            shutil.move(filename, dst_male)\n",
    "            break"
   ]
  },
  {
   "cell_type": "markdown",
   "metadata": {},
   "source": [
    "## Split the data"
   ]
  },
  {
   "cell_type": "code",
   "execution_count": 9,
   "metadata": {},
   "outputs": [],
   "source": [
    "import pandas as pd\n",
    "from sklearn import datasets, linear_model\n",
    "from sklearn.model_selection import train_test_split\n",
    "from matplotlib import pyplot as plt"
   ]
  },
  {
   "cell_type": "markdown",
   "metadata": {},
   "source": [
    "Create sub-folder"
   ]
  },
  {
   "cell_type": "code",
   "execution_count": 10,
   "metadata": {},
   "outputs": [
    {
     "ename": "FileExistsError",
     "evalue": "[Errno 17] File exists: '/Users/Hyunjee/Desktop/AMLS_19-20_SN16075203/Datasets/celeba/train/female'",
     "output_type": "error",
     "traceback": [
      "\u001b[0;31m---------------------------------------------------------------------------\u001b[0m",
      "\u001b[0;31mFileExistsError\u001b[0m                           Traceback (most recent call last)",
      "\u001b[0;32m<ipython-input-10-bee5b78a611e>\u001b[0m in \u001b[0;36m<module>\u001b[0;34m\u001b[0m\n\u001b[1;32m      1\u001b[0m \u001b[0;31m#os.mkdir(\"/Users/Hyunjee/Desktop/AMLS_19-20_SN16075203/Datasets/celeba/train\")\u001b[0m\u001b[0;34m\u001b[0m\u001b[0;34m\u001b[0m\u001b[0;34m\u001b[0m\u001b[0m\n\u001b[0;32m----> 2\u001b[0;31m \u001b[0mos\u001b[0m\u001b[0;34m.\u001b[0m\u001b[0mmkdir\u001b[0m\u001b[0;34m(\u001b[0m\u001b[0;34m\"/Users/Hyunjee/Desktop/AMLS_19-20_SN16075203/Datasets/celeba/train/female\"\u001b[0m\u001b[0;34m)\u001b[0m\u001b[0;34m\u001b[0m\u001b[0;34m\u001b[0m\u001b[0m\n\u001b[0m\u001b[1;32m      3\u001b[0m \u001b[0mos\u001b[0m\u001b[0;34m.\u001b[0m\u001b[0mmkdir\u001b[0m\u001b[0;34m(\u001b[0m\u001b[0;34m\"/Users/Hyunjee/Desktop/AMLS_19-20_SN16075203/Datasets/celeba/train/male\"\u001b[0m\u001b[0;34m)\u001b[0m\u001b[0;34m\u001b[0m\u001b[0;34m\u001b[0m\u001b[0m\n\u001b[1;32m      4\u001b[0m \u001b[0;34m\u001b[0m\u001b[0m\n\u001b[1;32m      5\u001b[0m \u001b[0;31m#os.mkdir(\"/Users/Hyunjee/Desktop/AMLS_19-20_SN16075203/Datasets/celeba/test\")\u001b[0m\u001b[0;34m\u001b[0m\u001b[0;34m\u001b[0m\u001b[0;34m\u001b[0m\u001b[0m\n",
      "\u001b[0;31mFileExistsError\u001b[0m: [Errno 17] File exists: '/Users/Hyunjee/Desktop/AMLS_19-20_SN16075203/Datasets/celeba/train/female'"
     ]
    }
   ],
   "source": [
    "#os.mkdir(\"/Users/Hyunjee/Desktop/AMLS_19-20_SN16075203/Datasets/celeba/train\")\n",
    "os.mkdir(\"/Users/Hyunjee/Desktop/AMLS_19-20_SN16075203/Datasets/celeba/train/female\")\n",
    "os.mkdir(\"/Users/Hyunjee/Desktop/AMLS_19-20_SN16075203/Datasets/celeba/train/male\")\n",
    "\n",
    "#os.mkdir(\"/Users/Hyunjee/Desktop/AMLS_19-20_SN16075203/Datasets/celeba/test\")\n",
    "os.mkdir(\"/Users/Hyunjee/Desktop/AMLS_19-20_SN16075203/Datasets/celeba/test/female\")\n",
    "os.mkdir(\"/Users/Hyunjee/Desktop/AMLS_19-20_SN16075203/Datasets/celeba/test/male\")\n",
    "#os.mkdir(\"/Users/Hyunjee/Desktop/AMLS_19-20_SN16075203/Datasets/celeba/validation\")\n",
    "os.mkdir(\"/Users/Hyunjee/Desktop/AMLS_19-20_SN16075203/Datasets/celeba/validation/female\")\n",
    "os.mkdir(\"/Users/Hyunjee/Desktop/AMLS_19-20_SN16075203/Datasets/celeba/validation/male\")\n"
   ]
  },
  {
   "cell_type": "code",
   "execution_count": 339,
   "metadata": {},
   "outputs": [
    {
     "name": "stdout",
     "output_type": "stream",
     "text": [
      "Total images:  2500\n",
      "Training:  1750\n",
      "Validation:  375\n",
      "Testing:  375\n"
     ]
    }
   ],
   "source": [
    "os.chdir = \"/Users/Hyunjee/Desktop/AMLS_19-20_SN16075203/Datasets/celeba/img/female\"\n",
    "\n",
    "src_female = \"/Users/Hyunjee/Desktop/AMLS_19-20_SN16075203/Datasets/celeba/img/female\"\n",
    "src_male = \"/Users/Hyunjee/Desktop/AMLS_19-20_SN16075203/Datasets/celeba/img/male\"\n",
    "\n",
    "allFileNames_female = os.listdir(src_female)\n",
    "np.random.shuffle(allFileNames_female)\n",
    "train, valid, test = np.split(np.array(allFileNames_female),[int(len(allFileNames_female)*0.7), int(len(allFileNames_female)*0.85)])\n",
    "\n",
    "train_female = [src_female+'/'+ name for name in train.tolist()]\n",
    "val_female = [src_female+'/' + name for name in valid.tolist()]\n",
    "test_female = [src_female+'/' + name for name in test.tolist()]\n",
    "\n",
    "print('Total images: ', len(allFileNames_female))\n",
    "print('Training: ', len(train))\n",
    "print('Validation: ', len(valid))\n",
    "print('Testing: ', len(test))\n",
    "\n",
    "# Copy-pasting images\n",
    "for name in train_female:\n",
    "    shutil.move(name, \"/Users/Hyunjee/Desktop/AMLS_19-20_SN16075203/Datasets/celeba/train/female\")\n",
    "\n",
    "for name in val_female:\n",
    "    shutil.move(name, \"/Users/Hyunjee/Desktop/AMLS_19-20_SN16075203/Datasets/celeba/validation/female\")\n",
    "\n",
    "for name in test_female:\n",
    "    shutil.move(name, \"/Users/Hyunjee/Desktop/AMLS_19-20_SN16075203/Datasets/celeba/test/female\")"
   ]
  },
  {
   "cell_type": "code",
   "execution_count": 341,
   "metadata": {},
   "outputs": [
    {
     "name": "stdout",
     "output_type": "stream",
     "text": [
      "Total images:  2500\n",
      "Training:  1750\n",
      "Validation:  375\n",
      "Testing:  375\n"
     ]
    }
   ],
   "source": [
    "os.chdir = \"/Users/Hyunjee/Desktop/AMLS_19-20_SN16075203/Datasets/celeba/img/male\"\n",
    "\n",
    "src_male = \"/Users/Hyunjee/Desktop/AMLS_19-20_SN16075203/Datasets/celeba/img/male\"\n",
    "\n",
    "allFileNames_male = os.listdir(src_male)\n",
    "np.random.shuffle(allFileNames_male)\n",
    "train, valid, test = np.split(np.array(allFileNames_male),[int(len(allFileNames_male)*0.7), int(len(allFileNames_male)*0.85)])\n",
    "\n",
    "train_male = [src_male+'/'+ name for name in train.tolist()]\n",
    "val_male = [src_male+'/' + name for name in valid.tolist()]\n",
    "test_male = [src_male+'/' + name for name in test.tolist()]\n",
    "\n",
    "print('Total images: ', len(allFileNames_male))\n",
    "print('Training: ', len(train))\n",
    "print('Validation: ', len(valid))\n",
    "print('Testing: ', len(test))\n",
    "\n",
    "# Copy-pasting images\n",
    "for name in train_male:\n",
    "    shutil.move(name, \"/Users/Hyunjee/Desktop/AMLS_19-20_SN16075203/Datasets/celeba/train/male\")\n",
    "\n",
    "for name in val_male:\n",
    "    shutil.move(name, \"/Users/Hyunjee/Desktop/AMLS_19-20_SN16075203/Datasets/celeba/validation/male\")\n",
    "\n",
    "for name in test_male:\n",
    "    shutil.move(name, \"/Users/Hyunjee/Desktop/AMLS_19-20_SN16075203/Datasets/celeba/test/male\")"
   ]
  },
  {
   "cell_type": "markdown",
   "metadata": {},
   "source": [
    "## Modelling"
   ]
  },
  {
   "cell_type": "code",
   "execution_count": 11,
   "metadata": {},
   "outputs": [
    {
     "name": "stderr",
     "output_type": "stream",
     "text": [
      "Using TensorFlow backend.\n"
     ]
    }
   ],
   "source": [
    "from keras.layers import Dense, Conv2D, MaxPooling2D, BatchNormalization, GlobalAveragePooling2D\n",
    "\n",
    "from keras import models"
   ]
  },
  {
   "cell_type": "code",
   "execution_count": 3,
   "metadata": {},
   "outputs": [
    {
     "ename": "NameError",
     "evalue": "name 'model' is not defined",
     "output_type": "error",
     "traceback": [
      "\u001b[0;31m---------------------------------------------------------------------------\u001b[0m",
      "\u001b[0;31mNameError\u001b[0m                                 Traceback (most recent call last)",
      "\u001b[0;32m<ipython-input-3-f39142d4564a>\u001b[0m in \u001b[0;36m<module>\u001b[0;34m\u001b[0m\n\u001b[1;32m      1\u001b[0m \u001b[0;31m# starting point\u001b[0m\u001b[0;34m\u001b[0m\u001b[0;34m\u001b[0m\u001b[0;34m\u001b[0m\u001b[0m\n\u001b[0;32m----> 2\u001b[0;31m \u001b[0mmodel_gender\u001b[0m\u001b[0;34m=\u001b[0m \u001b[0mmodel\u001b[0m\u001b[0;34m.\u001b[0m\u001b[0mSequential\u001b[0m\u001b[0;34m(\u001b[0m\u001b[0;34m)\u001b[0m\u001b[0;34m\u001b[0m\u001b[0;34m\u001b[0m\u001b[0m\n\u001b[0m\u001b[1;32m      3\u001b[0m \u001b[0;34m\u001b[0m\u001b[0m\n\u001b[1;32m      4\u001b[0m \u001b[0;31m# Add first convolutional block\u001b[0m\u001b[0;34m\u001b[0m\u001b[0;34m\u001b[0m\u001b[0;34m\u001b[0m\u001b[0m\n\u001b[1;32m      5\u001b[0m \u001b[0mmodel_gender\u001b[0m\u001b[0;34m.\u001b[0m\u001b[0madd\u001b[0m\u001b[0;34m(\u001b[0m\u001b[0mConv2D\u001b[0m\u001b[0;34m(\u001b[0m\u001b[0;36m16\u001b[0m\u001b[0;34m,\u001b[0m \u001b[0;34m(\u001b[0m\u001b[0;36m3\u001b[0m\u001b[0;34m,\u001b[0m \u001b[0;36m3\u001b[0m\u001b[0;34m)\u001b[0m\u001b[0;34m,\u001b[0m \u001b[0mactivation\u001b[0m\u001b[0;34m=\u001b[0m\u001b[0;34m'relu'\u001b[0m\u001b[0;34m,\u001b[0m \u001b[0mpadding\u001b[0m\u001b[0;34m=\u001b[0m\u001b[0;34m'same'\u001b[0m\u001b[0;34m,\u001b[0m\u001b[0minput_shape\u001b[0m\u001b[0;34m=\u001b[0m\u001b[0;34m(\u001b[0m\u001b[0;36m128\u001b[0m\u001b[0;34m,\u001b[0m\u001b[0;36m128\u001b[0m\u001b[0;34m,\u001b[0m\u001b[0;36m3\u001b[0m\u001b[0;34m)\u001b[0m\u001b[0;34m)\u001b[0m\u001b[0;34m)\u001b[0m\u001b[0;34m\u001b[0m\u001b[0;34m\u001b[0m\u001b[0m\n",
      "\u001b[0;31mNameError\u001b[0m: name 'model' is not defined"
     ]
    }
   ],
   "source": [
    "# starting point \n",
    "model_gender= model.Sequential()\n",
    "\n",
    "# Add first convolutional block\n",
    "model_gender.add(Conv2D(16, (3, 3), activation='relu', padding='same',input_shape=(128,128,3)))\n",
    "model_gender.add(MaxPooling2D((2, 2), padding='same'))\n",
    "\n",
    "# second block\n",
    "model_gender.add(Conv2D(32, (3, 3), activation='relu', padding='same'))\n",
    "model_gender.add(MaxPooling2D((2, 2), padding='same'))\n",
    "# third block\n",
    "model_gender.add(Conv2D(64, (3, 3), activation='relu', padding='same'))\n",
    "model_gender.add(MaxPooling2D((2, 2), padding='same'))\n",
    "# fourth block\n",
    "model_gender.add(Conv2D(128, (3, 3), activation='relu', padding='same'))\n",
    "model_gender.add(MaxPooling2D((2, 2), padding='same'))\n",
    "\n",
    "# global average pooling\n",
    "model_gender.add(GlobalAveragePooling2D())\n",
    "# fully connected layer\n",
    "model_gender.add(Dense(64, activation='relu'))\n",
    "model_gender.add(BatchNormalization())\n",
    "# make predictions\n",
    "model_gender.add(Dense(2, activation='sigmoid'))\n",
    "\n",
    "\n",
    "# Show a summary of the model. Check the number of trainable parameters\n",
    "model_gender.summary()"
   ]
  },
  {
   "cell_type": "code",
   "execution_count": 50,
   "metadata": {},
   "outputs": [],
   "source": [
    "# use early stopping to optimally terminate training through callbacks\n",
    "from tensorflow.python.keras.callbacks import EarlyStopping, ModelCheckpoint\n",
    "es=EarlyStopping(monitor='val_loss', mode='min', verbose=1, patience=5)\n",
    "\n",
    "# save best model automatically\n",
    "mc= ModelCheckpoint('/Users/Hyunjee/Desktop/AMLS_19-20_SN16075203/A1/model_gender.h5', monitor='val_loss', mode='min', verbose=1, save_best_only=True)\n",
    "\n",
    "cb_list=[es,mc]\n",
    "\n",
    "\n",
    "# compile model \n",
    "model_gender.compile(optimizer='adam', loss='binary_crossentropy', metrics=['accuracy'])\n"
   ]
  },
  {
   "cell_type": "code",
   "execution_count": 51,
   "metadata": {},
   "outputs": [],
   "source": [
    "\n",
    "from tensorflow.python.keras.applications.vgg16 import preprocess_input\n",
    "from tensorflow.python.keras.preprocessing.image import ImageDataGenerator"
   ]
  },
  {
   "cell_type": "code",
   "execution_count": 57,
   "metadata": {},
   "outputs": [
    {
     "name": "stdout",
     "output_type": "stream",
     "text": [
      "Found 3500 images belonging to 2 classes.\n",
      "Found 750 images belonging to 2 classes.\n",
      "Epoch 1/13\n",
      "109/109 [==============================] - 68s 626ms/step - loss: 0.0206 - accuracy: 0.9932 - val_loss: 0.6887 - val_accuracy: 0.8580\n",
      "\n",
      "Epoch 00001: val_loss did not improve from 0.03482\n",
      "Epoch 2/13\n",
      "109/109 [==============================] - 66s 605ms/step - loss: 0.0480 - accuracy: 0.9808 - val_loss: 0.4000 - val_accuracy: 0.9046\n",
      "\n",
      "Epoch 00002: val_loss did not improve from 0.03482\n",
      "Epoch 3/13\n",
      "109/109 [==============================] - 78s 718ms/step - loss: 0.0271 - accuracy: 0.9886 - val_loss: 0.7624 - val_accuracy: 0.9220\n",
      "\n",
      "Epoch 00003: val_loss did not improve from 0.03482\n",
      "Epoch 4/13\n",
      "109/109 [==============================] - 56s 514ms/step - loss: 0.0365 - accuracy: 0.9869 - val_loss: 0.5193 - val_accuracy: 0.9116\n",
      "\n",
      "Epoch 00004: val_loss did not improve from 0.03482\n",
      "Epoch 5/13\n",
      "109/109 [==============================] - 59s 542ms/step - loss: 0.0289 - accuracy: 0.9889 - val_loss: 0.3577 - val_accuracy: 0.9032\n",
      "\n",
      "Epoch 00005: val_loss did not improve from 0.03482\n",
      "Epoch 6/13\n",
      "109/109 [==============================] - 75s 689ms/step - loss: 0.0199 - accuracy: 0.9944 - val_loss: 0.1227 - val_accuracy: 0.8921\n",
      "\n",
      "Epoch 00006: val_loss did not improve from 0.03482\n",
      "Epoch 7/13\n",
      "109/109 [==============================] - 53s 483ms/step - loss: 0.0147 - accuracy: 0.9950 - val_loss: 0.3159 - val_accuracy: 0.9171\n",
      "\n",
      "Epoch 00007: val_loss did not improve from 0.03482\n",
      "Epoch 8/13\n",
      "109/109 [==============================] - 52s 481ms/step - loss: 0.0188 - accuracy: 0.9929 - val_loss: 0.6664 - val_accuracy: 0.9025\n",
      "\n",
      "Epoch 00008: val_loss did not improve from 0.03482\n",
      "Epoch 9/13\n",
      "109/109 [==============================] - 53s 483ms/step - loss: 0.0212 - accuracy: 0.9924 - val_loss: 0.1338 - val_accuracy: 0.9067\n",
      "\n",
      "Epoch 00009: val_loss did not improve from 0.03482\n",
      "Epoch 10/13\n",
      "109/109 [==============================] - 56s 515ms/step - loss: 0.0127 - accuracy: 0.9958 - val_loss: 0.3230 - val_accuracy: 0.9269\n",
      "\n",
      "Epoch 00010: val_loss did not improve from 0.03482\n",
      "Epoch 11/13\n",
      "109/109 [==============================] - 56s 509ms/step - loss: 0.0080 - accuracy: 0.9983 - val_loss: 0.3567 - val_accuracy: 0.9359\n",
      "\n",
      "Epoch 00011: val_loss did not improve from 0.03482\n",
      "Epoch 00011: early stopping\n"
     ]
    }
   ],
   "source": [
    "# set up data generator\n",
    "data_generator = ImageDataGenerator(preprocessing_function=preprocess_input)\n",
    "\n",
    "# get batches of training images from the directory\n",
    "train_generator = data_generator.flow_from_directory(\n",
    "        '/Users/Hyunjee/Desktop/AMLS_19-20_SN16075203/Datasets/celeba/train',\n",
    "        target_size=(128,128),\n",
    "        batch_size=32,\n",
    "        class_mode='categorical')\n",
    "\n",
    "# get batches of validation images from the directory\n",
    "validation_generator = data_generator.flow_from_directory(\n",
    "        '/Users/Hyunjee/Desktop/AMLS_19-20_SN16075203/Datasets/celeba/validation',\n",
    "        target_size=(128, 128),\n",
    "        batch_size=32,\n",
    "        class_mode='categorical')\n",
    "\n",
    "history = model_gender.fit_generator(\n",
    "        train_generator,\n",
    "        epochs=13,\n",
    "        steps_per_epoch=train_generator.samples // 32,\n",
    "        validation_data=validation_generator,\n",
    "        validation_steps=validation_generator.samples // 32,\n",
    "        callbacks=cb_list)"
   ]
  },
  {
   "cell_type": "code",
   "execution_count": 58,
   "metadata": {},
   "outputs": [
    {
     "data": {
      "image/png": "[encoded data removed]",
      "text/plain": [
       "<Figure size 432x288 with 1 Axes>"
      ]
     },
     "metadata": {
      "needs_background": "light"
     },
     "output_type": "display_data"
    }
   ],
   "source": [
    "# plot training and validation accuracy\n",
    "import matplotlib.pyplot as plt\n",
    "plt.plot(history.history['accuracy'])\n",
    "plt.plot(history.history['val_accuracy'])\n",
    "plt.ylim([.5,1.1])\n",
    "plt.ylabel('Accuracy')\n",
    "plt.xlabel('Epoch')\n",
    "plt.legend(['Train', 'Validation'], loc='upper left')\n",
    "plt.savefig(\"model_gender.png\", dpi=300)"
   ]
  },
  {
   "cell_type": "code",
   "execution_count": 64,
   "metadata": {},
   "outputs": [
    {
     "data": {
      "text/plain": [
       "<matplotlib.legend.Legend at 0x1a425d2048>"
      ]
     },
     "execution_count": 64,
     "metadata": {},
     "output_type": "execute_result"
    },
    {
     "data": {
      "image/png": "[encoded data removed]",
      "text/plain": [
       "<Figure size 432x288 with 1 Axes>"
      ]
     },
     "metadata": {
      "needs_background": "light"
     },
     "output_type": "display_data"
    }
   ],
   "source": [
    "# epochs =13\n",
    "# epoch_nums = range(1,epochs+1)\n",
    "# training_loss = history.history[\"loss\"]\n",
    "# validation_loss = history.history[\"val_loss\"]\n",
    "# plt.plot(epoch_nums, training_loss)\n",
    "# plt.plot(epoch_nums, validation_loss)\n",
    "# plt.xlabel('epoch')\n",
    "# plt.ylabel('loss')\n",
    "# plt.legend(['training', 'validation'], loc='upper right')\n",
    "# plt.show()\n",
    "\n",
    "\n",
    "\n",
    "# plot training and validation accuracy\n",
    "import matplotlib.pyplot as plt\n",
    "plt.plot(history.history[\"loss\"])\n",
    "plt.plot(history.history[\"val_loss\"])\n",
    "#plt.ylim([.5,1.1])\n",
    "plt.ylabel('Accuracy')\n",
    "plt.xlabel('Epoch')\n",
    "plt.legend(['Train', 'Validation'], loc='upper left')\n",
    "#plt.savefig(\"model_gender.png\", dpi=300)"
   ]
  },
  {
   "cell_type": "code",
   "execution_count": null,
   "metadata": {},
   "outputs": [],
   "source": [
    "128,128, epoch=20,batch size=32\n",
    "9696"
   ]
  }
 ],
 "metadata": {
  "kernelspec": {
   "display_name": "Python 3",
   "language": "python",
   "name": "python3"
  },
  "language_info": {
   "codemirror_mode": {
    "name": "ipython",
    "version": 3
   },
   "file_extension": ".py",
   "mimetype": "text/x-python",
   "name": "python",
   "nbconvert_exporter": "python",
   "pygments_lexer": "ipython3",
   "version": "3.6.9"
  }
 },
 "nbformat": 4,
 "nbformat_minor": 4
}
