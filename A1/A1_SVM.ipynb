{
 "cells": [
  {
   "cell_type": "code",
   "execution_count": 1,
   "metadata": {
    "ExecuteTime": {
     "end_time": "2020-01-13T11:20:37.704221Z",
     "start_time": "2020-01-13T11:20:33.873116Z"
    }
   },
   "outputs": [],
   "source": [
    "# Imports\n",
    "import numpy as np\n",
    "import matplotlib.pyplot as plt\n",
    "from sklearn import svm, datasets, preprocessing\n",
    "from scipy import stats\n",
    "from sklearn.model_selection import RandomizedSearchCV\n",
    "from sklearn.metrics import make_scorer, roc_auc_score\n",
    "from sklearn.svm import SVC\n",
    "from sklearn.model_selection import train_test_split\n",
    "from sklearn.utils import shuffle\n",
    "from sklearn.metrics import classification_report,accuracy_score\n",
    "from sklearn.model_selection import train_test_split, GridSearchCV, learning_curve, ShuffleSplit\n",
    "from sklearn.metrics import classification_report, accuracy_score, confusion_matrix, recall_score, precision_score, f1_score\n",
    "from sklearn import svm, datasets\n",
    "from sklearn.metrics import confusion_matrix\n",
    "from sklearn.utils.multiclass import unique_labels\n",
    "import pandas as pd\n",
    "from pandas import DataFrame\n",
    "import os\n",
    "from sklearn import svm\n",
    "from tqdm._tqdm_notebook import tqdm_notebook"
   ]
  },
  {
   "cell_type": "markdown",
   "metadata": {},
   "source": [
    "## Data Preparation"
   ]
  },
  {
   "cell_type": "code",
   "execution_count": 2,
   "metadata": {
    "ExecuteTime": {
     "end_time": "2020-01-13T11:23:51.334052Z",
     "start_time": "2020-01-13T11:20:37.708030Z"
    }
   },
   "outputs": [
    {
     "name": "stderr",
     "output_type": "stream",
     "text": [
      "Using TensorFlow backend.\n"
     ]
    },
    {
     "data": {
      "application/vnd.jupyter.widget-view+json": {
       "model_id": "81de28aac2cc40faab451c699ccf8313",
       "version_major": 2,
       "version_minor": 0
      },
      "text/plain": [
       "HBox(children=(IntProgress(value=0, max=5000), HTML(value='')))"
      ]
     },
     "metadata": {},
     "output_type": "display_data"
    },
    {
     "name": "stdout",
     "output_type": "stream",
     "text": [
      "\n"
     ]
    }
   ],
   "source": [
    "# Import landmarks\n",
    "import lab2_landmarks as l2\n",
    "\n",
    "def load_data_A1():\n",
    "    # l2.extract_features_labels(Target Index)\n",
    "    # Target Index from lab2_landmarks: \n",
    "    #         2 (Gender_label), 3 (Emotion_label)\n",
    "    return l2.extract_features_labels(2)\n",
    "\n",
    "\n",
    "# x: feature, y: label\n",
    "x, y = load_data_A1()"
   ]
  },
  {
   "cell_type": "code",
   "execution_count": 3,
   "metadata": {
    "ExecuteTime": {
     "end_time": "2020-01-13T11:25:16.346948Z",
     "start_time": "2020-01-13T11:25:16.261439Z"
    }
   },
   "outputs": [],
   "source": [
    "def split_data_A1(x, y):\n",
    "\n",
    "    # Transpose of y\n",
    "    yT = np.array([y, -(y - 1)]).T\n",
    "\n",
    "    # Train-test split\n",
    "    x_tr, x_te, y_tr, y_te = train_test_split(x, yT, train_size = 0.8, random_state=0)\n",
    "    \n",
    "    return x, yT, x_tr, x_te, y_tr, y_te\n",
    "\n",
    "x, yT, x_tr, x_te, y_tr, y_te = split_data_A1(x,y)"
   ]
  },
  {
   "cell_type": "code",
   "execution_count": 4,
   "metadata": {
    "ExecuteTime": {
     "end_time": "2020-01-13T11:25:19.822422Z",
     "start_time": "2020-01-13T11:25:19.781033Z"
    }
   },
   "outputs": [],
   "source": [
    "# Data reshaping\n",
    "def reshapeX_A1(x):\n",
    "    return x.reshape((x.shape[0], x.shape[1] * x.shape[2]))\n",
    "\n",
    "def reshapeY_A1(y):\n",
    "    return list(zip(*y))[0]\n",
    "\n",
    "def prepare_data_A1(x_tr, x_te, y_tr, y_te):\n",
    "    # Generate and reshape the train and test dataset \n",
    "    train_images = reshapeX_A1(x_tr)\n",
    "    test_images = reshapeX_A1(x_te)\n",
    "    train_labels = reshapeY_A1(y_tr)\n",
    "    test_labels = reshapeY_A1(y_te)\n",
    "    \n",
    "    return train_images, test_images, train_labels, test_labels \n",
    "\n",
    "train_images, test_images, train_labels, test_labels = prepare_data_A1(x_tr, x_te, y_tr, y_te)\n",
    "\n",
    "\n",
    "    "
   ]
  },
  {
   "cell_type": "markdown",
   "metadata": {
    "ExecuteTime": {
     "end_time": "2020-01-13T10:04:43.677077Z",
     "start_time": "2020-01-13T10:04:43.537704Z"
    }
   },
   "source": [
    "## New Test Data Generation"
   ]
  },
  {
   "cell_type": "code",
   "execution_count": 6,
   "metadata": {
    "ExecuteTime": {
     "end_time": "2020-01-13T11:25:28.006066Z",
     "start_time": "2020-01-13T11:25:25.579912Z"
    }
   },
   "outputs": [],
   "source": [
    "## Import new landmarks for new test dataset\n",
    "import lab2_landmarks_test as l2_test\n",
    "from lab2_landmarks_test import *\n"
   ]
  },
  {
   "cell_type": "code",
   "execution_count": 9,
   "metadata": {
    "ExecuteTime": {
     "end_time": "2020-01-13T11:25:39.478225Z",
     "start_time": "2020-01-13T11:25:39.474363Z"
    }
   },
   "outputs": [],
   "source": [
    "def load_test_data_A1():\n",
    "    # l2.extract_features_labels(Target Index)\n",
    "    \n",
    "    # Target Index from lab2_landmarks: \n",
    "    #         2 (Gender_label), 3 (Emotion_label)\n",
    "\n",
    "    return l2_test.extract_features_labels_test(2)\n",
    "\n",
    "\n"
   ]
  },
  {
   "cell_type": "code",
   "execution_count": 45,
   "metadata": {
    "ExecuteTime": {
     "end_time": "2020-01-13T12:59:43.932782Z",
     "start_time": "2020-01-13T12:59:04.795099Z"
    }
   },
   "outputs": [
    {
     "data": {
      "application/vnd.jupyter.widget-view+json": {
       "model_id": "f3c73dcb0288446b9455fc09b1ee44f9",
       "version_major": 2,
       "version_minor": 0
      },
      "text/plain": [
       "HBox(children=(IntProgress(value=0, max=1000), HTML(value='')))"
      ]
     },
     "metadata": {},
     "output_type": "display_data"
    },
    {
     "name": "stdout",
     "output_type": "stream",
     "text": [
      "\n"
     ]
    }
   ],
   "source": [
    "# a: feature, b: label\n",
    "a, b = load_test_data_A1()"
   ]
  },
  {
   "cell_type": "code",
   "execution_count": 46,
   "metadata": {
    "ExecuteTime": {
     "end_time": "2020-01-13T13:00:59.268401Z",
     "start_time": "2020-01-13T13:00:59.204495Z"
    }
   },
   "outputs": [],
   "source": [
    "def newdata_prep_A1(x,y):\n",
    "    yT = np.array([y, -(y - 1)]).T\n",
    "    images = reshapeX_A1(x)\n",
    "    labels = reshapeY_A1(yT)\n",
    "    return images, labels\n",
    "\n",
    "new_image, new_label = newdata_prep_A1(a,b)"
   ]
  },
  {
   "cell_type": "markdown",
   "metadata": {},
   "source": [
    "## SVM Model Training using RandomSearchCV"
   ]
  },
  {
   "cell_type": "code",
   "execution_count": 13,
   "metadata": {
    "ExecuteTime": {
     "end_time": "2020-01-13T11:31:27.338558Z",
     "start_time": "2020-01-13T11:31:27.320964Z"
    }
   },
   "outputs": [],
   "source": [
    "# Define the range of hyperparamter\n",
    "\n",
    "def param_rs_linear_A1():\n",
    "    \n",
    "    param = {'C': stats.uniform(0.1, 10),\n",
    "             'kernel': ['linear']}\n",
    "\n",
    "    return param\n",
    "\n",
    "def param_rs_rbf_A1():\n",
    "    \n",
    "    param = {'C': stats.uniform(0.1, 10),\n",
    "             'gamma': stats.uniform(0.001, 0.01),\n",
    "             'kernel': ['rbf']}\n",
    "\n",
    "    return param\n",
    "\n",
    "def param_rs_poly_A1():\n",
    "    \n",
    "    param = {'C': stats.uniform(0.01, 10),\n",
    "             'degree': stats.uniform(1, 4),\n",
    "             'kernel': ['poly']}\n",
    "\n",
    "    return param\n",
    "\n"
   ]
  },
  {
   "cell_type": "code",
   "execution_count": 14,
   "metadata": {
    "ExecuteTime": {
     "end_time": "2020-01-13T11:31:28.032711Z",
     "start_time": "2020-01-13T11:31:28.019335Z"
    }
   },
   "outputs": [],
   "source": [
    "param_rs_linear = param_rs_linear_A1()\n",
    "param_rs_rbf = param_rs_rbf_A1()\n",
    "param_rs_poly = param_rs_poly_A1()"
   ]
  },
  {
   "cell_type": "code",
   "execution_count": 15,
   "metadata": {
    "ExecuteTime": {
     "end_time": "2020-01-13T11:31:28.745617Z",
     "start_time": "2020-01-13T11:31:28.739525Z"
    }
   },
   "outputs": [],
   "source": [
    "# Use RamdomizedSearchCV to find the best hyperparameter combination\n",
    "\n",
    "def randomSearch_A1(X, y, param_kernel):\n",
    "    #param_distributions = param_kernel \n",
    "    random_search = RandomizedSearchCV(SVC(), param_kernel, n_iter=10, n_jobs=-1, refit=True, verbose=3)\n",
    "    random_search.fit(X, y)\n",
    "    random_search.cv_results_\n",
    "\n",
    "    return random_search.best_params_, random_search.best_estimator_\n"
   ]
  },
  {
   "cell_type": "code",
   "execution_count": 16,
   "metadata": {
    "ExecuteTime": {
     "end_time": "2020-01-13T12:36:55.085661Z",
     "start_time": "2020-01-13T11:31:29.612065Z"
    }
   },
   "outputs": [
    {
     "name": "stdout",
     "output_type": "stream",
     "text": [
      "Fitting 5 folds for each of 10 candidates, totalling 50 fits\n"
     ]
    },
    {
     "name": "stderr",
     "output_type": "stream",
     "text": [
      "[Parallel(n_jobs=-1)]: Using backend LokyBackend with 4 concurrent workers.\n",
      "[Parallel(n_jobs=-1)]: Done  24 tasks      | elapsed: 32.0min\n",
      "[Parallel(n_jobs=-1)]: Done  50 out of  50 | elapsed: 63.6min finished\n"
     ]
    }
   ],
   "source": [
    "# Obtaining optimum hyperparameters and classifier for different kernel\n",
    "rs_linear_param, rs_linear = randomSearch_A1(train_images, train_labels, param_rs_linear)\n"
   ]
  },
  {
   "cell_type": "code",
   "execution_count": 17,
   "metadata": {
    "ExecuteTime": {
     "end_time": "2020-01-13T12:38:00.186914Z",
     "start_time": "2020-01-13T12:36:55.104356Z"
    }
   },
   "outputs": [
    {
     "name": "stdout",
     "output_type": "stream",
     "text": [
      "Fitting 5 folds for each of 10 candidates, totalling 50 fits\n"
     ]
    },
    {
     "name": "stderr",
     "output_type": "stream",
     "text": [
      "[Parallel(n_jobs=-1)]: Using backend LokyBackend with 4 concurrent workers.\n",
      "[Parallel(n_jobs=-1)]: Done  24 tasks      | elapsed:   32.4s\n",
      "[Parallel(n_jobs=-1)]: Done  50 out of  50 | elapsed:  1.0min finished\n"
     ]
    }
   ],
   "source": [
    "rs_rbf_param, rs_rbf= randomSearch_A1(train_images, train_labels, param_rs_rbf)\n"
   ]
  },
  {
   "cell_type": "code",
   "execution_count": 18,
   "metadata": {
    "ExecuteTime": {
     "end_time": "2020-01-13T12:38:47.966382Z",
     "start_time": "2020-01-13T12:38:00.191480Z"
    }
   },
   "outputs": [
    {
     "name": "stdout",
     "output_type": "stream",
     "text": [
      "Fitting 5 folds for each of 10 candidates, totalling 50 fits\n"
     ]
    },
    {
     "name": "stderr",
     "output_type": "stream",
     "text": [
      "[Parallel(n_jobs=-1)]: Using backend LokyBackend with 4 concurrent workers.\n",
      "[Parallel(n_jobs=-1)]: Done  24 tasks      | elapsed:   13.8s\n",
      "[Parallel(n_jobs=-1)]: Done  50 out of  50 | elapsed:   46.2s finished\n"
     ]
    }
   ],
   "source": [
    "rs_poly_param, rs_poly = randomSearch_A1(train_images, train_labels, param_rs_poly)\n"
   ]
  },
  {
   "cell_type": "code",
   "execution_count": 19,
   "metadata": {
    "ExecuteTime": {
     "end_time": "2020-01-13T12:38:48.844947Z",
     "start_time": "2020-01-13T12:38:47.971938Z"
    },
    "scrolled": false
   },
   "outputs": [
    {
     "name": "stdout",
     "output_type": "stream",
     "text": [
      "\n",
      "Optimal  hyper-parameters combination (Kernel: Linear):\n",
      "{'C': 3.1415667810755807, 'kernel': 'linear'}\n",
      "\n",
      "Accuracy Score (Kernel: Linear):\n",
      "0.8967674661105318\n",
      "\n",
      "Optimal  hyper-parameters combination (Kernel: RBF):\n",
      "{'C': 6.243948432244372, 'gamma': 0.003012493323561081, 'kernel': 'rbf'}\n",
      "\n",
      "Accuracy Score (Kernel: RBF):\n",
      "0.848800834202294\n",
      "\n",
      "Optimal  hyper-parametersand combination (Kernel: Polynomial):\n",
      "{'C': 9.109186022709416, 'degree': 3.5607644421631077, 'kernel': 'poly'}\n",
      "\n",
      "Accuracy Score (Kernel: Polynomial):\n",
      "0.908237747653806\n"
     ]
    }
   ],
   "source": [
    "# Display optimum hyperparameters for SVC kernel\n",
    "print('\\nOptimal  hyper-parameters combination (Kernel: Linear):')\n",
    "print(rs_linear_param)\n",
    "print('\\nAccuracy Score (Kernel: Linear):')\n",
    "print(rs_linear.score(test_images, test_labels))\n",
    "\n",
    "print('\\nOptimal  hyper-parameters combination (Kernel: RBF):')\n",
    "print(rs_rbf_param)\n",
    "print('\\nAccuracy Score (Kernel: RBF):')\n",
    "print(rs_rbf.score(test_images, test_labels))\n",
    "\n",
    "print('\\nOptimal  hyper-parametersand combination (Kernel: Polynomial):')\n",
    "print(rs_poly_param)\n",
    "print('\\nAccuracy Score (Kernel: Polynomial):')\n",
    "print(rs_poly.score(test_images, test_labels))"
   ]
  },
  {
   "cell_type": "markdown",
   "metadata": {},
   "source": [
    "## Accuray score with three different kernels"
   ]
  },
  {
   "cell_type": "code",
   "execution_count": 20,
   "metadata": {
    "ExecuteTime": {
     "end_time": "2020-01-13T12:38:49.719478Z",
     "start_time": "2020-01-13T12:38:48.849862Z"
    }
   },
   "outputs": [
    {
     "name": "stdout",
     "output_type": "stream",
     "text": [
      "  Types of Kernel  Accuracy Score\n",
      "0          Linear        0.896767\n",
      "1             RBF        0.848801\n",
      "2      Polynomial        0.908238\n"
     ]
    }
   ],
   "source": [
    "# Print out each kernel functions with accuracy scores\n",
    "acc_scores = {'Types of Kernel' : ['Linear','RBF','Polynomial'],\n",
    "           'Accuracy Score' : [rs_linear.score(test_images, test_labels), rs_rbf.score(test_images, test_labels), rs_poly.score(test_images, test_labels)]}\n",
    "\n",
    "df_kernel_scores = DataFrame(acc_scores, columns= ['Types of Kernel', 'Accuracy Score'])\n",
    "print(df_kernel_scores)\n"
   ]
  },
  {
   "cell_type": "code",
   "execution_count": 21,
   "metadata": {
    "ExecuteTime": {
     "end_time": "2020-01-13T12:38:49.731490Z",
     "start_time": "2020-01-13T12:38:49.722860Z"
    }
   },
   "outputs": [],
   "source": [
    "def val_acc_A1(x):\n",
    "    score = x.score(test_images, test_labels)\n",
    "    return score\n",
    "\n",
    "def train_acc_A1(x):\n",
    "    score = x.score(train_images, train_labels)\n",
    "    return score"
   ]
  },
  {
   "cell_type": "code",
   "execution_count": 22,
   "metadata": {
    "ExecuteTime": {
     "end_time": "2020-01-13T12:38:49.892595Z",
     "start_time": "2020-01-13T12:38:49.734187Z"
    }
   },
   "outputs": [
    {
     "data": {
      "text/plain": [
       "0.908237747653806"
      ]
     },
     "execution_count": 22,
     "metadata": {},
     "output_type": "execute_result"
    }
   ],
   "source": [
    "val_acc = val_acc_A1(rs_poly)\n",
    "val_acc\n"
   ]
  },
  {
   "cell_type": "code",
   "execution_count": 23,
   "metadata": {
    "ExecuteTime": {
     "end_time": "2020-01-13T12:38:50.427186Z",
     "start_time": "2020-01-13T12:38:49.898752Z"
    }
   },
   "outputs": [
    {
     "data": {
      "text/plain": [
       "0.9452554744525548"
      ]
     },
     "execution_count": 23,
     "metadata": {},
     "output_type": "execute_result"
    }
   ],
   "source": [
    "train_acc = train_acc_A1(rs_poly)\n",
    "train_acc"
   ]
  },
  {
   "cell_type": "markdown",
   "metadata": {},
   "source": [
    "## Model Prediction"
   ]
  },
  {
   "cell_type": "code",
   "execution_count": 24,
   "metadata": {
    "ExecuteTime": {
     "end_time": "2020-01-13T12:38:50.438229Z",
     "start_time": "2020-01-13T12:38:50.430951Z"
    }
   },
   "outputs": [],
   "source": [
    "def prediction_A1(best_estimator):\n",
    "    clf = best_estimator\n",
    "    pred = clf.predict(test_images)\n",
    "    return pred"
   ]
  },
  {
   "cell_type": "code",
   "execution_count": 25,
   "metadata": {
    "ExecuteTime": {
     "end_time": "2020-01-13T12:38:50.557805Z",
     "start_time": "2020-01-13T12:38:50.441473Z"
    }
   },
   "outputs": [],
   "source": [
    "pred_linear = prediction_A1(rs_linear)"
   ]
  },
  {
   "cell_type": "code",
   "execution_count": 26,
   "metadata": {
    "ExecuteTime": {
     "end_time": "2020-01-13T12:38:51.032441Z",
     "start_time": "2020-01-13T12:38:50.560867Z"
    }
   },
   "outputs": [],
   "source": [
    "pred_rbf = prediction_A1(rs_rbf)"
   ]
  },
  {
   "cell_type": "code",
   "execution_count": 27,
   "metadata": {
    "ExecuteTime": {
     "end_time": "2020-01-13T12:38:51.153581Z",
     "start_time": "2020-01-13T12:38:51.035500Z"
    }
   },
   "outputs": [],
   "source": [
    "pred_poly = prediction_A1(rs_poly)"
   ]
  },
  {
   "cell_type": "markdown",
   "metadata": {},
   "source": [
    "## Model Validation - Learning Curve"
   ]
  },
  {
   "cell_type": "code",
   "execution_count": 28,
   "metadata": {
    "ExecuteTime": {
     "end_time": "2020-01-13T12:38:51.176631Z",
     "start_time": "2020-01-13T12:38:51.156827Z"
    }
   },
   "outputs": [],
   "source": [
    "# Plot Lenarning curve for model evaluation\n",
    "def plot_learning_curve(estimator, title, X, y, axes=None, ylim=None, cv=None,\n",
    "                        n_jobs=None, train_sizes=np.linspace(.1, 1.0, 5)):\n",
    "    axes.set_xlabel(\"Training examples\")\n",
    "    axes.set_ylabel(\"Accuray Score\")\n",
    "\n",
    "    train_sizes, train_scores, test_scores = learning_curve(estimator, X, y,\n",
    "                                                                          cv=cv, n_jobs=n_jobs,\n",
    "                                                                          train_sizes=train_sizes)\n",
    "    \n",
    "    # Compute the mean and stand deviation values for training and test scores\n",
    "    train_scores_mean = np.mean(train_scores, axis=1)\n",
    "    train_scores_std = np.std(train_scores, axis=1)\n",
    "    test_scores_mean = np.mean(test_scores, axis=1)\n",
    "    test_scores_std = np.std(test_scores, axis=1)\n",
    "\n",
    "    # Plot learning curve\n",
    "    axes.grid()\n",
    "    axes.fill_between(train_sizes, train_scores_mean - train_scores_std,\n",
    "                         train_scores_mean + train_scores_std, alpha=0.1,\n",
    "                         color=\"r\")\n",
    "    axes.fill_between(train_sizes, test_scores_mean - test_scores_std,\n",
    "                         test_scores_mean + test_scores_std, alpha=0.1,\n",
    "                         color=\"g\")\n",
    "    axes.plot(train_sizes, train_scores_mean, 'o-', color=\"r\",\n",
    "                 label=\"Training score\")\n",
    "    axes.plot(train_sizes, test_scores_mean, 'o-', color=\"g\",\n",
    "                 label=\"Cross-validation score\")\n",
    "    axes.legend(loc=\"best\")\n",
    "    \n",
    "    return plt"
   ]
  },
  {
   "cell_type": "code",
   "execution_count": 61,
   "metadata": {
    "ExecuteTime": {
     "end_time": "2020-01-13T13:19:21.738909Z",
     "start_time": "2020-01-13T13:18:42.563508Z"
    }
   },
   "outputs": [
    {
     "name": "stdout",
     "output_type": "stream",
     "text": [
      "Running at 2020-01-13 13:18:42.660575\n"
     ]
    },
    {
     "data": {
      "image/png": "[encoded data removed]",
      "text/plain": [
       "<Figure size 432x288 with 1 Axes>"
      ]
     },
     "metadata": {
      "needs_background": "light"
     },
     "output_type": "display_data"
    }
   ],
   "source": [
    "from datetime import datetime\n",
    "\n",
    "print('Running at', str(datetime.now()))\n",
    "\n",
    "fig, axes = plt.subplots(1, 1)\n",
    "\n",
    "X = reshapeX_A1(x)\n",
    "y = reshapeY_A1(yT)\n",
    "\n",
    "#final_clf_lin = SVC(C= 0.1, gamma = 0.001, kernel = 'linear')\n",
    "#final_clf_rbf = SVC(C= 10, gamma = 0.001, kernel='rbf')\n",
    "final_clf_poly = SVC(C=9.109186022709416, degree = 3.5607644421631077, kernel='poly')\n",
    "\n",
    "\n",
    "estimator = final_clf_poly\n",
    "\n",
    "title = 'Learning Curves (Kernel = Poly)'\n",
    "cv = ShuffleSplit(n_splits = 10, test_size = 0.2, random_state = 0)\n",
    "\n",
    "plt = plot_learning_curve(estimator, title, X, y, axes = axes, cv = cv, n_jobs = -1)\n",
    "    \n",
    "plt.show()\n",
    " "
   ]
  },
  {
   "cell_type": "markdown",
   "metadata": {
    "ExecuteTime": {
     "end_time": "2020-01-12T11:46:18.546861Z",
     "start_time": "2020-01-12T11:38:51.593Z"
    }
   },
   "source": [
    "## Model Evaluation - Confusion Matrix"
   ]
  },
  {
   "cell_type": "code",
   "execution_count": 30,
   "metadata": {
    "ExecuteTime": {
     "end_time": "2020-01-13T12:39:15.304154Z",
     "start_time": "2020-01-13T12:39:14.245645Z"
    }
   },
   "outputs": [
    {
     "name": "stdout",
     "output_type": "stream",
     "text": [
      "Non-normalized Confusion Matrix\n",
      "[[439  47]\n",
      " [ 41 432]]\n",
      "Normalized confusion matrix\n",
      "[[0.9  0.1 ]\n",
      " [0.09 0.91]]\n"
     ]
    },
    {
     "data": {
      "image/png": "[encoded data removed]",
      "text/plain": [
       "<Figure size 432x288 with 2 Axes>"
      ]
     },
     "metadata": {
      "needs_background": "light"
     },
     "output_type": "display_data"
    },
    {
     "data": {
      "image/png": "[encoded data removed]",
      "text/plain": [
       "<Figure size 432x288 with 2 Axes>"
      ]
     },
     "metadata": {
      "needs_background": "light"
     },
     "output_type": "display_data"
    }
   ],
   "source": [
    "# Define the name of each class\n",
    "class_names = np.array(['Male', 'Female'])\n",
    "\n",
    "# Plt confusion matrix\n",
    "def plot_confusion_matrix(y_true, y_pred, classes,\n",
    "                          normalize=False,\n",
    "                          title=None,\n",
    "                          cmap=plt.cm.Blues):\n",
    "    \"\"\"\n",
    "    This function prints and plots the confusion matrix.\n",
    "    Normalization can be applied by setting `normalize=True`.\n",
    "    \"\"\"\n",
    "    if not title:\n",
    "        if normalize:\n",
    "            title = 'Normalized Confusion Matrix'\n",
    "        else:\n",
    "            title = 'Non-normalized Confusion Matrix'\n",
    "\n",
    "    # Compute confusion matrix\n",
    "    cm = confusion_matrix(test_labels, pred_poly)\n",
    "    classes = class_names\n",
    "    \n",
    "    if normalize:\n",
    "        cm = cm.astype('float') / cm.sum(axis=1)[:, np.newaxis]\n",
    "        print(\"Normalized confusion matrix\")\n",
    "    else:\n",
    "        print('Non-normalized Confusion Matrix')\n",
    "\n",
    "    fig, ax = plt.subplots()\n",
    "    im = ax.imshow(cm, interpolation=None, cmap=cmap)\n",
    "    \n",
    "    print(cm)\n",
    "    ax.figure.colorbar(im, ax=ax)\n",
    "\n",
    "    for i in range(len(ax.yaxis.get_major_ticks())):\n",
    "        ax.yaxis.get_major_ticks()[i].label1.set_visible(False)\n",
    "        \n",
    "    for i in [2, 6]:\n",
    "        ax.yaxis.get_major_ticks()[i].label1.set_visible(True)\n",
    "        \n",
    "    ax.set(\n",
    "        xticks = np.arange(cm.shape[1]),\n",
    "       # ... and label them with the respective list entries\n",
    "       xticklabels=classes, yticklabels=[0, 0, classes[0], 0, 0, 0, classes[1], 0, 0],\n",
    "       title=title,\n",
    "       ylabel='True label',\n",
    "       xlabel='Predicted label'\n",
    "    )\n",
    "    \n",
    "    # Rotate the tick labels and set their alignment.\n",
    "    plt.setp(ax.get_xticklabels(), rotation=45, ha=\"right\",\n",
    "             rotation_mode=\"anchor\")\n",
    "\n",
    "    # Loop over data dimensions and create text annotations.\n",
    "    fmt = '.2f' if normalize else 'd'\n",
    "    thresh = cm.max() / 2.\n",
    "    for i in range(cm.shape[0]):\n",
    "        for j in range(cm.shape[1]):\n",
    "            ax.text(j, i, format(cm[i, j], fmt),\n",
    "                    ha=\"center\", va=\"center\",\n",
    "                    color=\"white\" if cm[i, j] > thresh else \"black\")\n",
    "    fig.tight_layout()\n",
    "    return ax\n",
    "\n",
    "\n",
    "np.set_printoptions(precision=2)\n",
    "\n",
    "# Plot non-normalized confusion matrix\n",
    "plot_confusion_matrix(test_images, pred_poly, classes=class_names,\n",
    "                      title='Non-normalized Confusion Matrix')\n",
    "\n",
    "# Plot normalized confusion matrix\n",
    "plot_confusion_matrix(test_images, pred_poly, classes=class_names, normalize=True,\n",
    "                      title='Normalized confusion matrix')\n",
    "\n",
    "plt.show()"
   ]
  },
  {
   "cell_type": "markdown",
   "metadata": {},
   "source": [
    "## Model Testing on New Dataset"
   ]
  },
  {
   "cell_type": "code",
   "execution_count": 58,
   "metadata": {
    "ExecuteTime": {
     "end_time": "2020-01-13T13:12:01.423011Z",
     "start_time": "2020-01-13T13:12:01.418346Z"
    }
   },
   "outputs": [],
   "source": [
    "def new_prediction_A1(best_estimator):\n",
    "    clf = best_estimator\n",
    "    pred = clf.predict(new_image)\n",
    "    return pred"
   ]
  },
  {
   "cell_type": "code",
   "execution_count": 60,
   "metadata": {
    "ExecuteTime": {
     "end_time": "2020-01-13T13:14:53.309742Z",
     "start_time": "2020-01-13T13:14:53.091926Z"
    }
   },
   "outputs": [
    {
     "data": {
      "text/plain": [
       "0.9081527347781218"
      ]
     },
     "execution_count": 60,
     "metadata": {},
     "output_type": "execute_result"
    }
   ],
   "source": [
    "new_pred = new_prediction_A1(rs_poly)\n",
    "new_acc = accuracy_score(new_label, new_pred)\n",
    "new_acc"
   ]
  },
  {
   "cell_type": "code",
   "execution_count": null,
   "metadata": {},
   "outputs": [],
   "source": []
  }
 ],
 "metadata": {
  "kernelspec": {
   "display_name": "Python 3",
   "language": "python",
   "name": "python3"
  },
  "language_info": {
   "codemirror_mode": {
    "name": "ipython",
    "version": 3
   },
   "file_extension": ".py",
   "mimetype": "text/x-python",
   "name": "python",
   "nbconvert_exporter": "python",
   "pygments_lexer": "ipython3",
   "version": "3.6.9"
  }
 },
 "nbformat": 4,
 "nbformat_minor": 4
}
