{
 "cells": [
  {
   "cell_type": "markdown",
   "metadata": {},
   "source": [
    "# Load csv file"
   ]
  },
  {
   "cell_type": "code",
   "execution_count": 2,
   "metadata": {},
   "outputs": [
    {
     "name": "stderr",
     "output_type": "stream",
     "text": [
      "Using TensorFlow backend.\n"
     ]
    }
   ],
   "source": [
    "# import libraries\n",
    "import numpy as np\n",
    "import matplotlib.pyplot as plt\n",
    "from sklearn import svm, datasets\n",
    "from sklearn.svm import SVC\n",
    "from sklearn.model_selection import train_test_split\n",
    "from sklearn.utils import shuffle\n",
    "from sklearn.metrics import classification_report,accuracy_score\n",
    "import pandas as pd\n",
    "from sklearn.datasets import load_iris ##\n",
    "import os\n",
    "from sklearn.metrics import classification_report,accuracy_score\n",
    "import glob\n",
    "import shutil\n",
    "import os.path\n",
    "import fnmatch\n",
    "import dlib\n",
    "from keras.preprocessing import image\n",
    "import cv2"
   ]
  },
  {
   "cell_type": "code",
   "execution_count": 3,
   "metadata": {},
   "outputs": [],
   "source": [
    "import numpy as np\n",
    "from sklearn.metrics import classification_report,accuracy_score\n",
    "from sklearn import svm"
   ]
  },
  {
   "cell_type": "code",
   "execution_count": 17,
   "metadata": {},
   "outputs": [
    {
     "name": "stdout",
     "output_type": "stream",
     "text": [
      "/Users/Hyunjee/Desktop/AMLS_19-20_SN16075203/A2/celeba\n",
      "/Users/Hyunjee/Desktop/AMLS_19-20_SN16075203/A2/celeba\n"
     ]
    }
   ],
   "source": [
    "os.chdir=(\"/Users/Hyunjee/Desktop/AMLS_19-20_SN16075203/A2/celeba\")\n",
    "print(os.path.abspath(os.chdir))\n",
    "basedir = (\"/Users/Hyunjee/Desktop/AMLS_19-20_SN16075203/A2/celeba\")\n",
    "print(os.path.abspath(basedir))"
   ]
  },
  {
   "cell_type": "code",
   "execution_count": 18,
   "metadata": {},
   "outputs": [
    {
     "name": "stdout",
     "output_type": "stream",
     "text": [
      "/Users/Hyunjee/Desktop/AMLS_19-20_SN16075203/A2/celeba\n"
     ]
    }
   ],
   "source": [
    "os.chdir=(\"/Users/Hyunjee/Desktop/AMLS_19-20_SN16075203/A2/celeba\")\n",
    "\n",
    "#basedir = os.path.abspath(os.curdir)\n",
    "\n",
    "images_dir = os.path.join(basedir,'img')\n",
    "# for item in os.listdir(images_dir):\n",
    "#     if not item.startswith('.') and os.path.isfile(os.path.join(images_dir, item)):\n",
    "#         print(len(image_paths))\n",
    "#         print(image_paths)\n",
    "\n",
    "\n",
    "\n",
    "#labels = os.path.join(basedir,'labels.csv')\n",
    "labels = (\"/Users/Hyunjee/Desktop/AMLS_19-20_SN16075203/A2/celeba/labels.csv\")\n",
    "print(os.path.abspath(basedir))\n",
    "#/Users/Hyunjee/Desktop/AMLS_19-20_SN16075203/A2/celeba/labels.csv"
   ]
  },
  {
   "cell_type": "code",
   "execution_count": 19,
   "metadata": {},
   "outputs": [
    {
     "data": {
      "text/html": [
       "<div>\n",
       "<style scoped>\n",
       "    .dataframe tbody tr th:only-of-type {\n",
       "        vertical-align: middle;\n",
       "    }\n",
       "\n",
       "    .dataframe tbody tr th {\n",
       "        vertical-align: top;\n",
       "    }\n",
       "\n",
       "    .dataframe thead th {\n",
       "        text-align: right;\n",
       "    }\n",
       "</style>\n",
       "<table border=\"1\" class=\"dataframe\">\n",
       "  <thead>\n",
       "    <tr style=\"text-align: right;\">\n",
       "      <th></th>\n",
       "      <th>img_name</th>\n",
       "      <th>gender</th>\n",
       "      <th>smiling</th>\n",
       "    </tr>\n",
       "  </thead>\n",
       "  <tbody>\n",
       "    <tr>\n",
       "      <td>0</td>\n",
       "      <td>0.jpg</td>\n",
       "      <td>-1</td>\n",
       "      <td>1</td>\n",
       "    </tr>\n",
       "    <tr>\n",
       "      <td>1</td>\n",
       "      <td>1.jpg</td>\n",
       "      <td>-1</td>\n",
       "      <td>1</td>\n",
       "    </tr>\n",
       "    <tr>\n",
       "      <td>2</td>\n",
       "      <td>2.jpg</td>\n",
       "      <td>1</td>\n",
       "      <td>-1</td>\n",
       "    </tr>\n",
       "    <tr>\n",
       "      <td>3</td>\n",
       "      <td>3.jpg</td>\n",
       "      <td>-1</td>\n",
       "      <td>-1</td>\n",
       "    </tr>\n",
       "    <tr>\n",
       "      <td>4</td>\n",
       "      <td>4.jpg</td>\n",
       "      <td>-1</td>\n",
       "      <td>-1</td>\n",
       "    </tr>\n",
       "    <tr>\n",
       "      <td>...</td>\n",
       "      <td>...</td>\n",
       "      <td>...</td>\n",
       "      <td>...</td>\n",
       "    </tr>\n",
       "    <tr>\n",
       "      <td>4995</td>\n",
       "      <td>4995.jpg</td>\n",
       "      <td>1</td>\n",
       "      <td>1</td>\n",
       "    </tr>\n",
       "    <tr>\n",
       "      <td>4996</td>\n",
       "      <td>4996.jpg</td>\n",
       "      <td>1</td>\n",
       "      <td>1</td>\n",
       "    </tr>\n",
       "    <tr>\n",
       "      <td>4997</td>\n",
       "      <td>4997.jpg</td>\n",
       "      <td>1</td>\n",
       "      <td>1</td>\n",
       "    </tr>\n",
       "    <tr>\n",
       "      <td>4998</td>\n",
       "      <td>4998.jpg</td>\n",
       "      <td>1</td>\n",
       "      <td>1</td>\n",
       "    </tr>\n",
       "    <tr>\n",
       "      <td>4999</td>\n",
       "      <td>4999.jpg</td>\n",
       "      <td>1</td>\n",
       "      <td>1</td>\n",
       "    </tr>\n",
       "  </tbody>\n",
       "</table>\n",
       "<p>5000 rows × 3 columns</p>\n",
       "</div>"
      ],
      "text/plain": [
       "      img_name gender smiling\n",
       "0        0.jpg     -1       1\n",
       "1        1.jpg     -1       1\n",
       "2        2.jpg      1      -1\n",
       "3        3.jpg     -1      -1\n",
       "4        4.jpg     -1      -1\n",
       "...        ...    ...     ...\n",
       "4995  4995.jpg      1       1\n",
       "4996  4996.jpg      1       1\n",
       "4997  4997.jpg      1       1\n",
       "4998  4998.jpg      1       1\n",
       "4999  4999.jpg      1       1\n",
       "\n",
       "[5000 rows x 3 columns]"
      ]
     },
     "execution_count": 19,
     "metadata": {},
     "output_type": "execute_result"
    }
   ],
   "source": [
    "df = pd.read_csv(os.path.abspath(labels))\n",
    "df = pd.DataFrame(df).reset_index()\n",
    "df.columns = ['Index','Total']\n",
    "del df['Index']\n",
    "df[\"Index\"] = df[\"Total\"].str.split(\"\\t\").str[0]\n",
    "df[\"img_name\"] = df[\"Total\"].str.split(\"\\t\").str[1]\n",
    "df[\"gender\"] = df[\"Total\"].str.split(\"\\t\").str[2]\n",
    "df[\"smiling\"] = df[\"Total\"].str.split(\"\\t\").str[3]\n",
    "del df['Total']\n",
    "del df['Index']\n",
    "\n",
    "df.to_csv('/Users/Hyunjee/Desktop/AMLS_19-20_SN16075203/A2/celeba/celeb_labels.csv', index=False)\n",
    "labels_filename = os.path.join(basedir,'celeb_labels.csv')\n",
    "df"
   ]
  },
  {
   "cell_type": "code",
   "execution_count": 20,
   "metadata": {},
   "outputs": [
    {
     "data": {
      "text/plain": [
       "(2500, 1)"
      ]
     },
     "execution_count": 20,
     "metadata": {},
     "output_type": "execute_result"
    }
   ],
   "source": [
    "# Smiling (1), Not Smiling (-1)\n",
    "\n",
    "celeb_smile = df.loc[df['smiling'] == '1']\n",
    "smile_img = celeb_smile[['img_name']]\n",
    "smile_img.shape"
   ]
  },
  {
   "cell_type": "code",
   "execution_count": 21,
   "metadata": {},
   "outputs": [
    {
     "data": {
      "text/plain": [
       "(2500, 1)"
      ]
     },
     "execution_count": 21,
     "metadata": {},
     "output_type": "execute_result"
    }
   ],
   "source": [
    "celeb_no_smile= df.loc[df['smiling'] == '-1']\n",
    "no_smile_img = celeb_no_smile[['img_name']]\n",
    "no_smile_img.shape"
   ]
  },
  {
   "cell_type": "code",
   "execution_count": 32,
   "metadata": {},
   "outputs": [],
   "source": [
    "os.chdir = \"/Users/Hyunjee/Desktop/AMLS_19-20_SN16075203/A2/celeba\"\n",
    "src = \"/Users/Hyunjee/Desktop/AMLS_19-20_SN16075203/A2/celeba\"\n",
    "#os.mkdir(\"/Users/Hyunjee/Desktop/AMLS_19-20_SN16075203/A2/celeba/img/smiling\")\n",
    "dst_smile = \"/Users/Hyunjee/Desktop/AMLS_19-20_SN16075203/A2/celeba/img/smiling\"\n",
    "\n",
    "names_smile = smile_img.img_name.tolist()\n",
    "\n",
    "for filename in os.listdir(src):\n",
    "    for name in names_smile:\n",
    "        if name == filename:\n",
    "             # move the file\n",
    "            shutil.copy2(\"/Users/Hyunjee/Desktop/AMLS_19-20_SN16075203/A2/celeba/img/\"+filename, dst_smile)\n",
    "            break\n",
    "            \n",
    "            \n",
    "            "
   ]
  },
  {
   "cell_type": "code",
   "execution_count": 33,
   "metadata": {},
   "outputs": [],
   "source": [
    "#os.mkdir(\"/Users/Hyunjee/Desktop/AMLS_19-20_SN16075203/A2/celeba/NotSmiling\")\n",
    "dst_no_smile = \"/Users/Hyunjee/Desktop/AMLS_19-20_SN16075203/A2/celeba/img/NotSmiling\"\n",
    "\n",
    "names_no_smile = no_smile_img.img_name.tolist()\n",
    "\n",
    "for filename in os.listdir(src):\n",
    "    for name in names_no_smile:\n",
    "        if name == filename:\n",
    "             # move the file\n",
    "            shutil.copy2(\"/Users/Hyunjee/Desktop/AMLS_19-20_SN16075203/A2/celeba/img/\"+filename, dst_no_smile)\n",
    "            break\n",
    "            \n",
    "            "
   ]
  },
  {
   "cell_type": "markdown",
   "metadata": {},
   "source": [
    "## Split the data\n"
   ]
  },
  {
   "cell_type": "code",
   "execution_count": 59,
   "metadata": {},
   "outputs": [],
   "source": [
    "import pandas as pd\n",
    "from sklearn import datasets, linear_model\n",
    "from sklearn.model_selection import train_test_split\n",
    "from matplotlib import pyplot as plt"
   ]
  },
  {
   "cell_type": "code",
   "execution_count": 63,
   "metadata": {},
   "outputs": [],
   "source": [
    "#os.mkdir(\"/Users/Hyunjee/Desktop/AMLS_19-20_SN16075203/A2/celeba/train\")\n",
    "#os.mkdir(\"/Users/Hyunjee/Desktop/AMLS_19-20_SN16075203/A2/celeba/train/smiling\")\n",
    "#os.mkdir(\"/Users/Hyunjee/Desktop/AMLS_19-20_SN16075203/A2/celeba/train/NotSmiling\")\n",
    "\n",
    "#os.mkdir(\"/Users/Hyunjee/Desktop/AMLS_19-20_SN16075203/A2/celeba/test\")\n",
    "#os.mkdir(\"/Users/Hyunjee/Desktop/AMLS_19-20_SN16075203/A2/celeba/test/smiling\")\n",
    "#os.mkdir(\"/Users/Hyunjee/Desktop/AMLS_19-20_SN16075203/A2/celeba/test/NotSmiling\")\n",
    "\n",
    "#os.mkdir(\"/Users/Hyunjee/Desktop/AMLS_19-20_SN16075203/A2/celeba/validation\")\n",
    "os.mkdir(\"/Users/Hyunjee/Desktop/AMLS_19-20_SN16075203/A2/celeba/validation/smiling\")\n",
    "os.mkdir(\"/Users/Hyunjee/Desktop/AMLS_19-20_SN16075203/A2/celeba/validation/NotSmiling\")\n"
   ]
  },
  {
   "cell_type": "code",
   "execution_count": 67,
   "metadata": {},
   "outputs": [],
   "source": [
    "os.chdir = \"/Users/Hyunjee/Desktop/AMLS_19-20_SN16075203/A2/celeba/img/NotSmiling\"\n",
    "\n",
    "src_smile = \"/Users/Hyunjee/Desktop/AMLS_19-20_SN16075203/A2/celeba/img/smiling\"\n",
    "src_no_smile = \"/Users/Hyunjee/Desktop/AMLS_19-20_SN16075203/A2/celeba/img/NotSmiling\"\n",
    "\n",
    "#allFileNames_smile=[os.path.join(src_smile, l) for l in os.listdir(src_smile) if not l.endswith('.DS_Store')]\n",
    "allFileNames_smile = os.listdir(src_smile)\n",
    "\n",
    "\n",
    "\n"
   ]
  },
  {
   "cell_type": "code",
   "execution_count": 69,
   "metadata": {},
   "outputs": [
    {
     "name": "stdout",
     "output_type": "stream",
     "text": [
      "Total images:  2500\n",
      "Training:  1750\n",
      "Validation:  375\n",
      "Testing:  375\n"
     ]
    }
   ],
   "source": [
    "# os.chdir = \"/Users/Hyunjee/Desktop/AMLS_19-20_SN16075203/A2/celeba/img/NotSmiling\"\n",
    "\n",
    "# src_smile = \"/Users/Hyunjee/Desktop/AMLS_19-20_SN16075203/A2/celeba/img/smiling\"\n",
    "# src_no_smile = \"/Users/Hyunjee/Desktop/AMLS_19-20_SN16075203/A2/celeba/img/NotSmiling\"\n",
    "\n",
    "# #allFileNames_smile = os.listdir(src_smile)\n",
    "# allFileNames_smile=[os.path.join(src_smile, l) for l in os.listdir(src_smile) if not l.endswith('.DS_Store')]\n",
    "\n",
    "\n",
    "np.random.shuffle(allFileNames_smile)\n",
    "train, valid, test = np.split(np.array(allFileNames_smile),[int(len(allFileNames_smile)*0.7), int(len(allFileNames_smile)*0.85)])\n",
    "\n",
    "train_smile = [src_smile+'/'+ name for name in train.tolist()]\n",
    "val_smile = [src_smile+'/' + name for name in valid.tolist()]\n",
    "test_smile = [src_smile+'/' + name for name in test.tolist()]\n",
    "\n",
    "print('Total images: ', len(allFileNames_smile))\n",
    "print('Training: ', len(train))\n",
    "print('Validation: ', len(valid))\n",
    "print('Testing: ', len(test))\n",
    "\n",
    "# Copy-pasting images\n",
    "for name in train_smile:\n",
    "    shutil.copy2(name, \"/Users/Hyunjee/Desktop/AMLS_19-20_SN16075203/A2/celeba/train/smiling\")\n",
    "\n",
    "for name in val_smile:\n",
    "    shutil.copy2(name, \"/Users/Hyunjee/Desktop/AMLS_19-20_SN16075203/A2/celeba/validation/smiling\")\n",
    "\n",
    "for name in test_smile:\n",
    "    shutil.copy2(name, \"/Users/Hyunjee/Desktop/AMLS_19-20_SN16075203/A2/celeba/test/smiling\")"
   ]
  },
  {
   "cell_type": "code",
   "execution_count": 70,
   "metadata": {},
   "outputs": [
    {
     "name": "stdout",
     "output_type": "stream",
     "text": [
      "Total images:  2500\n",
      "Training:  1750\n",
      "Validation:  375\n",
      "Testing:  375\n"
     ]
    }
   ],
   "source": [
    "os.chdir = \"/Users/Hyunjee/Desktop/AMLS_19-20_SN16075203/A2/celeba/img/NotSmiling\"\n",
    "\n",
    "src_smile = \"/Users/Hyunjee/Desktop/AMLS_19-20_SN16075203/A2/celeba/img/smiling\"\n",
    "src_no_smile = \"/Users/Hyunjee/Desktop/AMLS_19-20_SN16075203/A2/celeba/img/NotSmiling\"\n",
    "\n",
    "allFileNames_no_smile = os.listdir(src_no_smile)\n",
    "np.random.shuffle(allFileNames_no_smile)\n",
    "train, valid, test = np.split(np.array(allFileNames_no_smile),[int(len(allFileNames_no_smile)*0.7), int(len(allFileNames_no_smile)*0.85)])\n",
    "\n",
    "train_no_smile = [src_no_smile+'/'+ name for name in train.tolist()]\n",
    "val_no_smile = [src_no_smile+'/' + name for name in valid.tolist()]\n",
    "test_no_smile = [src_no_smile+'/' + name for name in test.tolist()]\n",
    "\n",
    "print('Total images: ', len(allFileNames_no_smile))\n",
    "print('Training: ', len(train))\n",
    "print('Validation: ', len(valid))\n",
    "print('Testing: ', len(test))\n",
    "\n",
    "# Copy-pasting images\n",
    "for name in train_no_smile:\n",
    "    shutil.copy2(name, \"/Users/Hyunjee/Desktop/AMLS_19-20_SN16075203/A2/celeba/train/NotSmiling\")\n",
    "\n",
    "for name in val_no_smile:\n",
    "    shutil.copy2(name, \"/Users/Hyunjee/Desktop/AMLS_19-20_SN16075203/A2/celeba/validation/NotSmiling\")\n",
    "\n",
    "for name in test_no_smile:\n",
    "    shutil.copy2(name, \"/Users/Hyunjee/Desktop/AMLS_19-20_SN16075203/A2/celeba/test/NotSmiling\")"
   ]
  },
  {
   "cell_type": "markdown",
   "metadata": {},
   "source": [
    "## Modeling"
   ]
  },
  {
   "cell_type": "code",
   "execution_count": 71,
   "metadata": {},
   "outputs": [],
   "source": [
    "from keras.layers import Dense, Conv2D, MaxPooling2D, BatchNormalization, GlobalAveragePooling2D\n",
    "\n",
    "from keras import models"
   ]
  },
  {
   "cell_type": "code",
   "execution_count": 72,
   "metadata": {},
   "outputs": [
    {
     "name": "stdout",
     "output_type": "stream",
     "text": [
      "Model: \"sequential_2\"\n",
      "_________________________________________________________________\n",
      "Layer (type)                 Output Shape              Param #   \n",
      "=================================================================\n",
      "conv2d_5 (Conv2D)            (None, 128, 128, 16)      448       \n",
      "_________________________________________________________________\n",
      "max_pooling2d_5 (MaxPooling2 (None, 64, 64, 16)        0         \n",
      "_________________________________________________________________\n",
      "conv2d_6 (Conv2D)            (None, 64, 64, 32)        4640      \n",
      "_________________________________________________________________\n",
      "max_pooling2d_6 (MaxPooling2 (None, 32, 32, 32)        0         \n",
      "_________________________________________________________________\n",
      "conv2d_7 (Conv2D)            (None, 32, 32, 64)        18496     \n",
      "_________________________________________________________________\n",
      "max_pooling2d_7 (MaxPooling2 (None, 16, 16, 64)        0         \n",
      "_________________________________________________________________\n",
      "conv2d_8 (Conv2D)            (None, 16, 16, 128)       73856     \n",
      "_________________________________________________________________\n",
      "max_pooling2d_8 (MaxPooling2 (None, 8, 8, 128)         0         \n",
      "_________________________________________________________________\n",
      "global_average_pooling2d_2 ( (None, 128)               0         \n",
      "_________________________________________________________________\n",
      "dense_3 (Dense)              (None, 64)                8256      \n",
      "_________________________________________________________________\n",
      "batch_normalization_2 (Batch (None, 64)                256       \n",
      "_________________________________________________________________\n",
      "dense_4 (Dense)              (None, 2)                 130       \n",
      "=================================================================\n",
      "Total params: 106,082\n",
      "Trainable params: 105,954\n",
      "Non-trainable params: 128\n",
      "_________________________________________________________________\n"
     ]
    }
   ],
   "source": [
    "# starting point \n",
    "model_emotion= models.Sequential()\n",
    "\n",
    "# Add first convolutional block\n",
    "model_emotion.add(Conv2D(16, (3, 3), activation='relu', padding='same',input_shape=(128,128,3))) \n",
    "## 6464\n",
    "model_emotion.add(MaxPooling2D((2, 2), padding='same'))\n",
    "\n",
    "# second block\n",
    "model_emotion.add(Conv2D(32, (3, 3), activation='relu', padding='same'))\n",
    "model_emotion.add(MaxPooling2D((2, 2), padding='same'))\n",
    "# third block\n",
    "model_emotion.add(Conv2D(64, (3, 3), activation='relu', padding='same'))\n",
    "model_emotion.add(MaxPooling2D((2, 2), padding='same'))\n",
    "# fourth block\n",
    "model_emotion.add(Conv2D(128, (3, 3), activation='relu', padding='same'))\n",
    "model_emotion.add(MaxPooling2D((2, 2), padding='same'))\n",
    "\n",
    "# global average pooling\n",
    "model_emotion.add(GlobalAveragePooling2D())\n",
    "# fully connected layer\n",
    "model_emotion.add(Dense(64, activation='relu'))\n",
    "model_emotion.add(BatchNormalization())\n",
    "# make predictions\n",
    "model_emotion.add(Dense(2, activation='sigmoid'))\n",
    "\n",
    "\n",
    "# Show a summary of the model. Check the number of trainable parameters\n",
    "model_emotion.summary()"
   ]
  },
  {
   "cell_type": "code",
   "execution_count": 73,
   "metadata": {},
   "outputs": [],
   "source": [
    "# use early stopping to optimally terminate training through callbacks\n",
    "from tensorflow.python.keras.callbacks import EarlyStopping, ModelCheckpoint\n",
    "es_emotion=EarlyStopping(monitor='val_loss', mode='min', verbose=1, patience=5)\n",
    "\n",
    "# save best model automatically\n",
    "mc_emotion= ModelCheckpoint('/Users/Hyunjee/Desktop/AMLS_19-20_SN16075203/A2/model_emotion.h5', monitor='val_loss', mode='min', verbose=1, save_best_only=True)\n",
    "\n",
    "cb_list_emotion=[es_emotion,mc_emotion]\n",
    "\n",
    "\n",
    "# compile model \n",
    "model_emotion.compile(optimizer='adam', loss='binary_crossentropy', metrics=['accuracy'])\n"
   ]
  },
  {
   "cell_type": "code",
   "execution_count": 74,
   "metadata": {},
   "outputs": [],
   "source": [
    "\n",
    "from tensorflow.python.keras.applications.vgg16 import preprocess_input\n",
    "from tensorflow.python.keras.preprocessing.image import ImageDataGenerator"
   ]
  },
  {
   "cell_type": "code",
   "execution_count": 75,
   "metadata": {},
   "outputs": [
    {
     "name": "stdout",
     "output_type": "stream",
     "text": [
      "Found 3500 images belonging to 2 classes.\n",
      "Found 750 images belonging to 2 classes.\n",
      "Epoch 1/25\n",
      "109/109 [==============================] - 64s 589ms/step - loss: 0.6950 - accuracy: 0.5345 - val_loss: 0.8957 - val_accuracy: 0.5299\n",
      "\n",
      "Epoch 00001: val_loss improved from inf to 0.89572, saving model to /Users/Hyunjee/Desktop/AMLS_19-20_SN16075203/A2/model_emotion.h5\n",
      "Epoch 2/25\n",
      "109/109 [==============================] - 59s 539ms/step - loss: 0.6841 - accuracy: 0.5594 - val_loss: 0.7759 - val_accuracy: 0.5077\n",
      "\n",
      "Epoch 00002: val_loss improved from 0.89572 to 0.77593, saving model to /Users/Hyunjee/Desktop/AMLS_19-20_SN16075203/A2/model_emotion.h5\n",
      "Epoch 3/25\n",
      "109/109 [==============================] - 54s 492ms/step - loss: 0.6726 - accuracy: 0.5901 - val_loss: 0.7616 - val_accuracy: 0.5216\n",
      "\n",
      "Epoch 00003: val_loss improved from 0.77593 to 0.76160, saving model to /Users/Hyunjee/Desktop/AMLS_19-20_SN16075203/A2/model_emotion.h5\n",
      "Epoch 4/25\n",
      "109/109 [==============================] - 54s 496ms/step - loss: 0.6623 - accuracy: 0.6152 - val_loss: 1.4929 - val_accuracy: 0.4958\n",
      "\n",
      "Epoch 00004: val_loss did not improve from 0.76160\n",
      "Epoch 5/25\n",
      "109/109 [==============================] - 53s 487ms/step - loss: 0.6048 - accuracy: 0.6815 - val_loss: 0.8029 - val_accuracy: 0.4923\n",
      "\n",
      "Epoch 00005: val_loss did not improve from 0.76160\n",
      "Epoch 6/25\n",
      "109/109 [==============================] - 56s 510ms/step - loss: 0.5178 - accuracy: 0.7533 - val_loss: 0.5544 - val_accuracy: 0.7507\n",
      "\n",
      "Epoch 00006: val_loss improved from 0.76160 to 0.55438, saving model to /Users/Hyunjee/Desktop/AMLS_19-20_SN16075203/A2/model_emotion.h5\n",
      "Epoch 7/25\n",
      "109/109 [==============================] - 53s 486ms/step - loss: 0.4498 - accuracy: 0.7948 - val_loss: 0.4947 - val_accuracy: 0.7932\n",
      "\n",
      "Epoch 00007: val_loss improved from 0.55438 to 0.49465, saving model to /Users/Hyunjee/Desktop/AMLS_19-20_SN16075203/A2/model_emotion.h5\n",
      "Epoch 8/25\n",
      "109/109 [==============================] - 70s 640ms/step - loss: 0.3827 - accuracy: 0.8196 - val_loss: 0.5095 - val_accuracy: 0.6811\n",
      "\n",
      "Epoch 00008: val_loss did not improve from 0.49465\n",
      "Epoch 9/25\n",
      "109/109 [==============================] - 59s 545ms/step - loss: 0.3597 - accuracy: 0.8439 - val_loss: 0.5109 - val_accuracy: 0.8377\n",
      "\n",
      "Epoch 00009: val_loss did not improve from 0.49465\n",
      "Epoch 10/25\n",
      "109/109 [==============================] - 59s 542ms/step - loss: 0.3172 - accuracy: 0.8622 - val_loss: 0.7321 - val_accuracy: 0.6992\n",
      "\n",
      "Epoch 00010: val_loss did not improve from 0.49465\n",
      "Epoch 11/25\n",
      "109/109 [==============================] - 57s 524ms/step - loss: 0.2922 - accuracy: 0.8736 - val_loss: 0.3751 - val_accuracy: 0.8760\n",
      "\n",
      "Epoch 00011: val_loss improved from 0.49465 to 0.37511, saving model to /Users/Hyunjee/Desktop/AMLS_19-20_SN16075203/A2/model_emotion.h5\n",
      "Epoch 12/25\n",
      "109/109 [==============================] - 51s 469ms/step - loss: 0.2663 - accuracy: 0.8896 - val_loss: 0.3430 - val_accuracy: 0.8781\n",
      "\n",
      "Epoch 00012: val_loss improved from 0.37511 to 0.34300, saving model to /Users/Hyunjee/Desktop/AMLS_19-20_SN16075203/A2/model_emotion.h5\n",
      "Epoch 13/25\n",
      "109/109 [==============================] - 51s 466ms/step - loss: 0.2442 - accuracy: 0.8945 - val_loss: 0.1646 - val_accuracy: 0.8273\n",
      "\n",
      "Epoch 00013: val_loss improved from 0.34300 to 0.16463, saving model to /Users/Hyunjee/Desktop/AMLS_19-20_SN16075203/A2/model_emotion.h5\n",
      "Epoch 14/25\n",
      "109/109 [==============================] - 59s 545ms/step - loss: 0.2192 - accuracy: 0.9123 - val_loss: 0.7169 - val_accuracy: 0.7535\n",
      "\n",
      "Epoch 00014: val_loss did not improve from 0.16463\n",
      "Epoch 15/25\n",
      "109/109 [==============================] - 74s 679ms/step - loss: 0.1982 - accuracy: 0.9213 - val_loss: 2.8673 - val_accuracy: 0.5334\n",
      "\n",
      "Epoch 00015: val_loss did not improve from 0.16463\n",
      "Epoch 16/25\n",
      "109/109 [==============================] - 55s 502ms/step - loss: 0.1972 - accuracy: 0.9198 - val_loss: 0.4999 - val_accuracy: 0.7751\n",
      "\n",
      "Epoch 00016: val_loss did not improve from 0.16463\n",
      "Epoch 17/25\n",
      "109/109 [==============================] - 53s 485ms/step - loss: 0.1640 - accuracy: 0.9325 - val_loss: 0.3811 - val_accuracy: 0.8489\n",
      "\n",
      "Epoch 00017: val_loss did not improve from 0.16463\n",
      "Epoch 18/25\n",
      "109/109 [==============================] - 55s 504ms/step - loss: 0.1399 - accuracy: 0.9468 - val_loss: 0.3518 - val_accuracy: 0.8461\n",
      "\n",
      "Epoch 00018: val_loss did not improve from 0.16463\n",
      "Epoch 00018: early stopping\n"
     ]
    }
   ],
   "source": [
    "# set up data generator\n",
    "data_generator_emotion = ImageDataGenerator(preprocessing_function=preprocess_input)\n",
    "\n",
    "# get batches of training images from the directory\n",
    "train_generator_emotion = data_generator_emotion.flow_from_directory(\n",
    "        '/Users/Hyunjee/Desktop/AMLS_19-20_SN16075203/A2/celeba/train',\n",
    "        target_size=(128, 128),\n",
    "        batch_size=32,\n",
    "        class_mode='categorical')\n",
    "\n",
    "# get batches of validation images from the directory\n",
    "validation_generator_emotion = data_generator_emotion.flow_from_directory(\n",
    "        '/Users/Hyunjee/Desktop/AMLS_19-20_SN16075203/A2/celeba/validation',\n",
    "        target_size=(128, 128),\n",
    "        batch_size=32,\n",
    "        class_mode='categorical')\n",
    "\n",
    "history_emotion = model_emotion.fit_generator(\n",
    "        train_generator_emotion,\n",
    "        epochs=25,\n",
    "        steps_per_epoch=train_generator_emotion.samples // 32,\n",
    "        validation_data=validation_generator_emotion,\n",
    "        validation_steps=validation_generator_emotion.samples // 32,\n",
    "        callbacks=cb_list_emotion)"
   ]
  },
  {
   "cell_type": "code",
   "execution_count": 76,
   "metadata": {},
   "outputs": [
    {
     "data": {
      "image/png": "[encoded data removed]",
      "text/plain": [
       "<Figure size 432x288 with 1 Axes>"
      ]
     },
     "metadata": {
      "needs_background": "light"
     },
     "output_type": "display_data"
    }
   ],
   "source": [
    "# plot training and validation accuracy\n",
    "import matplotlib.pyplot as plt\n",
    "plt.plot(history_emotion.history['accuracy'])\n",
    "plt.plot(history_emotion.history['val_accuracy'])\n",
    "plt.ylim([.5,1.1])\n",
    "plt.ylabel('Accuracy')\n",
    "plt.xlabel('Epoch')\n",
    "plt.legend(['Train', 'Validation'], loc='upper left')\n",
    "plt.savefig(\"model_emotion.png\", dpi=300)"
   ]
  },
  {
   "cell_type": "code",
   "execution_count": null,
   "metadata": {},
   "outputs": [],
   "source": []
  }
 ],
 "metadata": {
  "kernelspec": {
   "display_name": "Python 3",
   "language": "python",
   "name": "python3"
  },
  "language_info": {
   "codemirror_mode": {
    "name": "ipython",
    "version": 3
   },
   "file_extension": ".py",
   "mimetype": "text/x-python",
   "name": "python",
   "nbconvert_exporter": "python",
   "pygments_lexer": "ipython3",
   "version": "3.6.9"
  }
 },
 "nbformat": 4,
 "nbformat_minor": 4
}
