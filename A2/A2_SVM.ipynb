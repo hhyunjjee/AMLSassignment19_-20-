{
 "cells": [
  {
   "cell_type": "code",
   "execution_count": null,
   "metadata": {},
   "outputs": [],
   "source": [
    "# Imports\n",
    "import numpy as np\n",
    "import matplotlib.pyplot as plt\n",
    "from sklearn import svm, datasets\n",
    "from sklearn.svm import SVC\n",
    "from sklearn.model_selection import train_test_split\n",
    "from sklearn.utils import shuffle\n",
    "from sklearn.metrics import classification_report,accuracy_score\n",
    "import pandas as pd\n",
    "from sklearn.datasets import load_iris ##\n",
    "import os\n",
    "from sklearn.metrics import classification_report,accuracy_score\n",
    "from sklearn import svm\n",
    "from tqdm._tqdm_notebook import tqdm_notebook"
   ]
  },
  {
   "cell_type": "code",
   "execution_count": null,
   "metadata": {},
   "outputs": [],
   "source": [
    "# Import landmarks\n",
    "import lab2_landmarks as l2\n",
    "\n",
    "def get_data():\n",
    "    # Target Index from lab2_landmarks -> 2: Gender_label, 3: Emotion_label\n",
    "    return l2.extract_features_labels(3)\n",
    "    \n",
    "x, y = get_data()"
   ]
  },
  {
   "cell_type": "code",
   "execution_count": null,
   "metadata": {},
   "outputs": [],
   "source": [
    "# Train-test split\n",
    "x_tr, x_te, y_tr, y_te = train_test_split(x, yT, train_size = 0.7)"
   ]
  },
  {
   "cell_type": "code",
   "execution_count": null,
   "metadata": {},
   "outputs": [],
   "source": [
    "# sklearn functions implementation\n",
    "\n",
    "def img_SVM(model, training_images, training_labels, test_images, test_labels):\n",
    "    classifier = model\n",
    "#     classifier = svm.SVC(kernel='linear')\n",
    "    classifier.fit(training_images, training_labels)\n",
    "\n",
    "    pred = classifier.predict(test_images)\n",
    "\n",
    "#     print(pred)\n",
    "#     print(\"Accuracy:\", accuracy_score(test_labels, pred))\n",
    "\n",
    "    return (pred, accuracy_score(test_labels, pred))\n",
    "\n",
    "\n",
    "def reshapeX(x):\n",
    "    return x.reshape((x.shape[0], x.shape[1] * x.shape[2]))\n",
    "\n",
    "def reshapeY(y):\n",
    "    return list(zip(*y))[0]\n",
    "\n",
    "x_tr = reshapeX(x_tr)\n",
    "x_te = reshapeX(x_te)\n",
    "y_tr = reshapeY(y_tr)\n",
    "y_te = reshapeY(y_te)"
   ]
  },
  {
   "cell_type": "code",
   "execution_count": null,
   "metadata": {},
   "outputs": [],
   "source": [
    "# Model instantiation\n",
    "models = []\n",
    "\n",
    "for c in [1, 10, 100]:\n",
    "    for degree in np.arange(2) + 2:\n",
    "        for gamma in ['scale', 'auto']:\n",
    "             for kernel in ['linear', 'rbf', 'poly']:\n",
    "                    models.append(svm.SVC(kernel = kernel, C = c, degree = degree, gamma = gamma))"
   ]
  },
  {
   "cell_type": "code",
   "execution_count": null,
   "metadata": {},
   "outputs": [],
   "source": [
    "# Run predictions\n",
    "results = []\n",
    "\n",
    "for model in tqdm_notebook(models):\n",
    "    results.append((model, img_SVM(model, x_tr, y_tr, x_te, y_te)))"
   ]
  },
  {
   "cell_type": "code",
   "execution_count": null,
   "metadata": {},
   "outputs": [],
   "source": []
  },
  {
   "cell_type": "code",
   "execution_count": null,
   "metadata": {},
   "outputs": [],
   "source": []
  },
  {
   "cell_type": "code",
   "execution_count": null,
   "metadata": {},
   "outputs": [],
   "source": []
  },
  {
   "cell_type": "code",
   "execution_count": null,
   "metadata": {},
   "outputs": [],
   "source": []
  },
  {
   "cell_type": "code",
   "execution_count": null,
   "metadata": {},
   "outputs": [],
   "source": []
  },
  {
   "cell_type": "code",
   "execution_count": null,
   "metadata": {},
   "outputs": [],
   "source": []
  }
 ],
 "metadata": {
  "kernelspec": {
   "display_name": "Python 3",
   "language": "python",
   "name": "python3"
  },
  "language_info": {
   "codemirror_mode": {
    "name": "ipython",
    "version": 3
   },
   "file_extension": ".py",
   "mimetype": "text/x-python",
   "name": "python",
   "nbconvert_exporter": "python",
   "pygments_lexer": "ipython3",
   "version": "3.6.9"
  }
 },
 "nbformat": 4,
 "nbformat_minor": 2
}
