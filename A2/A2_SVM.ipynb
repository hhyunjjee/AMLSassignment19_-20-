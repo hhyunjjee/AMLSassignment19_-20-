{
 "cells": [
  {
   "cell_type": "code",
   "execution_count": 1,
   "metadata": {
    "ExecuteTime": {
     "end_time": "2020-01-13T13:21:24.840448Z",
     "start_time": "2020-01-13T13:21:20.948427Z"
    }
   },
   "outputs": [],
   "source": [
    "# Imports\n",
    "import numpy as np\n",
    "import matplotlib.pyplot as plt\n",
    "from sklearn import svm, datasets, preprocessing\n",
    "from scipy import stats\n",
    "from sklearn.model_selection import RandomizedSearchCV\n",
    "from sklearn.metrics import make_scorer, roc_auc_score\n",
    "from sklearn.svm import SVC\n",
    "from sklearn.model_selection import train_test_split\n",
    "from sklearn.utils import shuffle\n",
    "from sklearn.metrics import classification_report,accuracy_score\n",
    "from sklearn.model_selection import train_test_split, GridSearchCV, learning_curve, ShuffleSplit\n",
    "from sklearn.metrics import classification_report, accuracy_score, confusion_matrix, recall_score, precision_score, f1_score\n",
    "import pandas as pd\n",
    "from pandas import DataFrame\n",
    "import os\n",
    "from sklearn import svm\n",
    "from tqdm._tqdm_notebook import tqdm_notebook"
   ]
  },
  {
   "cell_type": "markdown",
   "metadata": {},
   "source": [
    "## Data Preparation"
   ]
  },
  {
   "cell_type": "code",
   "execution_count": 8,
   "metadata": {
    "ExecuteTime": {
     "end_time": "2020-01-13T13:25:35.126267Z",
     "start_time": "2020-01-13T13:22:38.291107Z"
    }
   },
   "outputs": [
    {
     "data": {
      "application/vnd.jupyter.widget-view+json": {
       "model_id": "5ee05bac624f4275af64c9c8da70e78d",
       "version_major": 2,
       "version_minor": 0
      },
      "text/plain": [
       "HBox(children=(IntProgress(value=0, max=5000), HTML(value='')))"
      ]
     },
     "metadata": {},
     "output_type": "display_data"
    },
    {
     "name": "stdout",
     "output_type": "stream",
     "text": [
      "\n"
     ]
    }
   ],
   "source": [
    "# Import landmarks\n",
    "import lab2_landmarks as l2\n",
    "\n",
    "def get_data_A2():\n",
    "# Target Index from lab2_landmarks: 2 (Gender_label), 3 (Emotion_label)\n",
    "    return l2.extract_features_labels(3)\n",
    "\n",
    "\n",
    "# x: feature, y: label\n",
    "x, y = get_data_A2()"
   ]
  },
  {
   "cell_type": "code",
   "execution_count": 9,
   "metadata": {
    "ExecuteTime": {
     "end_time": "2020-01-13T13:25:35.179307Z",
     "start_time": "2020-01-13T13:25:35.132385Z"
    }
   },
   "outputs": [],
   "source": [
    "def split_data_A2(x, y):\n",
    "\n",
    "    # Transpose of y\n",
    "    yT = np.array([y, -(y - 1)]).T\n",
    "\n",
    "    # Train-test split\n",
    "    #x, yT = shuffle (x, yT, random_state=0)\n",
    "    x_tr, x_te, y_tr, y_te = train_test_split(x, yT, train_size = 0.8, random_state=0)\n",
    "    \n",
    "    return x, yT, x_tr, x_te, y_tr, y_te\n",
    "\n",
    "x, yT, x_tr, x_te, y_tr, y_te = split_data_A2(x,y)"
   ]
  },
  {
   "cell_type": "code",
   "execution_count": 10,
   "metadata": {
    "ExecuteTime": {
     "end_time": "2020-01-13T13:25:35.213046Z",
     "start_time": "2020-01-13T13:25:35.184775Z"
    }
   },
   "outputs": [],
   "source": [
    "\n",
    "# Data reshaping\n",
    "def reshapeX_A2(x):\n",
    "    return x.reshape((x.shape[0], x.shape[1] * x.shape[2]))\n",
    "\n",
    "def reshapeY_A2(y):\n",
    "    return list(zip(*y))[0]\n",
    "\n",
    "def prepare_data_A2(x_tr, x_te, y_tr, y_te):\n",
    "    # Generate and reshape the train and test dataset \n",
    "    train_images = reshapeX_A2(x_tr)\n",
    "    test_images = reshapeX_A2(x_te)\n",
    "    train_labels = reshapeY_A2(y_tr)\n",
    "    test_labels = reshapeY_A2(y_te)\n",
    "    \n",
    "    return train_images, test_images, train_labels, test_labels \n",
    "\n",
    "train_images, test_images, train_labels, test_labels = prepare_data_A2(x_tr, x_te, y_tr, y_te)\n"
   ]
  },
  {
   "cell_type": "markdown",
   "metadata": {},
   "source": [
    "## New Dataset Generation"
   ]
  },
  {
   "cell_type": "code",
   "execution_count": 2,
   "metadata": {
    "ExecuteTime": {
     "end_time": "2020-01-13T13:21:37.041744Z",
     "start_time": "2020-01-13T13:21:28.426583Z"
    }
   },
   "outputs": [
    {
     "name": "stderr",
     "output_type": "stream",
     "text": [
      "Using TensorFlow backend.\n"
     ]
    }
   ],
   "source": [
    "## Import new landmarks for new test dataset\n",
    "import lab2_landmarks_test as l2_test\n",
    "#from lab2_landmarks_test import *\n"
   ]
  },
  {
   "cell_type": "code",
   "execution_count": 3,
   "metadata": {
    "ExecuteTime": {
     "end_time": "2020-01-13T13:21:38.145124Z",
     "start_time": "2020-01-13T13:21:38.132137Z"
    }
   },
   "outputs": [],
   "source": [
    "def load_test_data_A2():\n",
    "    # l2.extract_features_labels(Target Index)\n",
    "    \n",
    "    # Target Index from lab2_landmarks: \n",
    "    #         2 (Gender_label), 3 (Emotion_label)\n",
    "\n",
    "    return l2_test.extract_features_labels_test(3)\n",
    "\n",
    "\n"
   ]
  },
  {
   "cell_type": "code",
   "execution_count": 4,
   "metadata": {
    "ExecuteTime": {
     "end_time": "2020-01-13T13:22:16.732881Z",
     "start_time": "2020-01-13T13:21:39.066530Z"
    }
   },
   "outputs": [
    {
     "data": {
      "application/vnd.jupyter.widget-view+json": {
       "model_id": "71ee72f726e842a8a20b7fbc7d7d7940",
       "version_major": 2,
       "version_minor": 0
      },
      "text/plain": [
       "HBox(children=(IntProgress(value=0, max=1000), HTML(value='')))"
      ]
     },
     "metadata": {},
     "output_type": "display_data"
    },
    {
     "name": "stdout",
     "output_type": "stream",
     "text": [
      "\n"
     ]
    }
   ],
   "source": [
    "# a: feature, b: label\n",
    "a, b = load_test_data_A2()"
   ]
  },
  {
   "cell_type": "code",
   "execution_count": 11,
   "metadata": {
    "ExecuteTime": {
     "end_time": "2020-01-13T13:26:46.590607Z",
     "start_time": "2020-01-13T13:26:46.568946Z"
    }
   },
   "outputs": [],
   "source": [
    "def newdata_prep_A2(x,y):\n",
    "    yT = np.array([y, -(y - 1)]).T\n",
    "    images = reshapeX_A2(x)\n",
    "    labels = reshapeY_A2(yT)\n",
    "    return images, labels\n",
    "\n",
    "new_image, new_label = newdata_prep_A2(a,b)"
   ]
  },
  {
   "cell_type": "markdown",
   "metadata": {
    "ExecuteTime": {
     "end_time": "2020-01-13T07:00:30.218347Z",
     "start_time": "2020-01-13T07:00:30.208120Z"
    }
   },
   "source": [
    "## SVM Model Training using RandomSearchCV"
   ]
  },
  {
   "cell_type": "code",
   "execution_count": null,
   "metadata": {},
   "outputs": [],
   "source": []
  },
  {
   "cell_type": "code",
   "execution_count": 12,
   "metadata": {
    "ExecuteTime": {
     "end_time": "2020-01-13T13:26:49.195277Z",
     "start_time": "2020-01-13T13:26:49.183363Z"
    }
   },
   "outputs": [],
   "source": [
    "# Define the range of hyperparamter\n",
    "\n",
    "def param_rs_linear_A2():\n",
    "    \n",
    "    param = {'C': stats.uniform(0.1, 10),\n",
    "             'kernel': ['linear']}\n",
    "\n",
    "    return param\n",
    "\n",
    "def param_rs_rbf_A2():\n",
    "    \n",
    "    param = {'C': stats.uniform(0.1, 10),\n",
    "             'gamma': stats.uniform(0.001, 0.01),\n",
    "             'kernel': ['rbf']}\n",
    "\n",
    "    return param\n",
    "\n",
    "def param_rs_poly_A2():\n",
    "    \n",
    "    param = {'C': stats.uniform(0.01, 10),\n",
    "             'degree': stats.uniform(1, 4),\n",
    "             'kernel': ['poly']}\n",
    "\n",
    "    return param\n",
    "\n"
   ]
  },
  {
   "cell_type": "code",
   "execution_count": 13,
   "metadata": {
    "ExecuteTime": {
     "end_time": "2020-01-13T13:26:50.054437Z",
     "start_time": "2020-01-13T13:26:50.030003Z"
    }
   },
   "outputs": [],
   "source": [
    "param_rs_linear = param_rs_linear_A2()\n",
    "param_rs_rbf = param_rs_rbf_A2()\n",
    "param_rs_poly = param_rs_poly_A2()"
   ]
  },
  {
   "cell_type": "code",
   "execution_count": 14,
   "metadata": {
    "ExecuteTime": {
     "end_time": "2020-01-13T13:26:51.180835Z",
     "start_time": "2020-01-13T13:26:51.170942Z"
    }
   },
   "outputs": [],
   "source": [
    "def randomSearch_A2(X, y, param_kernel):\n",
    "    param_distributions = param_kernel #a dictionary with parameters names (string) as keys of parameters to try\n",
    "    #number of jobs = -1 is using all processors \n",
    "    #n_iter trades off runtime with quality of solution\n",
    "    #cv is at default value for 5-fold cross validation\n",
    "    #verbose gives out messages; refit is to refit an estimator to find the best parameters\n",
    "    #random_state is a pseudo random number generator used for random uniform sampling from list of possible values instead of using scipy.stats distributions\n",
    "    searchrand = RandomizedSearchCV(SVC(), param_distributions, n_iter=10, n_jobs=-1, refit=True, verbose=3)\n",
    "    searchrand.fit(X, y)\n",
    "    searchrand.cv_results_\n",
    "\n",
    "    return searchrand.best_params_, searchrand.best_estimator_ \n",
    "    "
   ]
  },
  {
   "cell_type": "code",
   "execution_count": 15,
   "metadata": {
    "ExecuteTime": {
     "end_time": "2020-01-13T15:27:36.585948Z",
     "start_time": "2020-01-13T13:52:21.798147Z"
    }
   },
   "outputs": [
    {
     "name": "stdout",
     "output_type": "stream",
     "text": [
      "Fitting 5 folds for each of 10 candidates, totalling 50 fits\n"
     ]
    },
    {
     "name": "stderr",
     "output_type": "stream",
     "text": [
      "[Parallel(n_jobs=-1)]: Using backend LokyBackend with 4 concurrent workers.\n",
      "[Parallel(n_jobs=-1)]: Done  24 tasks      | elapsed: 30.3min\n",
      "[Parallel(n_jobs=-1)]: Done  50 out of  50 | elapsed: 90.5min finished\n"
     ]
    }
   ],
   "source": [
    "# Obtaining optimum hyperparameters and classifier for different kernel\n",
    "rs_linear_param, rs_linear = randomSearch_A2(train_images, train_labels, param_rs_linear)\n"
   ]
  },
  {
   "cell_type": "code",
   "execution_count": 16,
   "metadata": {
    "ExecuteTime": {
     "end_time": "2020-01-13T15:28:53.093973Z",
     "start_time": "2020-01-13T15:27:36.599050Z"
    }
   },
   "outputs": [
    {
     "name": "stdout",
     "output_type": "stream",
     "text": [
      "Fitting 5 folds for each of 10 candidates, totalling 50 fits\n"
     ]
    },
    {
     "name": "stderr",
     "output_type": "stream",
     "text": [
      "[Parallel(n_jobs=-1)]: Using backend LokyBackend with 4 concurrent workers.\n",
      "[Parallel(n_jobs=-1)]: Done  24 tasks      | elapsed:   39.1s\n",
      "[Parallel(n_jobs=-1)]: Done  50 out of  50 | elapsed:  1.2min finished\n"
     ]
    }
   ],
   "source": [
    "rs_rbf_param, rs_rbf= randomSearch_A2(train_images, train_labels, param_rs_rbf)\n"
   ]
  },
  {
   "cell_type": "code",
   "execution_count": 17,
   "metadata": {
    "ExecuteTime": {
     "end_time": "2020-01-13T15:30:22.879312Z",
     "start_time": "2020-01-13T15:28:53.111541Z"
    }
   },
   "outputs": [
    {
     "name": "stdout",
     "output_type": "stream",
     "text": [
      "Fitting 5 folds for each of 10 candidates, totalling 50 fits\n"
     ]
    },
    {
     "name": "stderr",
     "output_type": "stream",
     "text": [
      "[Parallel(n_jobs=-1)]: Using backend LokyBackend with 4 concurrent workers.\n",
      "[Parallel(n_jobs=-1)]: Done  24 tasks      | elapsed:   36.5s\n",
      "[Parallel(n_jobs=-1)]: Done  50 out of  50 | elapsed:  1.2min finished\n"
     ]
    }
   ],
   "source": [
    "rs_poly_param, rs_poly = randomSearch_A2(train_images, train_labels, param_rs_poly)\n"
   ]
  },
  {
   "cell_type": "code",
   "execution_count": 18,
   "metadata": {
    "ExecuteTime": {
     "end_time": "2020-01-13T15:30:23.628565Z",
     "start_time": "2020-01-13T15:30:22.889850Z"
    }
   },
   "outputs": [
    {
     "name": "stdout",
     "output_type": "stream",
     "text": [
      "\n",
      "Optimal  hyper-parameters and accuracy score (Kernel: Linear):\n",
      "{'C': 9.818136480193424, 'kernel': 'linear'}\n",
      "0.8925964546402503\n",
      "\n",
      "Optimal  hyper-parameters and accuracy score (Kernel: RBF):\n",
      "{'C': 2.934876855072576, 'gamma': 0.0024074255468270935, 'kernel': 'rbf'}\n",
      "0.8696558915537018\n",
      "\n",
      "Optimal  hyper-parametersand accuracy score (Kernel: Polynomial):\n",
      "{'C': 9.083379467664232, 'degree': 4.348662659877247, 'kernel': 'poly'}\n",
      "0.8884254431699687\n"
     ]
    }
   ],
   "source": [
    "# Display optimum hyperparameters for SVC kernel\n",
    "print('\\nOptimal  hyper-parameters and accuracy score (Kernel: Linear):')\n",
    "print(rs_linear_param)\n",
    "print(rs_linear.score(test_images, test_labels))\n",
    "\n",
    "print('\\nOptimal  hyper-parameters and accuracy score (Kernel: RBF):')\n",
    "print(rs_rbf_param)\n",
    "print(rs_rbf.score(test_images, test_labels))\n",
    "\n",
    "print('\\nOptimal  hyper-parametersand accuracy score (Kernel: Polynomial):')\n",
    "print(rs_poly_param)\n",
    "print(rs_poly.score(test_images, test_labels))"
   ]
  },
  {
   "cell_type": "code",
   "execution_count": 19,
   "metadata": {
    "ExecuteTime": {
     "end_time": "2020-01-13T15:30:24.297513Z",
     "start_time": "2020-01-13T15:30:23.640115Z"
    }
   },
   "outputs": [
    {
     "name": "stdout",
     "output_type": "stream",
     "text": [
      "0.8925964546402503\n",
      "0.8696558915537018\n",
      "0.8884254431699687\n"
     ]
    }
   ],
   "source": [
    "print(rs_linear.score(test_images, test_labels))\n",
    "print(rs_rbf.score(test_images, test_labels))\n",
    "print(rs_poly.score(test_images, test_labels))"
   ]
  },
  {
   "cell_type": "markdown",
   "metadata": {
    "ExecuteTime": {
     "end_time": "2020-01-13T10:48:56.293700Z",
     "start_time": "2020-01-13T10:48:56.252493Z"
    }
   },
   "source": [
    "## Model Prediction"
   ]
  },
  {
   "cell_type": "code",
   "execution_count": 21,
   "metadata": {
    "ExecuteTime": {
     "end_time": "2020-01-13T15:33:25.883042Z",
     "start_time": "2020-01-13T15:33:25.863937Z"
    }
   },
   "outputs": [],
   "source": [
    "def prediction_A2(best_estimator):\n",
    "    clf = best_estimator\n",
    "    pred = clf.predict(test_images)\n",
    "    return pred"
   ]
  },
  {
   "cell_type": "code",
   "execution_count": 22,
   "metadata": {
    "ExecuteTime": {
     "end_time": "2020-01-13T15:33:27.134815Z",
     "start_time": "2020-01-13T15:33:26.951073Z"
    }
   },
   "outputs": [],
   "source": [
    "pred_linear = prediction_A2(rs_linear)"
   ]
  },
  {
   "cell_type": "code",
   "execution_count": 23,
   "metadata": {
    "ExecuteTime": {
     "end_time": "2020-01-13T15:33:28.161101Z",
     "start_time": "2020-01-13T15:33:27.703142Z"
    }
   },
   "outputs": [],
   "source": [
    "pred_rbf = prediction_A2(rs_rbf)"
   ]
  },
  {
   "cell_type": "code",
   "execution_count": 24,
   "metadata": {
    "ExecuteTime": {
     "end_time": "2020-01-13T15:33:28.491192Z",
     "start_time": "2020-01-13T15:33:28.286435Z"
    }
   },
   "outputs": [],
   "source": [
    "pred_poly = prediction_A2(rs_poly)"
   ]
  },
  {
   "cell_type": "markdown",
   "metadata": {},
   "source": [
    "## Model Validation - Learning Curve"
   ]
  },
  {
   "cell_type": "code",
   "execution_count": 25,
   "metadata": {
    "ExecuteTime": {
     "end_time": "2020-01-13T15:33:29.824738Z",
     "start_time": "2020-01-13T15:33:29.759489Z"
    }
   },
   "outputs": [],
   "source": [
    "def plot_learning_curve(estimator, title, X, y, axes=None, ylim=None, cv=None,\n",
    "                        n_jobs=None, train_sizes=np.linspace(.1, 1.0, 5)):\n",
    "    axes.set_xlabel(\"Training examples\")\n",
    "    axes.set_ylabel(\"Score\")\n",
    "\n",
    "    train_sizes, train_scores, test_scores = learning_curve(estimator, X, y,\n",
    "                                                                          cv=cv, n_jobs=n_jobs,\n",
    "                                                                          train_sizes=train_sizes)\n",
    "\n",
    "    train_scores_mean = np.mean(train_scores, axis=1)\n",
    "    train_scores_std = np.std(train_scores, axis=1)\n",
    "    test_scores_mean = np.mean(test_scores, axis=1)\n",
    "    test_scores_std = np.std(test_scores, axis=1)\n",
    "#     fit_times_mean = np.mean(fit_times, axis=1)\n",
    "#     fit_times_std = np.std(fit_times, axis=1)\n",
    "\n",
    "    # Plot learning curve\n",
    "    axes.grid()\n",
    "    axes.fill_between(train_sizes, train_scores_mean - train_scores_std,\n",
    "                         train_scores_mean + train_scores_std, alpha=0.1,\n",
    "                         color=\"r\")\n",
    "    axes.fill_between(train_sizes, test_scores_mean - test_scores_std,\n",
    "                         test_scores_mean + test_scores_std, alpha=0.1,\n",
    "                         color=\"g\")\n",
    "    axes.plot(train_sizes, train_scores_mean, 'o-', color=\"r\",\n",
    "                 label=\"Training score\")\n",
    "    axes.plot(train_sizes, test_scores_mean, 'o-', color=\"g\",\n",
    "                 label=\"Cross-validation score\")\n",
    "    axes.legend(loc=\"best\")\n",
    "    \n",
    "    return plt"
   ]
  },
  {
   "cell_type": "code",
   "execution_count": 26,
   "metadata": {
    "ExecuteTime": {
     "end_time": "2020-01-13T15:34:40.749420Z",
     "start_time": "2020-01-13T15:33:30.427612Z"
    }
   },
   "outputs": [
    {
     "name": "stdout",
     "output_type": "stream",
     "text": [
      "Running at 2020-01-13 15:33:30.442719\n"
     ]
    },
    {
     "data": {
      "image/png": "[encoded data removed]",
      "text/plain": [
       "<Figure size 432x288 with 1 Axes>"
      ]
     },
     "metadata": {
      "needs_background": "light"
     },
     "output_type": "display_data"
    }
   ],
   "source": [
    "from datetime import datetime\n",
    "\n",
    "print('Running at', str(datetime.now()))\n",
    "\n",
    "fig, axes = plt.subplots(1, 1)\n",
    "\n",
    "X = reshapeX_A2(x)\n",
    "y = reshapeY_A2(yT)\n",
    "\n",
    "#final_clf_lin = SVC(C= 0.1, gamma = 0.001, kernel = 'linear')\n",
    "#final_clf_rbf = SVC(C= 10, gamma = 0.001, kernel='rbf')\n",
    "final_clf_poly = SVC(C=1.8164606191927957, degree = 4.271250592417447, kernel='poly')\n",
    "\n",
    "\n",
    "#{'C': 1.8164606191927957, 'degree': 4.271250592417447, 'kernel': 'poly'}\n",
    "estimator = final_clf_poly\n",
    "\n",
    "title = 'Learning Curves (Kernel = Linear)'\n",
    "cv = ShuffleSplit(n_splits = 10, test_size = 0.2, random_state = 0)\n",
    "\n",
    "plt = plot_learning_curve(estimator, title, X, y, axes = axes, cv = cv, n_jobs = -1)\n",
    "    \n",
    "plt.show()\n",
    " "
   ]
  },
  {
   "cell_type": "markdown",
   "metadata": {},
   "source": [
    "## Model Validation: Confusion Matrix"
   ]
  },
  {
   "cell_type": "code",
   "execution_count": 27,
   "metadata": {
    "ExecuteTime": {
     "end_time": "2020-01-13T15:34:42.061369Z",
     "start_time": "2020-01-13T15:34:40.757279Z"
    }
   },
   "outputs": [
    {
     "name": "stdout",
     "output_type": "stream",
     "text": [
      "Confusion matrix, without normalization\n",
      "[[426  38]\n",
      " [ 69 426]]\n",
      "Normalized confusion matrix\n",
      "[[0.92 0.08]\n",
      " [0.14 0.86]]\n"
     ]
    },
    {
     "data": {
      "image/png": "[encoded data removed]",
      "text/plain": [
       "<Figure size 432x288 with 2 Axes>"
      ]
     },
     "metadata": {
      "needs_background": "light"
     },
     "output_type": "display_data"
    },
    {
     "data": {
      "image/png": "[encoded data removed]",
      "text/plain": [
       "<Figure size 432x288 with 2 Axes>"
      ]
     },
     "metadata": {
      "needs_background": "light"
     },
     "output_type": "display_data"
    }
   ],
   "source": [
    "from sklearn import svm, datasets\n",
    "from sklearn.model_selection import train_test_split\n",
    "from sklearn.metrics import confusion_matrix\n",
    "from sklearn.utils.multiclass import unique_labels\n",
    "\n",
    "\n",
    "class_names = np.array(['Smile', 'No Smile'])\n",
    "clf = rs_poly\n",
    "pred = clf.predict(test_images)\n",
    "\n",
    "\n",
    "def plot_confusion_matrix(y_true, y_pred, classes,\n",
    "                          normalize=False,\n",
    "                          title=None,\n",
    "                          cmap=plt.cm.Blues):\n",
    "    \"\"\"\n",
    "    This function prints and plots the confusion matrix.\n",
    "    Normalization can be applied by setting `normalize=True`.\n",
    "    \"\"\"\n",
    "    if not title:\n",
    "        if normalize:\n",
    "            title = 'Normalized confusion matrix'\n",
    "        else:\n",
    "            title = 'Confusion matrix, without normalization'\n",
    "\n",
    "    # Compute confusion matrix\n",
    "\n",
    "    cm = confusion_matrix(test_labels, pred)\n",
    "    # Define the name of x and y axis\n",
    "    classes = class_names\n",
    "    \n",
    "    if normalize:\n",
    "        cm = cm.astype('float') / cm.sum(axis=1)[:, np.newaxis]\n",
    "        print(\"Normalized confusion matrix\")\n",
    "    else:\n",
    "        print('Confusion matrix, without normalization')\n",
    "\n",
    "    fig, ax = plt.subplots()\n",
    "    im = ax.imshow(cm, interpolation=None, cmap=cmap)\n",
    "    \n",
    "    print(cm)\n",
    "    ax.figure.colorbar(im, ax=ax)\n",
    "\n",
    "    for i in range(len(ax.yaxis.get_major_ticks())):\n",
    "        ax.yaxis.get_major_ticks()[i].label1.set_visible(False)\n",
    "        \n",
    "    for i in [2, 6]:\n",
    "        ax.yaxis.get_major_ticks()[i].label1.set_visible(True)\n",
    "\n",
    "        \n",
    "    ax.set(\n",
    "        xticks = np.arange(cm.shape[1]),\n",
    "       # ... and label them with the respective list entries\n",
    "       xticklabels=classes, yticklabels=[0, 0, classes[0], 0, 0, 0, classes[1], 0, 0],\n",
    "       title=title,\n",
    "       ylabel='True label',\n",
    "       xlabel='Predicted label'\n",
    "    )\n",
    "    \n",
    "    # Rotate the tick labels and set their alignment.\n",
    "    plt.setp(ax.get_xticklabels(), rotation=45, ha=\"right\",\n",
    "             rotation_mode=\"anchor\")\n",
    "\n",
    "    # Loop over data dimensions and create text annotations.\n",
    "    fmt = '.2f' if normalize else 'd'\n",
    "    thresh = cm.max() / 2.\n",
    "    for i in range(cm.shape[0]):\n",
    "        for j in range(cm.shape[1]):\n",
    "            ax.text(j, i, format(cm[i, j], fmt),\n",
    "                    ha=\"center\", va=\"center\",\n",
    "                    color=\"white\" if cm[i, j] > thresh else \"black\")\n",
    "    fig.tight_layout()\n",
    "    return ax\n",
    "\n",
    "\n",
    "np.set_printoptions(precision=2)\n",
    "\n",
    "# Plot non-normalized confusion matrix\n",
    "plot_confusion_matrix(test_images, pred, classes=class_names,\n",
    "                      title='Confusion matrix, without normalization')\n",
    "\n",
    "# Plot normalized confusion matrix\n",
    "plot_confusion_matrix(test_images, pred, classes=class_names, normalize=True,\n",
    "                      title='Normalized confusion matrix')\n",
    "\n",
    "plt.show()"
   ]
  },
  {
   "cell_type": "code",
   "execution_count": null,
   "metadata": {},
   "outputs": [],
   "source": []
  },
  {
   "cell_type": "markdown",
   "metadata": {},
   "source": [
    "## Accuracy score with three different kernels"
   ]
  },
  {
   "cell_type": "code",
   "execution_count": 28,
   "metadata": {
    "ExecuteTime": {
     "end_time": "2020-01-13T15:34:42.901762Z",
     "start_time": "2020-01-13T15:34:42.066734Z"
    }
   },
   "outputs": [
    {
     "name": "stdout",
     "output_type": "stream",
     "text": [
      "  Types of Kernel  Accuracy Score\n",
      "0          Linear        0.892596\n",
      "1             RBF        0.869656\n",
      "2      Polynomial        0.888425\n"
     ]
    }
   ],
   "source": [
    "# Print out each kernel functions with accuracy scores\n",
    "acc_scores = {'Types of Kernel' : ['Linear','RBF','Polynomial'],\n",
    "           'Accuracy Score' : [rs_linear.score(test_images, test_labels), rs_rbf.score(test_images, test_labels), rs_poly.score(test_images, test_labels)]}\n",
    "\n",
    "df_kernel_scores = DataFrame(acc_scores, columns= ['Types of Kernel', 'Accuracy Score'])\n",
    "print(df_kernel_scores)\n"
   ]
  },
  {
   "cell_type": "code",
   "execution_count": 29,
   "metadata": {
    "ExecuteTime": {
     "end_time": "2020-01-13T15:34:42.913957Z",
     "start_time": "2020-01-13T15:34:42.905129Z"
    }
   },
   "outputs": [],
   "source": [
    "def val_acc_A2(x):\n",
    "    score = x.score(test_images, test_labels)\n",
    "    return score\n",
    "\n",
    "def train_acc_A2(x):\n",
    "    score = x.score(train_images, train_labels)\n",
    "    return score"
   ]
  },
  {
   "cell_type": "code",
   "execution_count": 30,
   "metadata": {
    "ExecuteTime": {
     "end_time": "2020-01-13T15:34:43.085561Z",
     "start_time": "2020-01-13T15:34:42.916924Z"
    }
   },
   "outputs": [
    {
     "data": {
      "text/plain": [
       "0.8884254431699687"
      ]
     },
     "execution_count": 30,
     "metadata": {},
     "output_type": "execute_result"
    }
   ],
   "source": [
    "val_acc = val_acc_A2(rs_poly)\n",
    "val_acc\n"
   ]
  },
  {
   "cell_type": "code",
   "execution_count": 31,
   "metadata": {
    "ExecuteTime": {
     "end_time": "2020-01-13T15:34:43.729254Z",
     "start_time": "2020-01-13T15:34:43.088665Z"
    }
   },
   "outputs": [
    {
     "data": {
      "text/plain": [
       "0.9225755995828988"
      ]
     },
     "execution_count": 31,
     "metadata": {},
     "output_type": "execute_result"
    }
   ],
   "source": [
    "train_acc = train_acc_A2(rs_poly)\n",
    "train_acc"
   ]
  },
  {
   "cell_type": "code",
   "execution_count": 32,
   "metadata": {
    "ExecuteTime": {
     "end_time": "2020-01-13T15:56:07.381806Z",
     "start_time": "2020-01-13T15:56:07.330524Z"
    }
   },
   "outputs": [],
   "source": [
    "def new_prediction_A2(best_estimator):\n",
    "    clf = best_estimator\n",
    "    pred = clf.predict(new_image)\n",
    "    return pred"
   ]
  },
  {
   "cell_type": "code",
   "execution_count": 33,
   "metadata": {
    "ExecuteTime": {
     "end_time": "2020-01-13T15:56:07.910851Z",
     "start_time": "2020-01-13T15:56:07.678205Z"
    }
   },
   "outputs": [
    {
     "data": {
      "text/plain": [
       "0.8895768833849329"
      ]
     },
     "execution_count": 33,
     "metadata": {},
     "output_type": "execute_result"
    }
   ],
   "source": [
    "new_pred = new_prediction_A2(rs_poly)\n",
    "new_acc = accuracy_score(new_label, new_pred)\n",
    "new_acc"
   ]
  },
  {
   "cell_type": "code",
   "execution_count": null,
   "metadata": {},
   "outputs": [],
   "source": []
  },
  {
   "cell_type": "code",
   "execution_count": null,
   "metadata": {},
   "outputs": [],
   "source": []
  },
  {
   "cell_type": "code",
   "execution_count": null,
   "metadata": {},
   "outputs": [],
   "source": []
  },
  {
   "cell_type": "code",
   "execution_count": null,
   "metadata": {},
   "outputs": [],
   "source": []
  }
 ],
 "metadata": {
  "kernelspec": {
   "display_name": "Python 3",
   "language": "python",
   "name": "python3"
  },
  "language_info": {
   "codemirror_mode": {
    "name": "ipython",
    "version": 3
   },
   "file_extension": ".py",
   "mimetype": "text/x-python",
   "name": "python",
   "nbconvert_exporter": "python",
   "pygments_lexer": "ipython3",
   "version": "3.6.9"
  }
 },
 "nbformat": 4,
 "nbformat_minor": 2
}
