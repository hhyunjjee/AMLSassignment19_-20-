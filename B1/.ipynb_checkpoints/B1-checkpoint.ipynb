{
 "cells": [
  {
   "cell_type": "code",
   "execution_count": 13,
   "metadata": {},
   "outputs": [],
   "source": [
    "# Imports\n",
    "import numpy as np\n",
    "import matplotlib.pyplot as plt\n",
    "from sklearn import svm, datasets\n",
    "from sklearn.svm import SVC\n",
    "from sklearn.model_selection import train_test_split\n",
    "from sklearn.utils import shuffle\n",
    "from sklearn.metrics import classification_report,accuracy_score\n",
    "import pandas as pd\n",
    "from sklearn.datasets import load_iris ##\n",
    "import os\n",
    "from sklearn.metrics import classification_report,accuracy_score\n",
    "from sklearn import svm\n",
    "from tqdm._tqdm_notebook import tqdm_notebook\n",
    "import pandas as pd"
   ]
  },
  {
   "cell_type": "markdown",
   "metadata": {},
   "source": [
    "## Directory"
   ]
  },
  {
   "cell_type": "code",
   "execution_count": 16,
   "metadata": {},
   "outputs": [],
   "source": [
    "base_dir = (\"/Users/Hyunjee/Desktop/AMLS_19-20_SN16075203/B1/cartoon_set\")\n",
    "os.chdir(base_dir)\n",
    "\n",
    "dataset_dir = os.path.join(base_dir, 'img')\n",
    "labels_filename = os.path.join(base_dir, 'labels.csv')\n",
    "\n"
   ]
  },
  {
   "cell_type": "markdown",
   "metadata": {},
   "source": [
    "## Data Preparation"
   ]
  },
  {
   "cell_type": "code",
   "execution_count": 88,
   "metadata": {},
   "outputs": [],
   "source": [
    "def csv_to_df():\n",
    "    df = pd.read_csv(labels_filename)\n",
    "    df.columns=['original']\n",
    "    df[\"file_name\"] = df['original'].str.split(\"\\t\").str[3]\n",
    "    df[\"faceShape_label\"] = df['original'].str.split(\"\\t\").str[2]\n",
    "    del df['original']\n",
    "    \n",
    "    face_shape = []\n",
    "    \n",
    "    for shape in df.faceShape_label:\n",
    "        if shape == '0':\n",
    "            face_shape.append(\"A\")\n",
    "        elif shape == '1':\n",
    "            face_shape.append(\"B\")\n",
    "        elif shape == '2':\n",
    "            face_shape.append(\"C\")\n",
    "        elif shape == '3':\n",
    "            face_shape.append(\"D\")\n",
    "        else:\n",
    "            face_shape.append(\"E\")\n",
    "    \n",
    "    df['face_shape'] = face_shape\n",
    "    \n",
    "    \n",
    "    \n",
    "    \n",
    "    return df\n"
   ]
  },
  {
   "cell_type": "code",
   "execution_count": 89,
   "metadata": {},
   "outputs": [
    {
     "data": {
      "text/html": [
       "<div>\n",
       "<style scoped>\n",
       "    .dataframe tbody tr th:only-of-type {\n",
       "        vertical-align: middle;\n",
       "    }\n",
       "\n",
       "    .dataframe tbody tr th {\n",
       "        vertical-align: top;\n",
       "    }\n",
       "\n",
       "    .dataframe thead th {\n",
       "        text-align: right;\n",
       "    }\n",
       "</style>\n",
       "<table border=\"1\" class=\"dataframe\">\n",
       "  <thead>\n",
       "    <tr style=\"text-align: right;\">\n",
       "      <th></th>\n",
       "      <th>file_name</th>\n",
       "      <th>faceShape_label</th>\n",
       "      <th>face_shape</th>\n",
       "    </tr>\n",
       "  </thead>\n",
       "  <tbody>\n",
       "    <tr>\n",
       "      <td>0</td>\n",
       "      <td>0.png</td>\n",
       "      <td>4</td>\n",
       "      <td>E</td>\n",
       "    </tr>\n",
       "    <tr>\n",
       "      <td>1</td>\n",
       "      <td>1.png</td>\n",
       "      <td>4</td>\n",
       "      <td>E</td>\n",
       "    </tr>\n",
       "    <tr>\n",
       "      <td>2</td>\n",
       "      <td>2.png</td>\n",
       "      <td>3</td>\n",
       "      <td>D</td>\n",
       "    </tr>\n",
       "    <tr>\n",
       "      <td>3</td>\n",
       "      <td>3.png</td>\n",
       "      <td>0</td>\n",
       "      <td>A</td>\n",
       "    </tr>\n",
       "    <tr>\n",
       "      <td>4</td>\n",
       "      <td>4.png</td>\n",
       "      <td>2</td>\n",
       "      <td>C</td>\n",
       "    </tr>\n",
       "    <tr>\n",
       "      <td>...</td>\n",
       "      <td>...</td>\n",
       "      <td>...</td>\n",
       "      <td>...</td>\n",
       "    </tr>\n",
       "    <tr>\n",
       "      <td>9995</td>\n",
       "      <td>9995.png</td>\n",
       "      <td>2</td>\n",
       "      <td>C</td>\n",
       "    </tr>\n",
       "    <tr>\n",
       "      <td>9996</td>\n",
       "      <td>9996.png</td>\n",
       "      <td>3</td>\n",
       "      <td>D</td>\n",
       "    </tr>\n",
       "    <tr>\n",
       "      <td>9997</td>\n",
       "      <td>9997.png</td>\n",
       "      <td>2</td>\n",
       "      <td>C</td>\n",
       "    </tr>\n",
       "    <tr>\n",
       "      <td>9998</td>\n",
       "      <td>9998.png</td>\n",
       "      <td>2</td>\n",
       "      <td>C</td>\n",
       "    </tr>\n",
       "    <tr>\n",
       "      <td>9999</td>\n",
       "      <td>9999.png</td>\n",
       "      <td>2</td>\n",
       "      <td>C</td>\n",
       "    </tr>\n",
       "  </tbody>\n",
       "</table>\n",
       "<p>10000 rows × 3 columns</p>\n",
       "</div>"
      ],
      "text/plain": [
       "     file_name faceShape_label face_shape\n",
       "0        0.png               4          E\n",
       "1        1.png               4          E\n",
       "2        2.png               3          D\n",
       "3        3.png               0          A\n",
       "4        4.png               2          C\n",
       "...        ...             ...        ...\n",
       "9995  9995.png               2          C\n",
       "9996  9996.png               3          D\n",
       "9997  9997.png               2          C\n",
       "9998  9998.png               2          C\n",
       "9999  9999.png               2          C\n",
       "\n",
       "[10000 rows x 3 columns]"
      ]
     },
     "execution_count": 89,
     "metadata": {},
     "output_type": "execute_result"
    }
   ],
   "source": [
    "csv_to_df()"
   ]
  },
  {
   "cell_type": "code",
   "execution_count": 4,
   "metadata": {},
   "outputs": [
    {
     "name": "stderr",
     "output_type": "stream",
     "text": [
      "Using TensorFlow backend.\n"
     ]
    }
   ],
   "source": [
    "from keras.layers import Dense, Conv2D, MaxPooling2D, BatchNormalization, GlobalAveragePooling2D\n",
    "from keras import models\n",
    "from tensorflow.python.keras.applications.vgg16 import preprocess_input\n",
    "from tensorflow.python.keras.preprocessing.image import ImageDataGenerator"
   ]
  },
  {
   "cell_type": "code",
   "execution_count": 5,
   "metadata": {},
   "outputs": [],
   "source": [
    "def getData():\n",
    "    train_data, test_data = train_test_split(df, train_size = 0.7, random_state=0)\n",
    "    \n",
    "    # Setup the data generator\n",
    "    data_generator = ImageDataGenerator(preprocessing_function=preprocess_input)\n",
    "    \n",
    "    # Get batches of training dataset from the dataframe\n",
    "    train_generator = data_generator.flow_from_dataframe(\n",
    "        dataframe = train_data, directory = dataset_dir,\n",
    "        column_x = \"file_name\", column_y = \"faceShape_label\",\n",
    "        class_mode = 'categorical', target_size = (32,32),\n",
    "        batch_size = 32, subset = 'train'\n",
    "    )\n",
    "    \n",
    "    # Get batches of validation dataset from the dataframe\n",
    "    validation_generator = data_generator.flow_from_dataframe(\n",
    "        dataframe = train_data, directory = dataset_dir,\n",
    "        column_x = \"file_name\", column_y = \"faceShape_label\",\n",
    "        class_mode = 'categorical', target_size = (32,32),\n",
    "        batch_size = 32, subset = 'validation'\n",
    "    )\n",
    "    \n",
    "    return train_data, test_data, data_generator, train_generator, validation_generator\n",
    "    \n",
    "    \n",
    "    "
   ]
  },
  {
   "cell_type": "markdown",
   "metadata": {},
   "source": [
    "## CNN Architecture"
   ]
  },
  {
   "cell_type": "code",
   "execution_count": 6,
   "metadata": {},
   "outputs": [
    {
     "ename": "NameError",
     "evalue": "name 'optimizers' is not defined",
     "output_type": "error",
     "traceback": [
      "\u001b[0;31m---------------------------------------------------------------------------\u001b[0m",
      "\u001b[0;31mNameError\u001b[0m                                 Traceback (most recent call last)",
      "\u001b[0;32m<ipython-input-6-6237695fe6c3>\u001b[0m in \u001b[0;36m<module>\u001b[0;34m\u001b[0m\n\u001b[1;32m     24\u001b[0m \u001b[0mmodel_faceShape\u001b[0m\u001b[0;34m.\u001b[0m\u001b[0madd\u001b[0m\u001b[0;34m(\u001b[0m\u001b[0mDense\u001b[0m\u001b[0;34m(\u001b[0m\u001b[0;36m2\u001b[0m\u001b[0;34m,\u001b[0m \u001b[0mactivation\u001b[0m\u001b[0;34m=\u001b[0m\u001b[0;34m'softmax'\u001b[0m\u001b[0;34m)\u001b[0m\u001b[0;34m)\u001b[0m\u001b[0;34m\u001b[0m\u001b[0;34m\u001b[0m\u001b[0m\n\u001b[1;32m     25\u001b[0m \u001b[0;34m\u001b[0m\u001b[0m\n\u001b[0;32m---> 26\u001b[0;31m \u001b[0mopt\u001b[0m \u001b[0;34m=\u001b[0m \u001b[0moptimizers\u001b[0m\u001b[0;34m.\u001b[0m\u001b[0mAdam\u001b[0m\u001b[0;34m(\u001b[0m\u001b[0mlr\u001b[0m\u001b[0;34m=\u001b[0m\u001b[0;36m0.001\u001b[0m\u001b[0;34m)\u001b[0m\u001b[0;34m\u001b[0m\u001b[0;34m\u001b[0m\u001b[0m\n\u001b[0m\u001b[1;32m     27\u001b[0m \u001b[0mmodel\u001b[0m\u001b[0;34m.\u001b[0m\u001b[0mcompile\u001b[0m\u001b[0;34m(\u001b[0m\u001b[0mloss\u001b[0m\u001b[0;34m=\u001b[0m\u001b[0;34m'categorical_crossentropy'\u001b[0m\u001b[0;34m,\u001b[0m \u001b[0moptimizer\u001b[0m\u001b[0;34m=\u001b[0m\u001b[0mopt\u001b[0m\u001b[0;34m,\u001b[0m \u001b[0mmetrics\u001b[0m\u001b[0;34m=\u001b[0m\u001b[0;34m[\u001b[0m\u001b[0;34m'accuracy'\u001b[0m\u001b[0;34m]\u001b[0m\u001b[0;34m)\u001b[0m\u001b[0;34m\u001b[0m\u001b[0;34m\u001b[0m\u001b[0m\n\u001b[1;32m     28\u001b[0m \u001b[0;34m\u001b[0m\u001b[0m\n",
      "\u001b[0;31mNameError\u001b[0m: name 'optimizers' is not defined"
     ]
    }
   ],
   "source": [
    "# starting point \n",
    "model_faceShape= models.Sequential()\n",
    "\n",
    "# Add first convolutional block\n",
    "model_faceShape.add(Conv2D(16, (3, 3), activation='relu', padding='same',input_shape=(128,128,3)))\n",
    "model_faceShape.add(MaxPooling2D((2, 2), padding='same'))\n",
    "\n",
    "# second block\n",
    "model_faceShape.add(Conv2D(32, (3, 3), activation='relu', padding='same'))\n",
    "model_faceShape.add(MaxPooling2D((2, 2), padding='same'))\n",
    "# third block\n",
    "model_faceShape.add(Conv2D(64, (3, 3), activation='relu', padding='same'))\n",
    "model_faceShape.add(MaxPooling2D((2, 2), padding='same'))\n",
    "# fourth block\n",
    "model_faceShape.add(Conv2D(128, (3, 3), activation='relu', padding='same'))\n",
    "model_faceShape.add(MaxPooling2D((2, 2), padding='same'))\n",
    "\n",
    "# global average pooling\n",
    "model_faceShape.add(GlobalAveragePooling2D())\n",
    "# fully connected layer\n",
    "model_faceShape.add(Dense(64, activation='relu'))\n",
    "model_faceShape.add(BatchNormalization())\n",
    "# make predictions\n",
    "model_faceShape.add(Dense(5), activation='softmax'))\n",
    "\n",
    "opt = optimizers.Adam(lr=0.001)\n",
    "model.compile(loss='categorical_crossentropy', optimizer=opt, metrics=['accuracy'])\n",
    "\n",
    "\n",
    "\n",
    "# Show a summary of the model. Check the number of trainable parameters\n",
    "model_faceShape.summary()\n",
    "\n",
    "\n"
   ]
  },
  {
   "cell_type": "code",
   "execution_count": null,
   "metadata": {},
   "outputs": [],
   "source": []
  }
 ],
 "metadata": {
  "kernelspec": {
   "display_name": "Python 3",
   "language": "python",
   "name": "python3"
  },
  "language_info": {
   "codemirror_mode": {
    "name": "ipython",
    "version": 3
   },
   "file_extension": ".py",
   "mimetype": "text/x-python",
   "name": "python",
   "nbconvert_exporter": "python",
   "pygments_lexer": "ipython3",
   "version": "3.6.9"
  }
 },
 "nbformat": 4,
 "nbformat_minor": 4
}
