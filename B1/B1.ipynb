{
 "cells": [
  {
   "cell_type": "code",
   "execution_count": 45,
   "metadata": {
    "ExecuteTime": {
     "end_time": "2020-01-13T14:23:38.142343Z",
     "start_time": "2020-01-13T14:23:37.477014Z"
    }
   },
   "outputs": [],
   "source": [
    "# Imports\n",
    "import numpy as np\n",
    "import matplotlib.pyplot as plt\n",
    "from sklearn import svm, datasets\n",
    "from sklearn.svm import SVC\n",
    "from sklearn.model_selection import train_test_split\n",
    "from sklearn.utils import shuffle\n",
    "from sklearn.metrics import classification_report,accuracy_score,recall_score, precision_score,f1_score\n",
    "import pandas as pd\n",
    "from sklearn.datasets import load_iris ##\n",
    "import os\n",
    "from sklearn.metrics import classification_report,accuracy_score\n",
    "from sklearn import svm\n",
    "from tqdm._tqdm_notebook import tqdm_notebook\n",
    "import pandas as pd\n",
    "import cv2\n",
    "from keras.models import load_model"
   ]
  },
  {
   "cell_type": "markdown",
   "metadata": {},
   "source": [
    "## Directory"
   ]
  },
  {
   "cell_type": "code",
   "execution_count": 100,
   "metadata": {
    "ExecuteTime": {
     "end_time": "2020-01-13T17:30:13.220020Z",
     "start_time": "2020-01-13T17:30:13.056195Z"
    }
   },
   "outputs": [],
   "source": [
    "# base_dir = (\"/Users/Hyunjee/Desktop/AMLS_19-20_HYUNJEE_KIM_SN16075203/B1\")\n",
    "# os.chdir(base_dir)\n",
    "\n",
    "base_dir = os.getcwd()\n",
    "\n",
    "dataset_dir = os.path.join(base_dir, 'img')\n",
    "labels_filename = os.path.join(base_dir, 'labels.csv')\n",
    "\n"
   ]
  },
  {
   "cell_type": "markdown",
   "metadata": {},
   "source": [
    "## Data Preparation"
   ]
  },
  {
   "cell_type": "code",
   "execution_count": 101,
   "metadata": {
    "ExecuteTime": {
     "end_time": "2020-01-13T17:30:15.457857Z",
     "start_time": "2020-01-13T17:30:15.403523Z"
    }
   },
   "outputs": [],
   "source": [
    "def data_frame_B1 (labels_filename):\n",
    "    df = pd.read_csv(labels_filename)\n",
    "    df.columns=['original']\n",
    "    df[\"file_name\"] = df['original'].str.split(\"\\t\").str[3]\n",
    "    df[\"faceShape_label\"] = df['original'].str.split(\"\\t\").str[2]\n",
    "    del df['original']\n",
    "    return df\n",
    "    \n",
    "    \n",
    "\n"
   ]
  },
  {
   "cell_type": "code",
   "execution_count": 102,
   "metadata": {
    "ExecuteTime": {
     "end_time": "2020-01-13T17:30:17.202052Z",
     "start_time": "2020-01-13T17:30:16.663197Z"
    }
   },
   "outputs": [
    {
     "data": {
      "text/html": [
       "<div>\n",
       "<style scoped>\n",
       "    .dataframe tbody tr th:only-of-type {\n",
       "        vertical-align: middle;\n",
       "    }\n",
       "\n",
       "    .dataframe tbody tr th {\n",
       "        vertical-align: top;\n",
       "    }\n",
       "\n",
       "    .dataframe thead th {\n",
       "        text-align: right;\n",
       "    }\n",
       "</style>\n",
       "<table border=\"1\" class=\"dataframe\">\n",
       "  <thead>\n",
       "    <tr style=\"text-align: right;\">\n",
       "      <th></th>\n",
       "      <th>file_name</th>\n",
       "      <th>faceShape_label</th>\n",
       "    </tr>\n",
       "  </thead>\n",
       "  <tbody>\n",
       "    <tr>\n",
       "      <td>0</td>\n",
       "      <td>0.png</td>\n",
       "      <td>4</td>\n",
       "    </tr>\n",
       "    <tr>\n",
       "      <td>1</td>\n",
       "      <td>1.png</td>\n",
       "      <td>4</td>\n",
       "    </tr>\n",
       "    <tr>\n",
       "      <td>2</td>\n",
       "      <td>2.png</td>\n",
       "      <td>3</td>\n",
       "    </tr>\n",
       "    <tr>\n",
       "      <td>3</td>\n",
       "      <td>3.png</td>\n",
       "      <td>0</td>\n",
       "    </tr>\n",
       "    <tr>\n",
       "      <td>4</td>\n",
       "      <td>4.png</td>\n",
       "      <td>2</td>\n",
       "    </tr>\n",
       "    <tr>\n",
       "      <td>...</td>\n",
       "      <td>...</td>\n",
       "      <td>...</td>\n",
       "    </tr>\n",
       "    <tr>\n",
       "      <td>9995</td>\n",
       "      <td>9995.png</td>\n",
       "      <td>2</td>\n",
       "    </tr>\n",
       "    <tr>\n",
       "      <td>9996</td>\n",
       "      <td>9996.png</td>\n",
       "      <td>3</td>\n",
       "    </tr>\n",
       "    <tr>\n",
       "      <td>9997</td>\n",
       "      <td>9997.png</td>\n",
       "      <td>2</td>\n",
       "    </tr>\n",
       "    <tr>\n",
       "      <td>9998</td>\n",
       "      <td>9998.png</td>\n",
       "      <td>2</td>\n",
       "    </tr>\n",
       "    <tr>\n",
       "      <td>9999</td>\n",
       "      <td>9999.png</td>\n",
       "      <td>2</td>\n",
       "    </tr>\n",
       "  </tbody>\n",
       "</table>\n",
       "<p>10000 rows × 2 columns</p>\n",
       "</div>"
      ],
      "text/plain": [
       "     file_name faceShape_label\n",
       "0        0.png               4\n",
       "1        1.png               4\n",
       "2        2.png               3\n",
       "3        3.png               0\n",
       "4        4.png               2\n",
       "...        ...             ...\n",
       "9995  9995.png               2\n",
       "9996  9996.png               3\n",
       "9997  9997.png               2\n",
       "9998  9998.png               2\n",
       "9999  9999.png               2\n",
       "\n",
       "[10000 rows x 2 columns]"
      ]
     },
     "execution_count": 102,
     "metadata": {},
     "output_type": "execute_result"
    }
   ],
   "source": [
    "df = data_frame_B1(labels_filename)\n",
    "df"
   ]
  },
  {
   "cell_type": "code",
   "execution_count": 15,
   "metadata": {
    "ExecuteTime": {
     "end_time": "2020-01-13T13:26:59.651061Z",
     "start_time": "2020-01-13T13:26:59.643366Z"
    }
   },
   "outputs": [],
   "source": [
    "from keras.layers import Dense, Conv2D, MaxPooling2D, BatchNormalization, GlobalAveragePooling2D\n",
    "from keras import models\n",
    "from keras.layers import Activation, Dropout, Flatten, Dense\n",
    "from keras import optimizers\n",
    "from sklearn.model_selection import train_test_split\n",
    "from keras.optimizers import adam\n",
    "from tensorflow.python.keras.applications.vgg16 import preprocess_input\n",
    "from tensorflow.python.keras.preprocessing.image import ImageDataGenerator"
   ]
  },
  {
   "cell_type": "code",
   "execution_count": 16,
   "metadata": {
    "ExecuteTime": {
     "end_time": "2020-01-13T13:27:00.033478Z",
     "start_time": "2020-01-13T13:27:00.027937Z"
    }
   },
   "outputs": [],
   "source": [
    "def split_data_B1(df):\n",
    "\n",
    "    train_data, test_data = train_test_split(df, random_state=0)\n",
    "    \n",
    "    return train_data, test_data"
   ]
  },
  {
   "cell_type": "code",
   "execution_count": 17,
   "metadata": {
    "ExecuteTime": {
     "end_time": "2020-01-13T13:27:00.291755Z",
     "start_time": "2020-01-13T13:27:00.241330Z"
    }
   },
   "outputs": [],
   "source": [
    "train_data, test_data = split_data_B1(df)"
   ]
  },
  {
   "cell_type": "code",
   "execution_count": 57,
   "metadata": {
    "ExecuteTime": {
     "end_time": "2020-01-13T14:30:57.500299Z",
     "start_time": "2020-01-13T14:30:56.968815Z"
    }
   },
   "outputs": [
    {
     "name": "stdout",
     "output_type": "stream",
     "text": [
      "Training Dataset Preparation\n",
      "Found 5625 validated image filenames belonging to 5 classes.\n",
      "\n",
      "Validation Dataset Preparation\n",
      "Found 1875 validated image filenames belonging to 5 classes.\n"
     ]
    }
   ],
   "source": [
    "# Setup the data generator\n",
    "data_generator = ImageDataGenerator(\n",
    "    rescale = 1./255.,\n",
    "    validation_split = 0.25,\n",
    "    horizontal_flip=True,\n",
    "    vertical_flip=True\n",
    "    \n",
    ")\n",
    "    \n",
    "# Get batches of training dataset from the dataframe\n",
    "print(\"Training Dataset Preparation\")\n",
    "train_generator = data_generator.flow_from_dataframe(\n",
    "        dataframe = train_data, directory = dataset_dir,\n",
    "        x_col = \"file_name\", y_col = \"faceShape_label\",\n",
    "        class_mode = 'categorical', target_size = (32,32),\n",
    "        batch_size = 64, subset = 'training')\n",
    "    \n",
    "    # Get batches of validation dataset from the dataframe\n",
    "print(\"\\nValidation Dataset Preparation\")\n",
    "validation_generator = data_generator.flow_from_dataframe(\n",
    "        dataframe = train_data, directory = dataset_dir,\n",
    "        x_col = \"file_name\", y_col = \"faceShape_label\",\n",
    "        class_mode = 'categorical', target_size = (32,32),\n",
    "        batch_size = 64, subset = 'validation')\n",
    "    \n",
    "    \n",
    "    "
   ]
  },
  {
   "cell_type": "code",
   "execution_count": null,
   "metadata": {},
   "outputs": [],
   "source": []
  },
  {
   "cell_type": "markdown",
   "metadata": {},
   "source": [
    "## CNN Architecture"
   ]
  },
  {
   "cell_type": "code",
   "execution_count": 58,
   "metadata": {
    "ExecuteTime": {
     "end_time": "2020-01-13T14:30:58.753254Z",
     "start_time": "2020-01-13T14:30:58.548255Z"
    }
   },
   "outputs": [
    {
     "name": "stdout",
     "output_type": "stream",
     "text": [
      "Model: \"sequential_5\"\n",
      "_________________________________________________________________\n",
      "Layer (type)                 Output Shape              Param #   \n",
      "=================================================================\n",
      "conv2d_17 (Conv2D)           (None, 32, 32, 24)        672       \n",
      "_________________________________________________________________\n",
      "max_pooling2d_17 (MaxPooling (None, 16, 16, 24)        0         \n",
      "_________________________________________________________________\n",
      "conv2d_18 (Conv2D)           (None, 16, 16, 48)        10416     \n",
      "_________________________________________________________________\n",
      "max_pooling2d_18 (MaxPooling (None, 8, 8, 48)          0         \n",
      "_________________________________________________________________\n",
      "conv2d_19 (Conv2D)           (None, 8, 8, 64)          27712     \n",
      "_________________________________________________________________\n",
      "max_pooling2d_19 (MaxPooling (None, 4, 4, 64)          0         \n",
      "_________________________________________________________________\n",
      "conv2d_20 (Conv2D)           (None, 4, 4, 96)          55392     \n",
      "_________________________________________________________________\n",
      "max_pooling2d_20 (MaxPooling (None, 2, 2, 96)          0         \n",
      "_________________________________________________________________\n",
      "flatten_5 (Flatten)          (None, 384)               0         \n",
      "_________________________________________________________________\n",
      "dense_5 (Dense)              (None, 5)                 1925      \n",
      "=================================================================\n",
      "Total params: 96,117\n",
      "Trainable params: 96,117\n",
      "Non-trainable params: 0\n",
      "_________________________________________________________________\n"
     ]
    }
   ],
   "source": [
    "# starting point \n",
    "model= models.Sequential()\n",
    "\n",
    "# Add first convolutional block\n",
    "model.add(Conv2D(24, (3, 3), activation='relu', padding='same',input_shape=(32,32,3)))\n",
    "\n",
    "model.add(MaxPooling2D((2, 2), padding='same'))\n",
    "\n",
    "# second block\n",
    "model.add(Conv2D(48, (3, 3), activation='relu', padding='same'))\n",
    "model.add(MaxPooling2D((2, 2), padding='same'))\n",
    "# third block\n",
    "model.add(Conv2D(64, (3, 3), activation='relu', padding='same'))\n",
    "model.add(MaxPooling2D((2, 2), padding='same'))\n",
    "# fourth block\n",
    "model.add(Conv2D(96, (3, 3), activation='relu', padding='same'))\n",
    "model.add(MaxPooling2D((2, 2), padding='same'))\n",
    "\n",
    "\n",
    "model.add(Flatten())\n",
    "model.add(Dense(5, activation='softmax'))\n",
    "\n",
    "\n",
    "\n",
    "\n",
    "# Show a summary of the model. Check the number of trainable parameters\n",
    "model.summary()\n",
    "\n",
    "\n"
   ]
  },
  {
   "cell_type": "code",
   "execution_count": 59,
   "metadata": {
    "ExecuteTime": {
     "end_time": "2020-01-13T14:30:59.416971Z",
     "start_time": "2020-01-13T14:30:59.277971Z"
    }
   },
   "outputs": [],
   "source": [
    "# use early stopping to optimally terminate training through callbacks\n",
    "# from tensorflow.python.keras.callbacks import EarlyStopping, ModelCheckpoint\n",
    "# es=EarlyStopping(monitor='val_loss', mode='min', verbose=1, patience=5)\n",
    "\n",
    "# # save best model automatically\n",
    "# mc= ModelCheckpoint('/Users/Hyunjee/Desktop/AMLS_19-20_HYUNJEE_KIM_SN16075203/B1/model_B1.h5', monitor='val_loss', mode='min', verbose=1, save_best_only=True)\n",
    "\n",
    "# cb_list=[es,mc]\n",
    "\n",
    "\n",
    "# compile model \n",
    "opt_adam = optimizers.Adam(lr=0.001)\n",
    "model.compile(loss='categorical_crossentropy', optimizer=opt_adam, metrics=['accuracy'])\n",
    "\n"
   ]
  },
  {
   "cell_type": "code",
   "execution_count": 60,
   "metadata": {
    "ExecuteTime": {
     "end_time": "2020-01-13T15:01:19.090923Z",
     "start_time": "2020-01-13T14:30:59.910433Z"
    }
   },
   "outputs": [
    {
     "name": "stdout",
     "output_type": "stream",
     "text": [
      "Epoch 1/25\n",
      "87/87 [==============================] - 106s 1s/step - loss: 1.6132 - accuracy: 0.1969 - val_loss: 1.6094 - val_accuracy: 0.1913\n",
      "\n",
      "Epoch 00001: val_loss improved from inf to 1.60941, saving model to /Users/Hyunjee/Desktop/AMLS_19-20_HYUNJEE_KIM_SN16075203/B1/model_B1.h5\n",
      "Epoch 2/25\n",
      "87/87 [==============================] - 136s 2s/step - loss: 1.6088 - accuracy: 0.2150 - val_loss: 1.6096 - val_accuracy: 0.2844\n",
      "\n",
      "Epoch 00002: val_loss did not improve from 1.60941\n",
      "Epoch 3/25\n",
      "87/87 [==============================] - 110s 1s/step - loss: 1.4659 - accuracy: 0.3290 - val_loss: 1.1909 - val_accuracy: 0.4219\n",
      "\n",
      "Epoch 00003: val_loss improved from 1.60941 to 1.19088, saving model to /Users/Hyunjee/Desktop/AMLS_19-20_HYUNJEE_KIM_SN16075203/B1/model_B1.h5\n",
      "Epoch 4/25\n",
      "87/87 [==============================] - 106s 1s/step - loss: 1.0049 - accuracy: 0.5501 - val_loss: 0.7020 - val_accuracy: 0.6516\n",
      "\n",
      "Epoch 00004: val_loss improved from 1.19088 to 0.70204, saving model to /Users/Hyunjee/Desktop/AMLS_19-20_HYUNJEE_KIM_SN16075203/B1/model_B1.h5\n",
      "Epoch 5/25\n",
      "87/87 [==============================] - 102s 1s/step - loss: 0.6095 - accuracy: 0.7592 - val_loss: 0.3965 - val_accuracy: 0.8465\n",
      "\n",
      "Epoch 00005: val_loss improved from 0.70204 to 0.39655, saving model to /Users/Hyunjee/Desktop/AMLS_19-20_HYUNJEE_KIM_SN16075203/B1/model_B1.h5\n",
      "Epoch 6/25\n",
      "87/87 [==============================] - 114s 1s/step - loss: 0.3834 - accuracy: 0.8590 - val_loss: 0.3789 - val_accuracy: 0.8851\n",
      "\n",
      "Epoch 00006: val_loss improved from 0.39655 to 0.37891, saving model to /Users/Hyunjee/Desktop/AMLS_19-20_HYUNJEE_KIM_SN16075203/B1/model_B1.h5\n",
      "Epoch 7/25\n",
      "87/87 [==============================] - 115s 1s/step - loss: 0.2645 - accuracy: 0.9083 - val_loss: 0.2945 - val_accuracy: 0.9122\n",
      "\n",
      "Epoch 00007: val_loss improved from 0.37891 to 0.29449, saving model to /Users/Hyunjee/Desktop/AMLS_19-20_HYUNJEE_KIM_SN16075203/B1/model_B1.h5\n",
      "Epoch 8/25\n",
      "87/87 [==============================] - 106s 1s/step - loss: 0.2101 - accuracy: 0.9277 - val_loss: 0.3837 - val_accuracy: 0.9072\n",
      "\n",
      "Epoch 00008: val_loss did not improve from 0.29449\n",
      "Epoch 9/25\n",
      "87/87 [==============================] - 102s 1s/step - loss: 0.1742 - accuracy: 0.9385 - val_loss: 0.1408 - val_accuracy: 0.9382\n",
      "\n",
      "Epoch 00009: val_loss improved from 0.29449 to 0.14084, saving model to /Users/Hyunjee/Desktop/AMLS_19-20_HYUNJEE_KIM_SN16075203/B1/model_B1.h5\n",
      "Epoch 10/25\n",
      "87/87 [==============================] - 92s 1s/step - loss: 0.1351 - accuracy: 0.9538 - val_loss: 0.1172 - val_accuracy: 0.9332\n",
      "\n",
      "Epoch 00010: val_loss improved from 0.14084 to 0.11718, saving model to /Users/Hyunjee/Desktop/AMLS_19-20_HYUNJEE_KIM_SN16075203/B1/model_B1.h5\n",
      "Epoch 11/25\n",
      "87/87 [==============================] - 108s 1s/step - loss: 0.1181 - accuracy: 0.9599 - val_loss: 0.2865 - val_accuracy: 0.9481\n",
      "\n",
      "Epoch 00011: val_loss did not improve from 0.11718\n",
      "Epoch 12/25\n",
      "87/87 [==============================] - 122s 1s/step - loss: 0.0992 - accuracy: 0.9667 - val_loss: 0.0414 - val_accuracy: 0.9486\n",
      "\n",
      "Epoch 00012: val_loss improved from 0.11718 to 0.04143, saving model to /Users/Hyunjee/Desktop/AMLS_19-20_HYUNJEE_KIM_SN16075203/B1/model_B1.h5\n",
      "Epoch 13/25\n",
      "87/87 [==============================] - 105s 1s/step - loss: 0.0938 - accuracy: 0.9709 - val_loss: 0.1667 - val_accuracy: 0.9580\n",
      "\n",
      "Epoch 00013: val_loss did not improve from 0.04143\n",
      "Epoch 14/25\n",
      "87/87 [==============================] - 101s 1s/step - loss: 0.0750 - accuracy: 0.9757 - val_loss: 0.1780 - val_accuracy: 0.9553\n",
      "\n",
      "Epoch 00014: val_loss did not improve from 0.04143\n",
      "Epoch 15/25\n",
      "87/87 [==============================] - 99s 1s/step - loss: 0.0630 - accuracy: 0.9809 - val_loss: 0.1992 - val_accuracy: 0.9680\n",
      "\n",
      "Epoch 00015: val_loss did not improve from 0.04143\n",
      "Epoch 16/25\n",
      "87/87 [==============================] - 94s 1s/step - loss: 0.0548 - accuracy: 0.9818 - val_loss: 0.0943 - val_accuracy: 0.9575\n",
      "\n",
      "Epoch 00016: val_loss did not improve from 0.04143\n",
      "Epoch 17/25\n",
      "87/87 [==============================] - 97s 1s/step - loss: 0.0539 - accuracy: 0.9822 - val_loss: 0.0869 - val_accuracy: 0.9509\n",
      "\n",
      "Epoch 00017: val_loss did not improve from 0.04143\n",
      "Epoch 00017: early stopping\n"
     ]
    }
   ],
   "source": [
    "history = model.fit_generator(\n",
    "        train_generator,\n",
    "        epochs=25,\n",
    "        steps_per_epoch=train_generator.samples // 64,\n",
    "        validation_data=validation_generator,\n",
    "        validation_steps=validation_generator.samples // 64)\n",
    "#         callbacks=cb_list)"
   ]
  },
  {
   "cell_type": "code",
   "execution_count": 61,
   "metadata": {
    "ExecuteTime": {
     "end_time": "2020-01-13T15:01:20.686760Z",
     "start_time": "2020-01-13T15:01:19.122982Z"
    }
   },
   "outputs": [
    {
     "data": {
      "image/png": "[encoded data removed]",
      "text/plain": [
       "<Figure size 432x288 with 1 Axes>"
      ]
     },
     "metadata": {
      "needs_background": "light"
     },
     "output_type": "display_data"
    }
   ],
   "source": [
    "# plot accuracy score for trainig and validation\n",
    "import matplotlib.pyplot as plt\n",
    "plt.plot(history.history['accuracy'])\n",
    "plt.plot(history.history['val_accuracy'])\n",
    "#plt.ylim([.5,1.1])\n",
    "plt.ylabel('Accuracy')\n",
    "plt.xlabel('Epoch')\n",
    "plt.legend(['Train', 'Validation'], loc='upper left')\n",
    "plt.savefig(\"model_B1_1.png\", dpi=300)"
   ]
  },
  {
   "cell_type": "code",
   "execution_count": 62,
   "metadata": {
    "ExecuteTime": {
     "end_time": "2020-01-13T15:01:21.747735Z",
     "start_time": "2020-01-13T15:01:20.732710Z"
    }
   },
   "outputs": [
    {
     "data": {
      "image/png": "[encoded data removed]",
      "text/plain": [
       "<Figure size 432x288 with 1 Axes>"
      ]
     },
     "metadata": {
      "needs_background": "light"
     },
     "output_type": "display_data"
    }
   ],
   "source": [
    "# plot loss for trainig and validation\n",
    "import matplotlib.pyplot as plt\n",
    "plt.plot(history.history['loss'])\n",
    "plt.plot(history.history['val_loss'])\n",
    "#plt.ylim([.5,1.1])\n",
    "plt.ylabel('Loss')\n",
    "plt.xlabel('Epoch')\n",
    "plt.legend(['Train', 'Validation'], loc='upper left')\n",
    "plt.savefig(\"model_B1_2.png\", dpi=300)"
   ]
  },
  {
   "cell_type": "markdown",
   "metadata": {},
   "source": [
    "## Model Evaluation \n"
   ]
  },
  {
   "cell_type": "code",
   "execution_count": 103,
   "metadata": {
    "ExecuteTime": {
     "end_time": "2020-01-13T17:31:46.169672Z",
     "start_time": "2020-01-13T17:30:22.738188Z"
    }
   },
   "outputs": [
    {
     "name": "stdout",
     "output_type": "stream",
     "text": [
      "Test Dataset Preparataion\n",
      "Found 7500 validated image filenames belonging to 5 classes.\n"
     ]
    }
   ],
   "source": [
    "from keras.models import load_model\n",
    "\n",
    "print(\"Test Dataset Preparataion\")\n",
    "test_data_generator = ImageDataGenerator(rescale=1./255)\n",
    "test_generator = test_data_generator.flow_from_dataframe(\n",
    "        dataframe = train_data, directory = dataset_dir,\n",
    "        x_col = \"file_name\", y_col = \"faceShape_label\",\n",
    "        class_mode = 'categorical', target_size = (32,32),\n",
    "        batch_size =1, shuffle = False)\n",
    "\n",
    "file_names = test_generator.filenames\n",
    "sample_size = len(file_names)\n",
    "\n",
    "model_path = os.getcwd() + '/model_B1.h5'\n",
    "saved_model = load_model(model_path)\n",
    "\n",
    "model_pred_test = saved_model.predict_generator(test_generator, sample_size)\n"
   ]
  },
  {
   "cell_type": "markdown",
   "metadata": {
    "ExecuteTime": {
     "end_time": "2020-01-13T09:14:45.977466Z",
     "start_time": "2020-01-13T09:02:07.513Z"
    }
   },
   "source": [
    "## Confusion Matrix"
   ]
  },
  {
   "cell_type": "code",
   "execution_count": 93,
   "metadata": {
    "ExecuteTime": {
     "end_time": "2020-01-13T15:34:45.439016Z",
     "start_time": "2020-01-13T15:34:44.506192Z"
    }
   },
   "outputs": [
    {
     "name": "stdout",
     "output_type": "stream",
     "text": [
      "Confusion matrix, without normalization\n",
      "[[1431   40    0   15    5]\n",
      " [  14 1497    0    2    1]\n",
      " [   0    0 1475   27    1]\n",
      " [  59   16    1 1423   16]\n",
      " [   5   33    0   18 1421]]\n",
      "Normalized confusion matrix\n",
      "[[9.60e-01 2.68e-02 0.00e+00 1.01e-02 3.35e-03]\n",
      " [9.25e-03 9.89e-01 0.00e+00 1.32e-03 6.61e-04]\n",
      " [0.00e+00 0.00e+00 9.81e-01 1.80e-02 6.65e-04]\n",
      " [3.89e-02 1.06e-02 6.60e-04 9.39e-01 1.06e-02]\n",
      " [3.39e-03 2.23e-02 0.00e+00 1.22e-02 9.62e-01]]\n"
     ]
    },
    {
     "data": {
      "image/png": "[encoded data removed]",
      "text/plain": [
       "<Figure size 432x288 with 2 Axes>"
      ]
     },
     "metadata": {
      "needs_background": "light"
     },
     "output_type": "display_data"
    },
    {
     "data": {
      "image/png": "[encoded data removed]",
      "text/plain": [
       "<Figure size 432x288 with 2 Axes>"
      ]
     },
     "metadata": {
      "needs_background": "light"
     },
     "output_type": "display_data"
    }
   ],
   "source": [
    "from sklearn import svm, datasets\n",
    "from sklearn.model_selection import train_test_split\n",
    "from sklearn.metrics import confusion_matrix\n",
    "from sklearn.utils.multiclass import unique_labels\n",
    "\n",
    "class_names = np.array(['FaceShape0', 'FaceShape1','FaceShape2','FaceShape3','FaceShape4'])\n",
    "\n",
    "def plot_confusion_matrix(y_true, y_pred, classes,\n",
    "                          normalize=False,\n",
    "                          title=None,\n",
    "                          cmap=plt.cm.Blues):\n",
    "    \"\"\"\n",
    "    This function prints and plots the confusion matrix.\n",
    "    Normalization can be applied by setting `normalize=True`.\n",
    "    \"\"\"\n",
    "    if not title:\n",
    "        if normalize:\n",
    "            title = 'Normalized confusion matrix'\n",
    "        else:\n",
    "            title = 'Confusion matrix, without normalization'\n",
    "\n",
    "\n",
    "\n",
    "    cm = confusion_matrix(true_test, pred_test)\n",
    "    classes = class_names\n",
    "    \n",
    "    if normalize:\n",
    "        cm = cm.astype('float') / cm.sum(axis=1)[:, np.newaxis]\n",
    "        print(\"Normalized confusion matrix\")\n",
    "    else:\n",
    "        print('Confusion matrix, without normalization')\n",
    "\n",
    "    fig, ax = plt.subplots()\n",
    "    im = ax.imshow(cm, interpolation=None, cmap=cmap)\n",
    "    \n",
    "    print(cm)\n",
    "    ax.figure.colorbar(im, ax=ax)\n",
    "\n",
    "    for i in range(len(ax.yaxis.get_major_ticks())):\n",
    "        ax.yaxis.get_major_ticks()[i].label1.set_visible(False)\n",
    "        \n",
    "    for i in [2, 6]:\n",
    "        ax.yaxis.get_major_ticks()[i].label1.set_visible(True)\n",
    "\n",
    "        \n",
    "    ax.set(\n",
    "        xticks = np.arange(cm.shape[1]),\n",
    "       # ... and label them with the respective list entries\n",
    "       #xticklabels=classes, yticklabels=[0, 0, classes[0], 0, 0, 0, classes[1], 0, 0],\n",
    "       xticklabels=classes, yticklabels=classes,\n",
    "        #yticklabels=[0, 0, classes[0], 0, 0, 0, classes[1], 0, 0],\n",
    "       \n",
    "        title=title,\n",
    "       ylabel='True label',\n",
    "       xlabel='Predicted label'\n",
    "    )\n",
    "    \n",
    "    # Rotate the tick labels and set their alignment.\n",
    "    plt.setp(ax.get_xticklabels(), rotation=45, ha=\"right\",\n",
    "             rotation_mode=\"anchor\")\n",
    "\n",
    "    # Loop over data dimensions and create text annotations.\n",
    "    fmt = '.2f' if normalize else 'd'\n",
    "    thresh = cm.max() / 2.\n",
    "    for i in range(cm.shape[0]):\n",
    "        for j in range(cm.shape[1]):\n",
    "            ax.text(j, i, format(cm[i, j], fmt),\n",
    "                    ha=\"center\", va=\"center\",\n",
    "                    color=\"white\" if cm[i, j] > thresh else \"black\")\n",
    "    fig.tight_layout()\n",
    "    return ax\n",
    "\n",
    "\n",
    "np.set_printoptions(precision=2)\n",
    "\n",
    "pred_test = np.argmax(model_pred_test, axis = 1)\n",
    "true_test = np.array(test_generator.classes)\n",
    "# Plot non-normalized confusion matrix\n",
    "plot_confusion_matrix(true_test, pred_test, classes=class_names,\n",
    "                      title='Confusion matrix, without normalization')\n",
    "\n",
    "# Plot normalized confusion matrix\n",
    "plot_confusion_matrix(true_test, pred_test, classes=class_names, normalize=True,\n",
    "                      title='Normalized confusion matrix')\n",
    "\n",
    "plt.show()"
   ]
  },
  {
   "cell_type": "markdown",
   "metadata": {
    "ExecuteTime": {
     "end_time": "2020-01-13T07:48:01.217047Z",
     "start_time": "2020-01-13T07:48:01.189708Z"
    }
   },
   "source": [
    "## Validation Accuracy"
   ]
  },
  {
   "cell_type": "code",
   "execution_count": 94,
   "metadata": {
    "ExecuteTime": {
     "end_time": "2020-01-13T15:34:45.470015Z",
     "start_time": "2020-01-13T15:34:45.442679Z"
    }
   },
   "outputs": [
    {
     "name": "stdout",
     "output_type": "stream",
     "text": [
      "Accuracy :0.9662666666666667\n",
      "Precision :0.9667675595334714\n",
      "Recall :0.9662519690441786\n",
      "F1 Score :0.966338555117719\n"
     ]
    },
    {
     "name": "stderr",
     "output_type": "stream",
     "text": [
      "/Users/Hyunjee/anaconda3/envs/aml/lib/python3.6/site-packages/sklearn/metrics/_classification.py:1321: UserWarning: Note that pos_label (set to 'positive') is ignored when average != 'binary' (got 'macro'). You may use labels=[pos_label] to specify a single positive class.\n",
      "  % (pos_label, average), UserWarning)\n"
     ]
    }
   ],
   "source": [
    "acc_comp = accuracy_score(true_test, pred_test)\n",
    "rec_comp = recall_score(true_test, pred_test, pos_label = 'positive', average ='macro')\n",
    "prec_comp = precision_score(true_test, pred_test, pos_label = 'positive', average ='macro')\n",
    "f1_comp = f1_score(true_test, pred_test, pos_label = 'positive', average ='macro')\n",
    "print(\"Accuracy :\" + str(acc_comp))\n",
    "print(\"Precision :\" + str(prec_comp))\n",
    "print(\"Recall :\" + str(rec_comp))\n",
    "print(\"F1 Score :\" + str(f1_comp))"
   ]
  },
  {
   "cell_type": "markdown",
   "metadata": {
    "ExecuteTime": {
     "end_time": "2020-01-13T07:48:17.590778Z",
     "start_time": "2020-01-13T07:48:17.587169Z"
    }
   },
   "source": [
    "## Train Accuracy"
   ]
  },
  {
   "cell_type": "code",
   "execution_count": 95,
   "metadata": {
    "ExecuteTime": {
     "end_time": "2020-01-13T15:34:46.766924Z",
     "start_time": "2020-01-13T15:34:45.473104Z"
    }
   },
   "outputs": [
    {
     "name": "stdout",
     "output_type": "stream",
     "text": [
      "Found 7500 validated image filenames belonging to 5 classes.\n",
      "58/58 [==============================] - 1s 14ms/step\n",
      "Train loss: 9.536738616588991e-07\n",
      "Train Accuracy: 0.9482758641242981\n"
     ]
    }
   ],
   "source": [
    "score_generator = data_generator.flow_from_dataframe(\n",
    "        dataframe = train_data, directory = dataset_dir,\n",
    "        x_col = \"file_name\", y_col = \"faceShape_label\",\n",
    "        class_mode = 'categorical', target_size = (32,32),\n",
    "        batch_size =1, shuffle = False)\n",
    "\n",
    "train_metric = saved_model.evaluate_generator(score_generator, steps = validation_generator.samples // 32, verbose=1)\n",
    "\n",
    "print('Train loss: '+ str(train_metric[0]))\n",
    "print('Train Accuracy: '+ str(train_metric[1]))\n",
    "      \n",
    "      \n",
    "      \n",
    "      \n",
    "      "
   ]
  },
  {
   "cell_type": "markdown",
   "metadata": {},
   "source": [
    "## New Test Dataset Preparation"
   ]
  },
  {
   "cell_type": "code",
   "execution_count": 96,
   "metadata": {
    "ExecuteTime": {
     "end_time": "2020-01-13T15:34:46.779990Z",
     "start_time": "2020-01-13T15:34:46.770447Z"
    }
   },
   "outputs": [
    {
     "data": {
      "text/plain": [
       "'/Users/Hyunjee/Desktop/AMLS_19-20_HYUNJEE_KIM_SN16075203/Dataset/cartoon_set_test/labels_test.csv'"
      ]
     },
     "execution_count": 96,
     "metadata": {},
     "output_type": "execute_result"
    }
   ],
   "source": [
    "test_labels_filename_b1"
   ]
  },
  {
   "cell_type": "code",
   "execution_count": 105,
   "metadata": {
    "ExecuteTime": {
     "end_time": "2020-01-13T17:35:13.266855Z",
     "start_time": "2020-01-13T17:35:13.229190Z"
    }
   },
   "outputs": [],
   "source": [
    "\n",
    "test_base_dir_b1 = os.getcwd()\n",
    "test_base_dir_b1 = '/'.join(test_base_dir_b1.split('/')[:-1]) + '/Dataset/cartoon_set_test'\n",
    "\n",
    "test_dataset_dir_b1 = os.path.join(test_base_dir_b1, 'img')\n",
    "test_labels_filename_b1 = os.path.join(test_base_dir_b1, 'labels_test.csv')\n",
    "\n"
   ]
  },
  {
   "cell_type": "code",
   "execution_count": 98,
   "metadata": {
    "ExecuteTime": {
     "end_time": "2020-01-13T15:34:46.878845Z",
     "start_time": "2020-01-13T15:34:46.793872Z"
    }
   },
   "outputs": [
    {
     "data": {
      "text/html": [
       "<div>\n",
       "<style scoped>\n",
       "    .dataframe tbody tr th:only-of-type {\n",
       "        vertical-align: middle;\n",
       "    }\n",
       "\n",
       "    .dataframe tbody tr th {\n",
       "        vertical-align: top;\n",
       "    }\n",
       "\n",
       "    .dataframe thead th {\n",
       "        text-align: right;\n",
       "    }\n",
       "</style>\n",
       "<table border=\"1\" class=\"dataframe\">\n",
       "  <thead>\n",
       "    <tr style=\"text-align: right;\">\n",
       "      <th></th>\n",
       "      <th>file_name</th>\n",
       "      <th>faceShape_label</th>\n",
       "    </tr>\n",
       "  </thead>\n",
       "  <tbody>\n",
       "    <tr>\n",
       "      <td>0</td>\n",
       "      <td>0.png</td>\n",
       "      <td>1</td>\n",
       "    </tr>\n",
       "    <tr>\n",
       "      <td>1</td>\n",
       "      <td>1.png</td>\n",
       "      <td>4</td>\n",
       "    </tr>\n",
       "    <tr>\n",
       "      <td>2</td>\n",
       "      <td>2.png</td>\n",
       "      <td>2</td>\n",
       "    </tr>\n",
       "    <tr>\n",
       "      <td>3</td>\n",
       "      <td>3.png</td>\n",
       "      <td>2</td>\n",
       "    </tr>\n",
       "    <tr>\n",
       "      <td>4</td>\n",
       "      <td>4.png</td>\n",
       "      <td>3</td>\n",
       "    </tr>\n",
       "    <tr>\n",
       "      <td>...</td>\n",
       "      <td>...</td>\n",
       "      <td>...</td>\n",
       "    </tr>\n",
       "    <tr>\n",
       "      <td>2495</td>\n",
       "      <td>2495.png</td>\n",
       "      <td>4</td>\n",
       "    </tr>\n",
       "    <tr>\n",
       "      <td>2496</td>\n",
       "      <td>2496.png</td>\n",
       "      <td>4</td>\n",
       "    </tr>\n",
       "    <tr>\n",
       "      <td>2497</td>\n",
       "      <td>2497.png</td>\n",
       "      <td>4</td>\n",
       "    </tr>\n",
       "    <tr>\n",
       "      <td>2498</td>\n",
       "      <td>2498.png</td>\n",
       "      <td>4</td>\n",
       "    </tr>\n",
       "    <tr>\n",
       "      <td>2499</td>\n",
       "      <td>2499.png</td>\n",
       "      <td>4</td>\n",
       "    </tr>\n",
       "  </tbody>\n",
       "</table>\n",
       "<p>2500 rows × 2 columns</p>\n",
       "</div>"
      ],
      "text/plain": [
       "     file_name faceShape_label\n",
       "0        0.png               1\n",
       "1        1.png               4\n",
       "2        2.png               2\n",
       "3        3.png               2\n",
       "4        4.png               3\n",
       "...        ...             ...\n",
       "2495  2495.png               4\n",
       "2496  2496.png               4\n",
       "2497  2497.png               4\n",
       "2498  2498.png               4\n",
       "2499  2499.png               4\n",
       "\n",
       "[2500 rows x 2 columns]"
      ]
     },
     "execution_count": 98,
     "metadata": {},
     "output_type": "execute_result"
    }
   ],
   "source": [
    "def test_df_B1 (test_labels_filename):\n",
    "    df_b1 = pd.read_csv(test_labels_filename)\n",
    "    df_b1.columns=['original']\n",
    "    df_b1[\"file_name\"] = df_b1['original'].str.split(\"\\t\").str[3]\n",
    "    df_b1[\"faceShape_label\"] = df_b1['original'].str.split(\"\\t\").str[2]\n",
    "    del df_b1['original']\n",
    "    return df_b1\n",
    "\n",
    "new_test_b1 = test_df_B1 (test_labels_filename_b1)\n",
    "new_test_b1"
   ]
  },
  {
   "cell_type": "markdown",
   "metadata": {
    "ExecuteTime": {
     "end_time": "2020-01-13T14:24:48.986844Z",
     "start_time": "2020-01-13T14:24:48.968181Z"
    }
   },
   "source": [
    "## Test Accuracy"
   ]
  },
  {
   "cell_type": "code",
   "execution_count": 99,
   "metadata": {
    "ExecuteTime": {
     "end_time": "2020-01-13T15:34:47.323677Z",
     "start_time": "2020-01-13T15:34:46.893854Z"
    }
   },
   "outputs": [
    {
     "name": "stdout",
     "output_type": "stream",
     "text": [
      "Found 2500 validated image filenames belonging to 5 classes.\n",
      "29/29 [==============================] - 0s 10ms/step\n",
      "Test loss: 7.629365427419543e-06\n",
      "Test Accuracy: 1.0\n"
     ]
    }
   ],
   "source": [
    "test_score_generator = data_generator.flow_from_dataframe(\n",
    "        dataframe = new_test_b1, directory = test_dataset_dir_b1,\n",
    "        x_col = \"file_name\", y_col = \"faceShape_label\",\n",
    "        class_mode = 'categorical', target_size = (32,32),\n",
    "        batch_size =1, shuffle = False)\n",
    "\n",
    "new_test_metric = saved_model.evaluate_generator(test_score_generator, steps = validation_generator.samples // 64, verbose=1)\n",
    "\n",
    "print('Test loss: '+ str(new_test_metric[0]))\n",
    "print('Test Accuracy: '+ str(new_test_metric[1]))\n",
    "      \n",
    "      "
   ]
  },
  {
   "cell_type": "code",
   "execution_count": null,
   "metadata": {},
   "outputs": [],
   "source": []
  },
  {
   "cell_type": "code",
   "execution_count": null,
   "metadata": {},
   "outputs": [],
   "source": []
  },
  {
   "cell_type": "code",
   "execution_count": null,
   "metadata": {},
   "outputs": [],
   "source": []
  }
 ],
 "metadata": {
  "kernelspec": {
   "display_name": "Python 3",
   "language": "python",
   "name": "python3"
  },
  "language_info": {
   "codemirror_mode": {
    "name": "ipython",
    "version": 3
   },
   "file_extension": ".py",
   "mimetype": "text/x-python",
   "name": "python",
   "nbconvert_exporter": "python",
   "pygments_lexer": "ipython3",
   "version": "3.6.9"
  }
 },
 "nbformat": 4,
 "nbformat_minor": 4
}
