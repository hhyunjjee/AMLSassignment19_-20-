{
 "cells": [
  {
   "cell_type": "code",
   "execution_count": 201,
   "metadata": {
    "ExecuteTime": {
     "end_time": "2020-01-13T09:19:37.778676Z",
     "start_time": "2020-01-13T09:19:37.585239Z"
    }
   },
   "outputs": [],
   "source": [
    "# Imports\n",
    "import numpy as np\n",
    "import matplotlib.pyplot as plt\n",
    "from sklearn import svm, datasets\n",
    "from sklearn.svm import SVC\n",
    "from sklearn.model_selection import train_test_split\n",
    "from sklearn.utils import shuffle\n",
    "from sklearn.metrics import classification_report,accuracy_score,recall_score, precision_score,f1_score\n",
    "import pandas as pd\n",
    "from sklearn.datasets import load_iris ##\n",
    "import os\n",
    "from sklearn.metrics import classification_report,accuracy_score\n",
    "from sklearn import svm\n",
    "from tqdm._tqdm_notebook import tqdm_notebook\n",
    "import pandas as pd\n",
    "import cv2\n",
    "from keras.models import load_model"
   ]
  },
  {
   "cell_type": "markdown",
   "metadata": {},
   "source": [
    "## Directory"
   ]
  },
  {
   "cell_type": "code",
   "execution_count": 220,
   "metadata": {
    "ExecuteTime": {
     "end_time": "2020-01-13T14:00:01.999587Z",
     "start_time": "2020-01-13T14:00:01.757398Z"
    }
   },
   "outputs": [],
   "source": [
    "base_dir_b2= (\"/Users/Hyunjee/Desktop/AMLS_19-20_HYUNJEE_KIM_SN16075203/B2\")\n",
    "os.chdir(base_dir_b2)\n",
    "\n",
    "dataset_dir_b2 = os.path.join(base_dir_b2, 'img')\n",
    "labels_filename_b2 = os.path.join(base_dir_b2, 'labels.csv')\n",
    "\n",
    "test_base_dir_b2 = (\"/Users/Hyunjee/Desktop/AMLS_19-20_HYUNJEE_KIM_SN16075203/Dataset/cartoon_set_test\")\n",
    "test_dataset_dir_b2 = os.path.join(test_base_dir_b2, 'img')\n",
    "test_labels_filename_b2 = os.path.join(test_base_dir_b2, 'labels_test.csv')\n",
    "\n",
    "\n"
   ]
  },
  {
   "cell_type": "markdown",
   "metadata": {},
   "source": [
    "## Data Preparation"
   ]
  },
  {
   "cell_type": "code",
   "execution_count": 190,
   "metadata": {
    "ExecuteTime": {
     "end_time": "2020-01-13T07:53:28.167834Z",
     "start_time": "2020-01-13T07:53:28.146421Z"
    }
   },
   "outputs": [],
   "source": [
    "def data_frame_B2 (labels_filename_b2):\n",
    "    df_b2 = pd.read_csv(labels_filename_b2)\n",
    "    df_b2.columns=['original']\n",
    "    df_b2[\"file_name\"] = df_b2['original'].str.split(\"\\t\").str[3]\n",
    "    df_b2[\"eyecolour_label\"] = df_b2['original'].str.split(\"\\t\").str[1]\n",
    "    del df_b2['original']\n",
    "    eye_colour = []\n",
    "    \n",
    "    for eye in df_b2.eyecolour_label:\n",
    "        if eye == '0':\n",
    "            eye_colour.append(\"Brown\")\n",
    "        elif eye == '1':\n",
    "            eye_colour.append(\"Blue\")\n",
    "        elif eye == '2':\n",
    "            eye_colour.append(\"Green\")\n",
    "        elif eye == '3':\n",
    "            eye_colour.append(\"Gray\")\n",
    "        else:\n",
    "            eye_colour.append(\"Black\")\n",
    "    \n",
    "    df_b2['eye_colour'] = eye_colour\n",
    "    \n",
    "\n",
    "    return df_b2\n",
    "    "
   ]
  },
  {
   "cell_type": "code",
   "execution_count": 191,
   "metadata": {
    "ExecuteTime": {
     "end_time": "2020-01-13T07:53:28.840061Z",
     "start_time": "2020-01-13T07:53:28.676384Z"
    }
   },
   "outputs": [
    {
     "data": {
      "text/html": [
       "<div>\n",
       "<style scoped>\n",
       "    .dataframe tbody tr th:only-of-type {\n",
       "        vertical-align: middle;\n",
       "    }\n",
       "\n",
       "    .dataframe tbody tr th {\n",
       "        vertical-align: top;\n",
       "    }\n",
       "\n",
       "    .dataframe thead th {\n",
       "        text-align: right;\n",
       "    }\n",
       "</style>\n",
       "<table border=\"1\" class=\"dataframe\">\n",
       "  <thead>\n",
       "    <tr style=\"text-align: right;\">\n",
       "      <th></th>\n",
       "      <th>file_name</th>\n",
       "      <th>eyecolour_label</th>\n",
       "      <th>eye_colour</th>\n",
       "    </tr>\n",
       "  </thead>\n",
       "  <tbody>\n",
       "    <tr>\n",
       "      <td>0</td>\n",
       "      <td>0.png</td>\n",
       "      <td>1</td>\n",
       "      <td>Blue</td>\n",
       "    </tr>\n",
       "    <tr>\n",
       "      <td>1</td>\n",
       "      <td>1.png</td>\n",
       "      <td>2</td>\n",
       "      <td>Green</td>\n",
       "    </tr>\n",
       "    <tr>\n",
       "      <td>2</td>\n",
       "      <td>2.png</td>\n",
       "      <td>2</td>\n",
       "      <td>Green</td>\n",
       "    </tr>\n",
       "    <tr>\n",
       "      <td>3</td>\n",
       "      <td>3.png</td>\n",
       "      <td>2</td>\n",
       "      <td>Green</td>\n",
       "    </tr>\n",
       "    <tr>\n",
       "      <td>4</td>\n",
       "      <td>4.png</td>\n",
       "      <td>0</td>\n",
       "      <td>Brown</td>\n",
       "    </tr>\n",
       "    <tr>\n",
       "      <td>...</td>\n",
       "      <td>...</td>\n",
       "      <td>...</td>\n",
       "      <td>...</td>\n",
       "    </tr>\n",
       "    <tr>\n",
       "      <td>9995</td>\n",
       "      <td>9995.png</td>\n",
       "      <td>3</td>\n",
       "      <td>Gray</td>\n",
       "    </tr>\n",
       "    <tr>\n",
       "      <td>9996</td>\n",
       "      <td>9996.png</td>\n",
       "      <td>0</td>\n",
       "      <td>Brown</td>\n",
       "    </tr>\n",
       "    <tr>\n",
       "      <td>9997</td>\n",
       "      <td>9997.png</td>\n",
       "      <td>1</td>\n",
       "      <td>Blue</td>\n",
       "    </tr>\n",
       "    <tr>\n",
       "      <td>9998</td>\n",
       "      <td>9998.png</td>\n",
       "      <td>0</td>\n",
       "      <td>Brown</td>\n",
       "    </tr>\n",
       "    <tr>\n",
       "      <td>9999</td>\n",
       "      <td>9999.png</td>\n",
       "      <td>2</td>\n",
       "      <td>Green</td>\n",
       "    </tr>\n",
       "  </tbody>\n",
       "</table>\n",
       "<p>10000 rows × 3 columns</p>\n",
       "</div>"
      ],
      "text/plain": [
       "     file_name eyecolour_label eye_colour\n",
       "0        0.png               1       Blue\n",
       "1        1.png               2      Green\n",
       "2        2.png               2      Green\n",
       "3        3.png               2      Green\n",
       "4        4.png               0      Brown\n",
       "...        ...             ...        ...\n",
       "9995  9995.png               3       Gray\n",
       "9996  9996.png               0      Brown\n",
       "9997  9997.png               1       Blue\n",
       "9998  9998.png               0      Brown\n",
       "9999  9999.png               2      Green\n",
       "\n",
       "[10000 rows x 3 columns]"
      ]
     },
     "execution_count": 191,
     "metadata": {},
     "output_type": "execute_result"
    }
   ],
   "source": [
    "df_b2 = data_frame_B2(labels_filename_b2)\n",
    "df_b2"
   ]
  },
  {
   "cell_type": "code",
   "execution_count": 192,
   "metadata": {
    "ExecuteTime": {
     "end_time": "2020-01-13T07:53:31.041867Z",
     "start_time": "2020-01-13T07:53:30.993065Z"
    }
   },
   "outputs": [],
   "source": [
    "from keras.layers import Dense, Conv2D, MaxPooling2D, BatchNormalization, GlobalAveragePooling2D\n",
    "from keras import models\n",
    "from keras.layers import Activation, Dropout, Flatten, Dense\n",
    "from keras import optimizers\n",
    "from sklearn.model_selection import train_test_split\n",
    "from keras.optimizers import adam\n",
    "from tensorflow.python.keras.applications.vgg16 import preprocess_input\n",
    "from tensorflow.python.keras.preprocessing.image import ImageDataGenerator"
   ]
  },
  {
   "cell_type": "code",
   "execution_count": 193,
   "metadata": {
    "ExecuteTime": {
     "end_time": "2020-01-13T07:54:18.373681Z",
     "start_time": "2020-01-13T07:54:18.354647Z"
    }
   },
   "outputs": [],
   "source": [
    "def split_data_B2(df):\n",
    "\n",
    "    train_data, test_data = train_test_split(df, random_state=0)\n",
    "    \n",
    "    return train_data, test_data"
   ]
  },
  {
   "cell_type": "code",
   "execution_count": 194,
   "metadata": {
    "ExecuteTime": {
     "end_time": "2020-01-13T07:54:34.645816Z",
     "start_time": "2020-01-13T07:54:34.536205Z"
    }
   },
   "outputs": [],
   "source": [
    "train_data, test_data = split_data_B2(df_b2)"
   ]
  },
  {
   "cell_type": "code",
   "execution_count": 146,
   "metadata": {
    "ExecuteTime": {
     "end_time": "2020-01-13T04:10:48.486609Z",
     "start_time": "2020-01-13T04:10:47.825799Z"
    }
   },
   "outputs": [
    {
     "name": "stdout",
     "output_type": "stream",
     "text": [
      "Training Dataset Preparataion: \n",
      "Found 6000 validated image filenames belonging to 5 classes.\n",
      "\n",
      "Validation Dataset Preparataion: \n",
      "Found 2000 validated image filenames belonging to 5 classes.\n"
     ]
    }
   ],
   "source": [
    "\n",
    "train_b2, test_b2 = train_test_split(df_b2,train_size=0.8, random_state=0)\n",
    "    \n",
    "# Setup the data generator\n",
    "data_generator_b2 = ImageDataGenerator(\n",
    "    rescale = 1./255.,\n",
    "    validation_split = 0.25,\n",
    "    horizontal_flip=True,\n",
    "    vertical_flip=True\n",
    "    \n",
    ")\n",
    "    \n",
    "# Get batches of training dataset from the dataframe\n",
    "print(\"Training Dataset Preparataion: \")\n",
    "train_generator_b2 = data_generator_b2.flow_from_dataframe(\n",
    "        dataframe = train_b2, directory = dataset_dir_b2,\n",
    "        x_col = \"file_name\", y_col = \"eyecolour_label\",\n",
    "        class_mode = 'categorical', target_size = (64,64),\n",
    "        batch_size = 128, subset = 'training')\n",
    "    \n",
    "    # Get batches of validation dataset from the dataframe\n",
    "print(\"\\nValidation Dataset Preparataion: \")\n",
    "validation_generator_b2 = data_generator_b2.flow_from_dataframe(\n",
    "        dataframe = train_b2, directory = dataset_dir_b2,\n",
    "        x_col = \"file_name\", y_col = \"eyecolour_label\",\n",
    "        class_mode = 'categorical', target_size = (64,64),\n",
    "        batch_size = 128, subset = 'validation')\n",
    "    \n",
    "    \n",
    "    "
   ]
  },
  {
   "cell_type": "markdown",
   "metadata": {},
   "source": [
    "## Model Evaluation"
   ]
  },
  {
   "cell_type": "code",
   "execution_count": 219,
   "metadata": {
    "ExecuteTime": {
     "end_time": "2020-01-13T10:20:57.199038Z",
     "start_time": "2020-01-13T10:20:55.803462Z"
    }
   },
   "outputs": [
    {
     "name": "stdout",
     "output_type": "stream",
     "text": [
      "Model: \"sequential_19\"\n",
      "_________________________________________________________________\n",
      "Layer (type)                 Output Shape              Param #   \n",
      "=================================================================\n",
      "conv2d_69 (Conv2D)           (None, 62, 62, 24)        672       \n",
      "_________________________________________________________________\n",
      "activation_21 (Activation)   (None, 62, 62, 24)        0         \n",
      "_________________________________________________________________\n",
      "max_pooling2d_57 (MaxPooling (None, 31, 31, 24)        0         \n",
      "_________________________________________________________________\n",
      "conv2d_70 (Conv2D)           (None, 29, 29, 24)        5208      \n",
      "_________________________________________________________________\n",
      "activation_22 (Activation)   (None, 29, 29, 24)        0         \n",
      "_________________________________________________________________\n",
      "conv2d_71 (Conv2D)           (None, 27, 27, 48)        10416     \n",
      "_________________________________________________________________\n",
      "activation_23 (Activation)   (None, 27, 27, 48)        0         \n",
      "_________________________________________________________________\n",
      "conv2d_72 (Conv2D)           (None, 25, 25, 96)        41568     \n",
      "_________________________________________________________________\n",
      "activation_24 (Activation)   (None, 25, 25, 96)        0         \n",
      "_________________________________________________________________\n",
      "max_pooling2d_58 (MaxPooling (None, 12, 12, 96)        0         \n",
      "_________________________________________________________________\n",
      "flatten_18 (Flatten)         (None, 13824)             0         \n",
      "_________________________________________________________________\n",
      "dense_18 (Dense)             (None, 5)                 69125     \n",
      "_________________________________________________________________\n",
      "activation_25 (Activation)   (None, 5)                 0         \n",
      "=================================================================\n",
      "Total params: 126,989\n",
      "Trainable params: 126,989\n",
      "Non-trainable params: 0\n",
      "_________________________________________________________________\n"
     ]
    }
   ],
   "source": [
    "# # starting point \n",
    "model2= models.Sequential()\n",
    "\n",
    "# Add first convolutional block\n",
    "model2.add(Conv2D(16, (3, 3), activation='relu',input_shape=(64,64,3)))\n",
    "model2.add(MaxPooling2D((2, 2), padding = 'same'))\n",
    "\n",
    "# second block\n",
    "model2.add(Conv2D(32, (3, 3), activation='relu'))\n",
    "model2.add(MaxPooling2D((2, 2), padding = 'same'))\n",
    "\n",
    "# third block\n",
    "model2.add(Conv2D(64, (3, 3), activation='relu'))\n",
    "model2.add(MaxPooling2D((2, 2), padding = 'same'))\n",
    "\n",
    "# fourth block\n",
    "model2.add(Conv2D(128, (3, 3), activation='relu'))\n",
    "model2.add(MaxPooling2D((2, 2), padding = 'same'))\n",
    "\n",
    "\n",
    "model2.add(Flatten())\n",
    "model2.add(Dense(5, activation='softmax'))\n",
    "\n",
    "model2.summary()\n",
    "\n"
   ]
  },
  {
   "cell_type": "code",
   "execution_count": 196,
   "metadata": {
    "ExecuteTime": {
     "end_time": "2020-01-13T08:43:47.426196Z",
     "start_time": "2020-01-13T08:43:47.061139Z"
    }
   },
   "outputs": [],
   "source": [
    "# # use early stopping to optimally terminate training through callbacks\n",
    "# # from tensorflow.python.keras.callbacks import EarlyStopping, ModelCheckpoint\n",
    "# es=EarlyStopping(monitor='val_loss', mode='min', verbose=1, patience=5)\n",
    "\n",
    "# # # save best model automatically\n",
    "# mc= ModelCheckpoint('/Users/Hyunjee/Desktop/AMLS_19-20_HYUNJEE_KIM_SN16075203/B2/model_B2.h5', monitor='val_loss', mode='min', verbose=1, save_best_only=True)\n",
    "\n",
    "# cb_list=[es,mc]\n",
    "\n",
    "\n",
    "# compile model \n",
    "opt_adam = optimizers.Adam(lr=0.001)\n",
    "model2.compile(loss='categorical_crossentropy', optimizer=opt_adam, metrics=['accuracy'])\n",
    "\n"
   ]
  },
  {
   "cell_type": "code",
   "execution_count": 197,
   "metadata": {
    "ExecuteTime": {
     "end_time": "2020-01-13T09:18:13.051008Z",
     "start_time": "2020-01-13T08:43:47.842214Z"
    },
    "scrolled": false
   },
   "outputs": [
    {
     "name": "stdout",
     "output_type": "stream",
     "text": [
      "Epoch 1/25\n",
      "46/46 [==============================] - 82s 2s/step - loss: 1.6010 - accuracy: 0.2217 - val_loss: 1.5509 - val_accuracy: 0.2943\n",
      "Epoch 2/25\n",
      "46/46 [==============================] - 107s 2s/step - loss: 1.2603 - accuracy: 0.4574 - val_loss: 1.0787 - val_accuracy: 0.5684\n",
      "Epoch 3/25\n",
      "46/46 [==============================] - 95s 2s/step - loss: 0.9610 - accuracy: 0.6368 - val_loss: 0.8085 - val_accuracy: 0.7388\n",
      "Epoch 4/25\n",
      "46/46 [==============================] - 78s 2s/step - loss: 0.7367 - accuracy: 0.7476 - val_loss: 0.7254 - val_accuracy: 0.8056\n",
      "Epoch 5/25\n",
      "46/46 [==============================] - 78s 2s/step - loss: 0.5888 - accuracy: 0.7996 - val_loss: 0.4701 - val_accuracy: 0.8216\n",
      "Epoch 6/25\n",
      "46/46 [==============================] - 78s 2s/step - loss: 0.4864 - accuracy: 0.8168 - val_loss: 0.3131 - val_accuracy: 0.8344\n",
      "Epoch 7/25\n",
      "46/46 [==============================] - 77s 2s/step - loss: 0.4488 - accuracy: 0.8174 - val_loss: 0.4456 - val_accuracy: 0.8349\n",
      "Epoch 8/25\n",
      "46/46 [==============================] - 81s 2s/step - loss: 0.3997 - accuracy: 0.8297 - val_loss: 0.3622 - val_accuracy: 0.8237\n",
      "Epoch 9/25\n",
      "46/46 [==============================] - 77s 2s/step - loss: 0.3913 - accuracy: 0.8294 - val_loss: 0.4452 - val_accuracy: 0.8462\n",
      "Epoch 10/25\n",
      "46/46 [==============================] - 70s 2s/step - loss: 0.3581 - accuracy: 0.8475 - val_loss: 0.3657 - val_accuracy: 0.8307\n",
      "Epoch 11/25\n",
      "46/46 [==============================] - 70s 2s/step - loss: 0.3701 - accuracy: 0.8371 - val_loss: 0.3528 - val_accuracy: 0.8424\n",
      "Epoch 12/25\n",
      "46/46 [==============================] - 70s 2s/step - loss: 0.3593 - accuracy: 0.8379 - val_loss: 0.3528 - val_accuracy: 0.8349\n",
      "Epoch 13/25\n",
      "46/46 [==============================] - 68s 1s/step - loss: 0.3549 - accuracy: 0.8432 - val_loss: 0.3913 - val_accuracy: 0.8253\n",
      "Epoch 14/25\n",
      "46/46 [==============================] - 87s 2s/step - loss: 0.3470 - accuracy: 0.8473 - val_loss: 0.4134 - val_accuracy: 0.8408\n",
      "Epoch 15/25\n",
      "46/46 [==============================] - 83s 2s/step - loss: 0.3506 - accuracy: 0.8478 - val_loss: 0.3971 - val_accuracy: 0.8360\n",
      "Epoch 16/25\n",
      "46/46 [==============================] - 85s 2s/step - loss: 0.3427 - accuracy: 0.8472 - val_loss: 0.4621 - val_accuracy: 0.8381\n",
      "Epoch 17/25\n",
      "46/46 [==============================] - 75s 2s/step - loss: 0.3257 - accuracy: 0.8585 - val_loss: 0.2829 - val_accuracy: 0.8396\n",
      "Epoch 18/25\n",
      "46/46 [==============================] - 85s 2s/step - loss: 0.3366 - accuracy: 0.8499 - val_loss: 0.2808 - val_accuracy: 0.8339\n",
      "Epoch 19/25\n",
      "46/46 [==============================] - 75s 2s/step - loss: 0.3293 - accuracy: 0.8584 - val_loss: 0.3106 - val_accuracy: 0.8488\n",
      "Epoch 20/25\n",
      "46/46 [==============================] - 75s 2s/step - loss: 0.3334 - accuracy: 0.8541 - val_loss: 0.3175 - val_accuracy: 0.8237\n",
      "Epoch 21/25\n",
      "46/46 [==============================] - 88s 2s/step - loss: 0.3288 - accuracy: 0.8550 - val_loss: 0.4338 - val_accuracy: 0.8504\n",
      "Epoch 22/25\n",
      "46/46 [==============================] - 130s 3s/step - loss: 0.3191 - accuracy: 0.8634 - val_loss: 0.2802 - val_accuracy: 0.8429\n",
      "Epoch 23/25\n",
      "46/46 [==============================] - 95s 2s/step - loss: 0.3150 - accuracy: 0.8616 - val_loss: 0.3303 - val_accuracy: 0.8413\n",
      "Epoch 24/25\n",
      "46/46 [==============================] - 78s 2s/step - loss: 0.3244 - accuracy: 0.8627 - val_loss: 0.3865 - val_accuracy: 0.8472\n",
      "Epoch 25/25\n",
      "46/46 [==============================] - 75s 2s/step - loss: 0.3192 - accuracy: 0.8612 - val_loss: 0.2660 - val_accuracy: 0.8371\n"
     ]
    }
   ],
   "source": [
    "history_b2 = model2.fit_generator(\n",
    "        train_generator_b2,\n",
    "        epochs=25,\n",
    "        steps_per_epoch=train_generator_b2.samples // 128,\n",
    "        validation_data=validation_generator_b2,\n",
    "        validation_steps=validation_generator_b2.samples // 128)\n",
    "        #callbacks=cb_list)"
   ]
  },
  {
   "cell_type": "code",
   "execution_count": 217,
   "metadata": {
    "ExecuteTime": {
     "end_time": "2020-01-13T09:40:16.542186Z",
     "start_time": "2020-01-13T09:40:15.641824Z"
    }
   },
   "outputs": [
    {
     "data": {
      "image/png": "[encoded data removed]",
      "text/plain": [
       "<Figure size 432x288 with 1 Axes>"
      ]
     },
     "metadata": {
      "needs_background": "light"
     },
     "output_type": "display_data"
    }
   ],
   "source": [
    "# plot training and validation accuracy\n",
    "import matplotlib.pyplot as plt\n",
    "plt.plot(history_b2.history['accuracy'])\n",
    "plt.plot(history_b2.history['val_accuracy'])\n",
    "#plt.ylim([.5,1.1])\n",
    "plt.ylabel('Accuracy')\n",
    "plt.xlabel('Epoch')\n",
    "plt.legend(['Train', 'Validation'], loc='upper left')\n",
    "plt.savefig(\"model_B1_1.png\", dpi=300)"
   ]
  },
  {
   "cell_type": "code",
   "execution_count": 218,
   "metadata": {
    "ExecuteTime": {
     "end_time": "2020-01-13T09:40:18.491238Z",
     "start_time": "2020-01-13T09:40:17.775015Z"
    }
   },
   "outputs": [
    {
     "data": {
      "image/png": "[encoded data removed]",
      "text/plain": [
       "<Figure size 432x288 with 1 Axes>"
      ]
     },
     "metadata": {
      "needs_background": "light"
     },
     "output_type": "display_data"
    }
   ],
   "source": [
    "# plot loss for trainig and validation\n",
    "import matplotlib.pyplot as plt\n",
    "plt.plot(history_b2.history['loss'])\n",
    "plt.plot(history_b2.history['val_loss'])\n",
    "#plt.ylim([.5,1.1])\n",
    "plt.ylabel('Loss')\n",
    "plt.xlabel('Epoch')\n",
    "plt.legend(['Train', 'Validation'], loc='upper left')\n",
    "plt.savefig(\"model_B2_2.png\", dpi=300)"
   ]
  },
  {
   "cell_type": "markdown",
   "metadata": {},
   "source": [
    "## Model Evaluation"
   ]
  },
  {
   "cell_type": "code",
   "execution_count": 215,
   "metadata": {
    "ExecuteTime": {
     "end_time": "2020-01-13T09:26:19.826211Z",
     "start_time": "2020-01-13T09:25:29.789572Z"
    }
   },
   "outputs": [
    {
     "name": "stdout",
     "output_type": "stream",
     "text": [
      "Test Dataset Preparataion\n",
      "Found 2000 validated image filenames belonging to 5 classes.\n"
     ]
    }
   ],
   "source": [
    "print(\"Test Dataset Preparataion\")\n",
    "test_data_generator_b2 = ImageDataGenerator(rescale=1./255)\n",
    "test_generator_b2 = test_data_generator_b2.flow_from_dataframe(\n",
    "        dataframe = test_b2, directory = dataset_dir_b2,\n",
    "        x_col = \"file_name\", y_col = \"eyecolour_label\",\n",
    "        class_mode = 'categorical', target_size = (64,64),\n",
    "        batch_size =1, shuffle = False)\n",
    "\n",
    "file_names_b2 = test_generator_b2.filenames\n",
    "sample_size_b2 = len(file_names_b2)\n",
    "\n",
    "model_pred_test_b2 = model2.predict_generator(test_generator_b2, sample_size_b2)\n",
    "\n",
    "model_path_b2 = '/Users/Hyunjee/Desktop/AMLS_19-20_HYUNJEE_KIM_SN16075203/B2/model_B2.h5'\n",
    "saved_model_b2 = load_model(model_path_b2)\n",
    "\n",
    "model_pred_test_b2 = saved_model_b2.predict_generator(test_generator_b2, sample_size_b2)\n",
    "\n",
    "\n"
   ]
  },
  {
   "cell_type": "markdown",
   "metadata": {},
   "source": [
    "## Confusion Matrix"
   ]
  },
  {
   "cell_type": "code",
   "execution_count": 206,
   "metadata": {
    "ExecuteTime": {
     "end_time": "2020-01-13T09:22:52.645340Z",
     "start_time": "2020-01-13T09:22:50.948486Z"
    }
   },
   "outputs": [
    {
     "name": "stdout",
     "output_type": "stream",
     "text": [
      "Confusion matrix, without normalization\n",
      "[[333   5   4  33  33]\n",
      " [ 19 334   0  34  28]\n",
      " [ 22   4 290  30  36]\n",
      " [ 16  13   2 341  24]\n",
      " [ 22   4   4  34 335]]\n",
      "Normalized confusion matrix\n",
      "[[0.82 0.01 0.01 0.08 0.08]\n",
      " [0.05 0.8  0.   0.08 0.07]\n",
      " [0.06 0.01 0.76 0.08 0.09]\n",
      " [0.04 0.03 0.01 0.86 0.06]\n",
      " [0.06 0.01 0.01 0.09 0.84]]\n"
     ]
    },
    {
     "data": {
      "image/png": "[encoded data removed]",
      "text/plain": [
       "<Figure size 432x288 with 2 Axes>"
      ]
     },
     "metadata": {
      "needs_background": "light"
     },
     "output_type": "display_data"
    },
    {
     "data": {
      "image/png": "[encoded data removed]",
      "text/plain": [
       "<Figure size 432x288 with 2 Axes>"
      ]
     },
     "metadata": {
      "needs_background": "light"
     },
     "output_type": "display_data"
    }
   ],
   "source": [
    "from sklearn import svm, datasets\n",
    "from sklearn.model_selection import train_test_split\n",
    "from sklearn.metrics import confusion_matrix\n",
    "from sklearn.utils.multiclass import unique_labels\n",
    "\n",
    "class_names = np.array(['Brown', 'Blue','Green','Gray','Black'])\n",
    "\n",
    "def plot_confusion_matrix(y_true, y_pred, classes,\n",
    "                          normalize=False,\n",
    "                          title=None,\n",
    "                          cmap=plt.cm.Blues):\n",
    "    \"\"\"\n",
    "    This function prints and plots the confusion matrix.\n",
    "    Normalization can be applied by setting `normalize=True`.\n",
    "    \"\"\"\n",
    "    if not title:\n",
    "        if normalize:\n",
    "            title = 'Normalized confusion matrix'\n",
    "        else:\n",
    "            title = 'Confusion matrix, without normalization'\n",
    "\n",
    "\n",
    "\n",
    "    cm= confusion_matrix(true_test_b2, pred_test_b2)\n",
    "    classes = class_names\n",
    "    \n",
    "    if normalize:\n",
    "        cm = cm.astype('float') / cm.sum(axis=1)[:, np.newaxis]\n",
    "        print(\"Normalized confusion matrix\")\n",
    "    else:\n",
    "        print('Confusion matrix, without normalization')\n",
    "\n",
    "    fig, ax = plt.subplots()\n",
    "    im = ax.imshow(cm, interpolation=None, cmap=cmap)\n",
    "    \n",
    "    print(cm)\n",
    "    ax.figure.colorbar(im, ax=ax)\n",
    "\n",
    "    for i in range(len(ax.yaxis.get_major_ticks())):\n",
    "        ax.yaxis.get_major_ticks()[i].label1.set_visible(False)\n",
    "        \n",
    "    for i in [2, 6]:\n",
    "        ax.yaxis.get_major_ticks()[i].label1.set_visible(True)\n",
    "\n",
    "        \n",
    "    ax.set(\n",
    "        xticks = np.arange(cm.shape[1]),\n",
    "       # ... and label them with the respective list entries\n",
    "       xticklabels=classes, yticklabels=[0, 0, classes[0], 0, 0, 0, classes[1], 0, 0],\n",
    "       title=title,\n",
    "       ylabel='True label',\n",
    "       xlabel='Predicted label'\n",
    "    )\n",
    "    \n",
    "    # Rotate the tick labels and set their alignment.\n",
    "    plt.setp(ax.get_xticklabels(), rotation=45, ha=\"right\",\n",
    "             rotation_mode=\"anchor\")\n",
    "\n",
    "    # Loop over data dimensions and create text annotations.\n",
    "    fmt = '.2f' if normalize else 'd'\n",
    "    thresh = cm.max() / 2.\n",
    "    for i in range(cm.shape[0]):\n",
    "        for j in range(cm.shape[1]):\n",
    "            ax.text(j, i, format(cm[i, j], fmt),\n",
    "                    ha=\"center\", va=\"center\",\n",
    "                    color=\"white\" if cm[i, j] > thresh else \"black\")\n",
    "    fig.tight_layout()\n",
    "    return ax\n",
    "\n",
    "\n",
    "np.set_printoptions(precision=2)\n",
    "\n",
    "pred_test_b2  = np.argmax(model_pred_test_b2, axis = 1)\n",
    "true_test_b2 = np.array(test_generator_b2.classes)\n",
    "# Plot non-normalized confusion matrix\n",
    "plot_confusion_matrix(true_test_b2, pred_test_b2, classes=class_names,\n",
    "                      title='Confusion matrix, without normalization')\n",
    "\n",
    "# Plot normalized confusion matrix\n",
    "plot_confusion_matrix(true_test_b2, pred_test_b2, classes=class_names, normalize=True,\n",
    "                      title='Normalized confusion matrix')\n",
    "\n",
    "plt.show()"
   ]
  },
  {
   "cell_type": "markdown",
   "metadata": {},
   "source": [
    "## Validation Accuravy"
   ]
  },
  {
   "cell_type": "code",
   "execution_count": 207,
   "metadata": {
    "ExecuteTime": {
     "end_time": "2020-01-13T09:23:00.360586Z",
     "start_time": "2020-01-13T09:23:00.324391Z"
    }
   },
   "outputs": [
    {
     "name": "stdout",
     "output_type": "stream",
     "text": [
      "Accuracy :0.8165\n",
      "Precision :0.8319607243109143\n",
      "Recall :0.8161736319932871\n",
      "F1 Score :0.8187821010457144\n"
     ]
    },
    {
     "name": "stderr",
     "output_type": "stream",
     "text": [
      "/Users/Hyunjee/anaconda3/envs/aml/lib/python3.6/site-packages/sklearn/metrics/_classification.py:1321: UserWarning: Note that pos_label (set to 'positive') is ignored when average != 'binary' (got 'macro'). You may use labels=[pos_label] to specify a single positive class.\n",
      "  % (pos_label, average), UserWarning)\n"
     ]
    }
   ],
   "source": [
    "acc_comp_b2 = accuracy_score(true_test_b2, pred_test_b2)\n",
    "rec_comp_b2 = recall_score(true_test_b2, pred_test_b2, pos_label = 'positive', average ='macro')\n",
    "prec_comp_b2 = precision_score(true_test_b2, pred_test_b2, pos_label = 'positive', average ='macro')\n",
    "f1_comp_b2 = f1_score(true_test_b2, pred_test_b2, pos_label = 'positive', average ='macro')\n",
    "print(\"Accuracy :\" + str(acc_comp_b2))\n",
    "print(\"Precision :\" + str(prec_comp_b2))\n",
    "print(\"Recall :\" + str(rec_comp_b2))\n",
    "print(\"F1 Score :\" + str(f1_comp_b2))"
   ]
  },
  {
   "cell_type": "code",
   "execution_count": null,
   "metadata": {},
   "outputs": [],
   "source": [
    "pred_test_b2  = np.argmax(model_pred_test_b2, axis = 1)\n",
    "true_test_b2 = np.array(test_generator_b2.classes)"
   ]
  },
  {
   "cell_type": "markdown",
   "metadata": {},
   "source": [
    "## Train Accuracy"
   ]
  },
  {
   "cell_type": "code",
   "execution_count": 216,
   "metadata": {
    "ExecuteTime": {
     "end_time": "2020-01-13T09:26:21.153061Z",
     "start_time": "2020-01-13T09:26:19.831318Z"
    }
   },
   "outputs": [
    {
     "name": "stdout",
     "output_type": "stream",
     "text": [
      "Found 7500 validated image filenames belonging to 5 classes.\n",
      "62/62 [==============================] - 1s 14ms/step\n",
      "Train loss: 0.2586584985256195\n",
      "Train Accuracy: 0.8870967626571655\n"
     ]
    }
   ],
   "source": [
    "score_generator_b2 = data_generator_b2.flow_from_dataframe(\n",
    "        dataframe = train_data, directory = dataset_dir_b2,\n",
    "        x_col = \"file_name\", y_col = \"eyecolour_label\",\n",
    "        class_mode = 'categorical', target_size = (64,64),\n",
    "        batch_size =1, shuffle = False)\n",
    "\n",
    "train_metric = saved_model_b2.evaluate_generator(score_generator_b2, steps = validation_generator_b2.samples // 32, verbose=1)\n",
    "\n",
    "print('Train loss: '+ str(train_metric[0]))\n",
    "print('Train Accuracy: '+ str(train_metric[1]))\n",
    "      \n",
    "      \n",
    "      \n",
    "      \n",
    "      "
   ]
  },
  {
   "cell_type": "markdown",
   "metadata": {},
   "source": [
    "## New Test Data Preparation"
   ]
  },
  {
   "cell_type": "code",
   "execution_count": 221,
   "metadata": {
    "ExecuteTime": {
     "end_time": "2020-01-13T14:03:20.117356Z",
     "start_time": "2020-01-13T14:03:18.871885Z"
    }
   },
   "outputs": [
    {
     "data": {
      "text/html": [
       "<div>\n",
       "<style scoped>\n",
       "    .dataframe tbody tr th:only-of-type {\n",
       "        vertical-align: middle;\n",
       "    }\n",
       "\n",
       "    .dataframe tbody tr th {\n",
       "        vertical-align: top;\n",
       "    }\n",
       "\n",
       "    .dataframe thead th {\n",
       "        text-align: right;\n",
       "    }\n",
       "</style>\n",
       "<table border=\"1\" class=\"dataframe\">\n",
       "  <thead>\n",
       "    <tr style=\"text-align: right;\">\n",
       "      <th></th>\n",
       "      <th>file_name</th>\n",
       "      <th>eyecolour_label</th>\n",
       "      <th>eye_colour</th>\n",
       "    </tr>\n",
       "  </thead>\n",
       "  <tbody>\n",
       "    <tr>\n",
       "      <td>0</td>\n",
       "      <td>0.png</td>\n",
       "      <td>2</td>\n",
       "      <td>Green</td>\n",
       "    </tr>\n",
       "    <tr>\n",
       "      <td>1</td>\n",
       "      <td>1.png</td>\n",
       "      <td>1</td>\n",
       "      <td>Blue</td>\n",
       "    </tr>\n",
       "    <tr>\n",
       "      <td>2</td>\n",
       "      <td>2.png</td>\n",
       "      <td>0</td>\n",
       "      <td>Brown</td>\n",
       "    </tr>\n",
       "    <tr>\n",
       "      <td>3</td>\n",
       "      <td>3.png</td>\n",
       "      <td>0</td>\n",
       "      <td>Brown</td>\n",
       "    </tr>\n",
       "    <tr>\n",
       "      <td>4</td>\n",
       "      <td>4.png</td>\n",
       "      <td>3</td>\n",
       "      <td>Gray</td>\n",
       "    </tr>\n",
       "    <tr>\n",
       "      <td>...</td>\n",
       "      <td>...</td>\n",
       "      <td>...</td>\n",
       "      <td>...</td>\n",
       "    </tr>\n",
       "    <tr>\n",
       "      <td>2495</td>\n",
       "      <td>2495.png</td>\n",
       "      <td>4</td>\n",
       "      <td>Black</td>\n",
       "    </tr>\n",
       "    <tr>\n",
       "      <td>2496</td>\n",
       "      <td>2496.png</td>\n",
       "      <td>2</td>\n",
       "      <td>Green</td>\n",
       "    </tr>\n",
       "    <tr>\n",
       "      <td>2497</td>\n",
       "      <td>2497.png</td>\n",
       "      <td>2</td>\n",
       "      <td>Green</td>\n",
       "    </tr>\n",
       "    <tr>\n",
       "      <td>2498</td>\n",
       "      <td>2498.png</td>\n",
       "      <td>4</td>\n",
       "      <td>Black</td>\n",
       "    </tr>\n",
       "    <tr>\n",
       "      <td>2499</td>\n",
       "      <td>2499.png</td>\n",
       "      <td>3</td>\n",
       "      <td>Gray</td>\n",
       "    </tr>\n",
       "  </tbody>\n",
       "</table>\n",
       "<p>2500 rows × 3 columns</p>\n",
       "</div>"
      ],
      "text/plain": [
       "     file_name eyecolour_label eye_colour\n",
       "0        0.png               2      Green\n",
       "1        1.png               1       Blue\n",
       "2        2.png               0      Brown\n",
       "3        3.png               0      Brown\n",
       "4        4.png               3       Gray\n",
       "...        ...             ...        ...\n",
       "2495  2495.png               4      Black\n",
       "2496  2496.png               2      Green\n",
       "2497  2497.png               2      Green\n",
       "2498  2498.png               4      Black\n",
       "2499  2499.png               3       Gray\n",
       "\n",
       "[2500 rows x 3 columns]"
      ]
     },
     "execution_count": 221,
     "metadata": {},
     "output_type": "execute_result"
    }
   ],
   "source": [
    "def test_df_B2 (test_labels_filename_b2):\n",
    "    df_b2 = pd.read_csv(test_labels_filename_b2)\n",
    "    df_b2.columns=['original']\n",
    "    df_b2[\"file_name\"] = df_b2['original'].str.split(\"\\t\").str[3]\n",
    "    df_b2[\"eyecolour_label\"] = df_b2['original'].str.split(\"\\t\").str[1]\n",
    "    del df_b2['original']\n",
    "    eye_colour = []\n",
    "    \n",
    "    for eye in df_b2.eyecolour_label:\n",
    "        if eye == '0':\n",
    "            eye_colour.append(\"Brown\")\n",
    "        elif eye == '1':\n",
    "            eye_colour.append(\"Blue\")\n",
    "        elif eye == '2':\n",
    "            eye_colour.append(\"Green\")\n",
    "        elif eye == '3':\n",
    "            eye_colour.append(\"Gray\")\n",
    "        else:\n",
    "            eye_colour.append(\"Black\")\n",
    "    \n",
    "    df_b2['eye_colour'] = eye_colour\n",
    "    \n",
    "\n",
    "    return df_b2\n",
    "\n",
    "new_test_b2 = test_df_B2 (test_labels_filename_b2)\n",
    "new_test_b2"
   ]
  },
  {
   "cell_type": "markdown",
   "metadata": {
    "ExecuteTime": {
     "end_time": "2020-01-13T14:04:40.729790Z",
     "start_time": "2020-01-13T14:04:40.644306Z"
    }
   },
   "source": [
    "## Test Accuracy"
   ]
  },
  {
   "cell_type": "code",
   "execution_count": 226,
   "metadata": {
    "ExecuteTime": {
     "end_time": "2020-01-13T14:06:38.895292Z",
     "start_time": "2020-01-13T14:06:37.423146Z"
    }
   },
   "outputs": [
    {
     "name": "stdout",
     "output_type": "stream",
     "text": [
      "Found 2500 validated image filenames belonging to 5 classes.\n",
      "62/62 [==============================] - 1s 22ms/step\n",
      "Test loss: 2.3245540432981215e-05\n",
      "Test Accuracy: 0.7580645084381104\n"
     ]
    }
   ],
   "source": [
    "test_score_generator_b2 = data_generator_b2.flow_from_dataframe(\n",
    "        dataframe = new_test_b2, directory = test_dataset_dir_b2,\n",
    "        x_col = \"file_name\", y_col = \"eyecolour_label\",\n",
    "        class_mode = 'categorical', target_size = (64,64),\n",
    "        batch_size =1, shuffle = False)\n",
    "\n",
    "new_test_metric = saved_model_b2.evaluate_generator(test_score_generator_b2, steps = validation_generator_b2.samples // 32, verbose=1)\n",
    "\n",
    "print('Test loss: '+ str(new_test_metric[0]))\n",
    "print('Test Accuracy: '+ str(new_test_metric[1]))\n",
    "      \n",
    "      "
   ]
  },
  {
   "cell_type": "code",
   "execution_count": null,
   "metadata": {},
   "outputs": [],
   "source": []
  }
 ],
 "metadata": {
  "kernelspec": {
   "display_name": "Python 3",
   "language": "python",
   "name": "python3"
  },
  "language_info": {
   "codemirror_mode": {
    "name": "ipython",
    "version": 3
   },
   "file_extension": ".py",
   "mimetype": "text/x-python",
   "name": "python",
   "nbconvert_exporter": "python",
   "pygments_lexer": "ipython3",
   "version": "3.6.9"
  }
 },
 "nbformat": 4,
 "nbformat_minor": 2
}
