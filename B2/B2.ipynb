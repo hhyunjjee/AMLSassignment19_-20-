{
 "cells": [
  {
   "cell_type": "code",
   "execution_count": 2,
   "metadata": {},
   "outputs": [],
   "source": [
    "# Imports\n",
    "import numpy as np\n",
    "import matplotlib.pyplot as plt\n",
    "from sklearn import svm, datasets\n",
    "from sklearn.svm import SVC\n",
    "from sklearn.model_selection import train_test_split\n",
    "from sklearn.utils import shuffle\n",
    "from sklearn.metrics import classification_report,accuracy_score\n",
    "import pandas as pd\n",
    "from sklearn.datasets import load_iris ##\n",
    "import os\n",
    "from sklearn.metrics import classification_report,accuracy_score\n",
    "from sklearn import svm\n",
    "from tqdm._tqdm_notebook import tqdm_notebook\n",
    "import pandas as pd\n",
    "import cv2"
   ]
  },
  {
   "cell_type": "markdown",
   "metadata": {},
   "source": [
    "## Directory"
   ]
  },
  {
   "cell_type": "code",
   "execution_count": 3,
   "metadata": {},
   "outputs": [],
   "source": [
    "base_dir = (\"/Users/Hyunjee/Desktop/AMLS_19-20_SN16075203/B2\")\n",
    "os.chdir(base_dir)\n",
    "\n",
    "dataset_dir = os.path.join(base_dir, 'img')\n",
    "labels_filename = os.path.join(base_dir, 'labels.csv')\n",
    "\n"
   ]
  },
  {
   "cell_type": "markdown",
   "metadata": {},
   "source": [
    "## Data Preparation"
   ]
  },
  {
   "cell_type": "code",
   "execution_count": 4,
   "metadata": {},
   "outputs": [
    {
     "data": {
      "text/html": [
       "<div>\n",
       "<style scoped>\n",
       "    .dataframe tbody tr th:only-of-type {\n",
       "        vertical-align: middle;\n",
       "    }\n",
       "\n",
       "    .dataframe tbody tr th {\n",
       "        vertical-align: top;\n",
       "    }\n",
       "\n",
       "    .dataframe thead th {\n",
       "        text-align: right;\n",
       "    }\n",
       "</style>\n",
       "<table border=\"1\" class=\"dataframe\">\n",
       "  <thead>\n",
       "    <tr style=\"text-align: right;\">\n",
       "      <th></th>\n",
       "      <th>file_name</th>\n",
       "      <th>eyecolour_label</th>\n",
       "      <th>eye_colour</th>\n",
       "    </tr>\n",
       "  </thead>\n",
       "  <tbody>\n",
       "    <tr>\n",
       "      <td>0</td>\n",
       "      <td>0.png</td>\n",
       "      <td>1</td>\n",
       "      <td>Blue</td>\n",
       "    </tr>\n",
       "    <tr>\n",
       "      <td>1</td>\n",
       "      <td>1.png</td>\n",
       "      <td>2</td>\n",
       "      <td>Green</td>\n",
       "    </tr>\n",
       "    <tr>\n",
       "      <td>2</td>\n",
       "      <td>2.png</td>\n",
       "      <td>2</td>\n",
       "      <td>Green</td>\n",
       "    </tr>\n",
       "    <tr>\n",
       "      <td>3</td>\n",
       "      <td>3.png</td>\n",
       "      <td>2</td>\n",
       "      <td>Green</td>\n",
       "    </tr>\n",
       "    <tr>\n",
       "      <td>4</td>\n",
       "      <td>4.png</td>\n",
       "      <td>0</td>\n",
       "      <td>Brown</td>\n",
       "    </tr>\n",
       "    <tr>\n",
       "      <td>...</td>\n",
       "      <td>...</td>\n",
       "      <td>...</td>\n",
       "      <td>...</td>\n",
       "    </tr>\n",
       "    <tr>\n",
       "      <td>9995</td>\n",
       "      <td>9995.png</td>\n",
       "      <td>3</td>\n",
       "      <td>Gray</td>\n",
       "    </tr>\n",
       "    <tr>\n",
       "      <td>9996</td>\n",
       "      <td>9996.png</td>\n",
       "      <td>0</td>\n",
       "      <td>Brown</td>\n",
       "    </tr>\n",
       "    <tr>\n",
       "      <td>9997</td>\n",
       "      <td>9997.png</td>\n",
       "      <td>1</td>\n",
       "      <td>Blue</td>\n",
       "    </tr>\n",
       "    <tr>\n",
       "      <td>9998</td>\n",
       "      <td>9998.png</td>\n",
       "      <td>0</td>\n",
       "      <td>Brown</td>\n",
       "    </tr>\n",
       "    <tr>\n",
       "      <td>9999</td>\n",
       "      <td>9999.png</td>\n",
       "      <td>2</td>\n",
       "      <td>Green</td>\n",
       "    </tr>\n",
       "  </tbody>\n",
       "</table>\n",
       "<p>10000 rows × 3 columns</p>\n",
       "</div>"
      ],
      "text/plain": [
       "     file_name eyecolour_label eye_colour\n",
       "0        0.png               1       Blue\n",
       "1        1.png               2      Green\n",
       "2        2.png               2      Green\n",
       "3        3.png               2      Green\n",
       "4        4.png               0      Brown\n",
       "...        ...             ...        ...\n",
       "9995  9995.png               3       Gray\n",
       "9996  9996.png               0      Brown\n",
       "9997  9997.png               1       Blue\n",
       "9998  9998.png               0      Brown\n",
       "9999  9999.png               2      Green\n",
       "\n",
       "[10000 rows x 3 columns]"
      ]
     },
     "execution_count": 4,
     "metadata": {},
     "output_type": "execute_result"
    }
   ],
   "source": [
    "\n",
    "df = pd.read_csv(labels_filename)\n",
    "df.columns=['original']\n",
    "df[\"file_name\"] = df['original'].str.split(\"\\t\").str[3]\n",
    "df[\"eyecolour_label\"] = df['original'].str.split(\"\\t\").str[1]\n",
    "del df['original']\n",
    "    \n",
    "eye_colour = []\n",
    "    \n",
    "for eye in df.eyecolour_label:\n",
    "    if eye == '0':\n",
    "        eye_colour.append(\"Brown\")\n",
    "    elif eye == '1':\n",
    "        eye_colour.append(\"Blue\")\n",
    "    elif eye == '2':\n",
    "        eye_colour.append(\"Green\")\n",
    "    elif eye == '3':\n",
    "        eye_colour.append(\"Gray\")\n",
    "    else:\n",
    "        eye_colour.append(\"Black\")\n",
    "    \n",
    "df['eye_colour'] = eye_colour\n",
    "    \n",
    "\n",
    "df"
   ]
  },
  {
   "cell_type": "code",
   "execution_count": 60,
   "metadata": {},
   "outputs": [
    {
     "name": "stderr",
     "output_type": "stream",
     "text": [
      "Using TensorFlow backend.\n"
     ]
    }
   ],
   "source": [
    "from keras.layers import Dense, Conv2D, MaxPooling2D, BatchNormalization, GlobalAveragePooling2D\n",
    "from keras import models\n",
    "from keras.layers import Activation, Dropout, Flatten, Dense\n",
    "from keras import optimizers\n",
    "from sklearn.model_selection import train_test_split\n",
    "from keras.optimizers import adam\n",
    "from tensorflow.python.keras.applications.vgg16 import preprocess_input\n",
    "from tensorflow.python.keras.preprocessing.image import ImageDataGenerator"
   ]
  },
  {
   "cell_type": "code",
   "execution_count": 61,
   "metadata": {},
   "outputs": [
    {
     "name": "stdout",
     "output_type": "stream",
     "text": [
      "Training Dataset Preparataion\n",
      "Found 5625 validated image filenames belonging to 5 classes.\n",
      "\n",
      "Validation Dataset Preparataion\n",
      "Found 1875 validated image filenames belonging to 5 classes.\n"
     ]
    }
   ],
   "source": [
    "\n",
    "train_data, test_data = train_test_split(df, random_state=0)\n",
    "    \n",
    "# Setup the data generator\n",
    "data_generator = ImageDataGenerator(\n",
    "    rescale = 1./255.,\n",
    "    validation_split = 0.25,\n",
    "    horizontal_flip=True,\n",
    "    vertical_flip=True\n",
    "    \n",
    ")\n",
    "    \n",
    "# Get batches of training dataset from the dataframe\n",
    "print(\"Training Dataset Preparataion\")\n",
    "train_generator = data_generator.flow_from_dataframe(\n",
    "        dataframe = train_data, directory = dataset_dir,\n",
    "        x_col = \"file_name\", y_col = \"eyecolour_label\",\n",
    "        class_mode = 'categorical', target_size = (30,30),\n",
    "        batch_size = 32, subset = 'training')\n",
    "    \n",
    "    # Get batches of validation dataset from the dataframe\n",
    "print(\"\\nValidation Dataset Preparataion\")\n",
    "validation_generator = data_generator.flow_from_dataframe(\n",
    "        dataframe = train_data, directory = dataset_dir,\n",
    "        x_col = \"file_name\", y_col = \"eyecolour_label\",\n",
    "        class_mode = 'categorical', target_size = (30,30),\n",
    "        batch_size = 32, subset = 'validation')\n",
    "    \n",
    "    \n",
    "    "
   ]
  },
  {
   "cell_type": "code",
   "execution_count": 62,
   "metadata": {},
   "outputs": [
    {
     "name": "stdout",
     "output_type": "stream",
     "text": [
      "Model: \"sequential_1\"\n",
      "_________________________________________________________________\n",
      "Layer (type)                 Output Shape              Param #   \n",
      "=================================================================\n",
      "conv2d_1 (Conv2D)            (None, 30, 30, 24)        672       \n",
      "_________________________________________________________________\n",
      "max_pooling2d_1 (MaxPooling2 (None, 15, 15, 24)        0         \n",
      "_________________________________________________________________\n",
      "conv2d_2 (Conv2D)            (None, 15, 15, 24)        5208      \n",
      "_________________________________________________________________\n",
      "conv2d_3 (Conv2D)            (None, 15, 15, 48)        10416     \n",
      "_________________________________________________________________\n",
      "conv2d_4 (Conv2D)            (None, 15, 15, 96)        41568     \n",
      "_________________________________________________________________\n",
      "max_pooling2d_2 (MaxPooling2 (None, 8, 8, 96)          0         \n",
      "_________________________________________________________________\n",
      "flatten_1 (Flatten)          (None, 6144)              0         \n",
      "_________________________________________________________________\n",
      "dense_1 (Dense)              (None, 5)                 30725     \n",
      "=================================================================\n",
      "Total params: 88,589\n",
      "Trainable params: 88,589\n",
      "Non-trainable params: 0\n",
      "_________________________________________________________________\n"
     ]
    }
   ],
   "source": [
    "# starting point \n",
    "model= models.Sequential()\n",
    "\n",
    "# Add first convolutional block\n",
    "model.add(Conv2D(24, (3, 3), activation='relu', padding='same',input_shape=(30,30,3)))\n",
    "model.add(MaxPooling2D((2, 2), padding='same'))\n",
    "\n",
    "# second block\n",
    "model.add(Conv2D(24, (3, 3), activation='relu', padding='same'))\n",
    "#model.add(MaxPooling2D((2, 2), padding='same'))\n",
    "# third block\n",
    "model.add(Conv2D(48, (3, 3), activation='relu', padding='same'))\n",
    "#model.add(MaxPooling2D((2, 2), padding='same'))\n",
    "# fourth block\n",
    "model.add(Conv2D(96, (3, 3), activation='relu', padding='same'))\n",
    "model.add(MaxPooling2D((2, 2), padding='same'))\n",
    "\n",
    "# global average pooling\n",
    "#model.add(GlobalAveragePooling2D())\n",
    "# fully connected layer\n",
    "#model.add(Dense(64, activation='relu'))\n",
    "#model.add(BatchNormalization())\n",
    "# make predictions\n",
    "model.add(Flatten())\n",
    "model.add(Dense(5, activation='softmax'))\n",
    "\n",
    "\n",
    "\n",
    "\n",
    "# Show a summary of the model. Check the number of trainable parameters\n",
    "model.summary()\n",
    "\n",
    "\n"
   ]
  },
  {
   "cell_type": "code",
   "execution_count": 63,
   "metadata": {},
   "outputs": [],
   "source": [
    "# use early stopping to optimally terminate training through callbacks\n",
    "from tensorflow.python.keras.callbacks import EarlyStopping, ModelCheckpoint\n",
    "es=EarlyStopping(monitor='val_loss', mode='min', verbose=1, patience=5)\n",
    "\n",
    "# save best model automatically\n",
    "mc= ModelCheckpoint('/Users/Hyunjee/Desktop/AMLS_19-20_SN16075203/B1/model_B1.h5', monitor='val_loss', mode='min', verbose=1, save_best_only=True)\n",
    "\n",
    "cb_list=[es,mc]\n",
    "\n",
    "\n",
    "# compile model \n",
    "optimizer = optimizers.Adam(lr=0.001)\n",
    "model.compile(loss='categorical_crossentropy', optimizer=optimizer, metrics=['accuracy'])\n",
    "\n"
   ]
  },
  {
   "cell_type": "code",
   "execution_count": 64,
   "metadata": {
    "scrolled": true
   },
   "outputs": [
    {
     "name": "stdout",
     "output_type": "stream",
     "text": [
      "Epoch 1/25\n",
      "175/175 [==============================] - 70s 399ms/step - loss: 1.6105 - accuracy: 0.1954 - val_loss: 1.6109 - val_accuracy: 0.1923\n",
      "\n",
      "Epoch 00001: val_loss improved from inf to 1.61089, saving model to /Users/Hyunjee/Desktop/AMLS_19-20_SN16075203/B1/model_B1.h5\n",
      "Epoch 2/25\n",
      "175/175 [==============================] - 72s 414ms/step - loss: 1.6097 - accuracy: 0.1995 - val_loss: 1.6087 - val_accuracy: 0.1877\n",
      "\n",
      "Epoch 00002: val_loss improved from 1.61089 to 1.60867, saving model to /Users/Hyunjee/Desktop/AMLS_19-20_SN16075203/B1/model_B1.h5\n",
      "Epoch 3/25\n",
      "175/175 [==============================] - 71s 407ms/step - loss: 1.6096 - accuracy: 0.1986 - val_loss: 1.6085 - val_accuracy: 0.1926\n",
      "\n",
      "Epoch 00003: val_loss improved from 1.60867 to 1.60851, saving model to /Users/Hyunjee/Desktop/AMLS_19-20_SN16075203/B1/model_B1.h5\n",
      "Epoch 4/25\n",
      "175/175 [==============================] - 67s 382ms/step - loss: 1.6096 - accuracy: 0.1958 - val_loss: 1.6092 - val_accuracy: 0.1948\n",
      "\n",
      "Epoch 00004: val_loss did not improve from 1.60851\n",
      "Epoch 5/25\n",
      "175/175 [==============================] - 67s 381ms/step - loss: 1.6097 - accuracy: 0.2028 - val_loss: 1.6097 - val_accuracy: 0.1894\n",
      "\n",
      "Epoch 00005: val_loss did not improve from 1.60851\n",
      "Epoch 6/25\n",
      "175/175 [==============================] - 67s 385ms/step - loss: 1.6095 - accuracy: 0.2033 - val_loss: 1.6112 - val_accuracy: 0.1970\n",
      "\n",
      "Epoch 00006: val_loss did not improve from 1.60851\n",
      "Epoch 7/25\n",
      "175/175 [==============================] - 65s 372ms/step - loss: 1.6109 - accuracy: 0.2005 - val_loss: 1.6097 - val_accuracy: 0.1883\n",
      "\n",
      "Epoch 00007: val_loss did not improve from 1.60851\n",
      "Epoch 8/25\n",
      "175/175 [==============================] - 65s 371ms/step - loss: 1.6095 - accuracy: 0.2053 - val_loss: 1.6113 - val_accuracy: 0.1991\n",
      "\n",
      "Epoch 00008: val_loss did not improve from 1.60851\n",
      "Epoch 00008: early stopping\n"
     ]
    }
   ],
   "source": [
    "history = model.fit_generator(\n",
    "        train_generator,\n",
    "        epochs=25,\n",
    "        steps_per_epoch=train_generator.samples // 32,\n",
    "        validation_data=validation_generator,\n",
    "        validation_steps=validation_generator.samples // 32,\n",
    "        callbacks=cb_list)"
   ]
  },
  {
   "cell_type": "code",
   "execution_count": 65,
   "metadata": {},
   "outputs": [
    {
     "data": {
      "image/png": "[encoded data removed]",
      "text/plain": [
       "<Figure size 432x288 with 1 Axes>"
      ]
     },
     "metadata": {
      "needs_background": "light"
     },
     "output_type": "display_data"
    }
   ],
   "source": [
    "# plot training and validation accuracy\n",
    "import matplotlib.pyplot as plt\n",
    "plt.plot(history.history['accuracy'])\n",
    "plt.plot(history.history['val_accuracy'])\n",
    "plt.ylim([.5,1.1])\n",
    "plt.ylabel('Accuracy')\n",
    "plt.xlabel('Epoch')\n",
    "plt.legend(['Train', 'Validation'], loc='upper left')\n",
    "plt.savefig(\"model_gender.png\", dpi=300)"
   ]
  },
  {
   "cell_type": "code",
   "execution_count": null,
   "metadata": {},
   "outputs": [],
   "source": []
  }
 ],
 "metadata": {
  "kernelspec": {
   "display_name": "Python 3",
   "language": "python",
   "name": "python3"
  },
  "language_info": {
   "codemirror_mode": {
    "name": "ipython",
    "version": 3
   },
   "file_extension": ".py",
   "mimetype": "text/x-python",
   "name": "python",
   "nbconvert_exporter": "python",
   "pygments_lexer": "ipython3",
   "version": "3.6.9"
  }
 },
 "nbformat": 4,
 "nbformat_minor": 2
}
