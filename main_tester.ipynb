{
 "cells": [
  {
   "cell_type": "code",
   "execution_count": 3,
   "metadata": {
    "ExecuteTime": {
     "end_time": "2020-01-13T17:40:41.971156Z",
     "start_time": "2020-01-13T17:40:24.342023Z"
    }
   },
   "outputs": [
    {
     "data": {
      "application/vnd.jupyter.widget-view+json": {
       "model_id": "185f4bce86d7491ebcf3b9617d64ba92",
       "version_major": 2,
       "version_minor": 0
      },
      "text/plain": [
       "HBox(children=(IntProgress(value=0, max=5000), HTML(value='')))"
      ]
     },
     "metadata": {},
     "output_type": "display_data"
    },
    {
     "ename": "KeyboardInterrupt",
     "evalue": "",
     "output_type": "error",
     "traceback": [
      "\u001b[0;31m---------------------------------------------------------------------------\u001b[0m",
      "\u001b[0;31mKeyboardInterrupt\u001b[0m                         Traceback (most recent call last)",
      "\u001b[0;32m<ipython-input-3-f3a6cad2a9de>\u001b[0m in \u001b[0;36m<module>\u001b[0;34m\u001b[0m\n\u001b[1;32m      5\u001b[0m     \u001b[0msys\u001b[0m\u001b[0;34m.\u001b[0m\u001b[0mpath\u001b[0m\u001b[0;34m.\u001b[0m\u001b[0mappend\u001b[0m\u001b[0;34m(\u001b[0m\u001b[0mos\u001b[0m\u001b[0;34m.\u001b[0m\u001b[0mgetcwd\u001b[0m\u001b[0;34m(\u001b[0m\u001b[0;34m)\u001b[0m \u001b[0;34m+\u001b[0m \u001b[0;34m'/'\u001b[0m \u001b[0;34m+\u001b[0m \u001b[0mextension\u001b[0m\u001b[0;34m)\u001b[0m\u001b[0;34m\u001b[0m\u001b[0;34m\u001b[0m\u001b[0m\n\u001b[1;32m      6\u001b[0m \u001b[0;34m\u001b[0m\u001b[0m\n\u001b[0;32m----> 7\u001b[0;31m \u001b[0;32mimport\u001b[0m \u001b[0mA1_SVM\u001b[0m\u001b[0;34m\u001b[0m\u001b[0;34m\u001b[0m\u001b[0m\n\u001b[0m\u001b[1;32m      8\u001b[0m \u001b[0;32mimport\u001b[0m \u001b[0mA2_SVM\u001b[0m\u001b[0;34m\u001b[0m\u001b[0;34m\u001b[0m\u001b[0m\n\u001b[1;32m      9\u001b[0m \u001b[0;32mimport\u001b[0m \u001b[0mB1\u001b[0m\u001b[0;34m\u001b[0m\u001b[0;34m\u001b[0m\u001b[0m\n",
      "\u001b[0;32m~/Desktop/AMLS_19-20_HYUNJEE_KIM_SN16075203/A1/A1_SVM.py\u001b[0m in \u001b[0;36m<module>\u001b[0;34m\u001b[0m\n\u001b[1;32m     44\u001b[0m \u001b[0;34m\u001b[0m\u001b[0m\n\u001b[1;32m     45\u001b[0m \u001b[0;31m# x: feature, y: label\u001b[0m\u001b[0;34m\u001b[0m\u001b[0;34m\u001b[0m\u001b[0;34m\u001b[0m\u001b[0m\n\u001b[0;32m---> 46\u001b[0;31m \u001b[0mx\u001b[0m\u001b[0;34m,\u001b[0m \u001b[0my\u001b[0m \u001b[0;34m=\u001b[0m \u001b[0mload_data_A1\u001b[0m\u001b[0;34m(\u001b[0m\u001b[0;34m)\u001b[0m\u001b[0;34m\u001b[0m\u001b[0;34m\u001b[0m\u001b[0m\n\u001b[0m\u001b[1;32m     47\u001b[0m \u001b[0;34m\u001b[0m\u001b[0m\n\u001b[1;32m     48\u001b[0m \u001b[0;34m\u001b[0m\u001b[0m\n",
      "\u001b[0;32m~/Desktop/AMLS_19-20_HYUNJEE_KIM_SN16075203/A1/A1_SVM.py\u001b[0m in \u001b[0;36mload_data_A1\u001b[0;34m()\u001b[0m\n\u001b[1;32m     40\u001b[0m     \u001b[0;31m# Target Index from lab2_landmarks:\u001b[0m\u001b[0;34m\u001b[0m\u001b[0;34m\u001b[0m\u001b[0;34m\u001b[0m\u001b[0m\n\u001b[1;32m     41\u001b[0m     \u001b[0;31m#         2 (Gender_label), 3 (Emotion_label)\u001b[0m\u001b[0;34m\u001b[0m\u001b[0;34m\u001b[0m\u001b[0;34m\u001b[0m\u001b[0m\n\u001b[0;32m---> 42\u001b[0;31m     \u001b[0;32mreturn\u001b[0m \u001b[0ml2\u001b[0m\u001b[0;34m.\u001b[0m\u001b[0mextract_features_labels\u001b[0m\u001b[0;34m(\u001b[0m\u001b[0;36m2\u001b[0m\u001b[0;34m)\u001b[0m\u001b[0;34m\u001b[0m\u001b[0;34m\u001b[0m\u001b[0m\n\u001b[0m\u001b[1;32m     43\u001b[0m \u001b[0;34m\u001b[0m\u001b[0m\n\u001b[1;32m     44\u001b[0m \u001b[0;34m\u001b[0m\u001b[0m\n",
      "\u001b[0;32m~/Desktop/AMLS_19-20_HYUNJEE_KIM_SN16075203/A1/lab2_landmarks.py\u001b[0m in \u001b[0;36mextract_features_labels\u001b[0;34m(target_index)\u001b[0m\n\u001b[1;32m    130\u001b[0m                                \u001b[0mtarget_size\u001b[0m\u001b[0;34m=\u001b[0m\u001b[0mtarget_size\u001b[0m\u001b[0;34m,\u001b[0m\u001b[0;34m\u001b[0m\u001b[0;34m\u001b[0m\u001b[0m\n\u001b[1;32m    131\u001b[0m                                interpolation='bicubic'))\n\u001b[0;32m--> 132\u001b[0;31m             \u001b[0mfeatures\u001b[0m\u001b[0;34m,\u001b[0m \u001b[0m_\u001b[0m \u001b[0;34m=\u001b[0m \u001b[0mrun_dlib_shape\u001b[0m\u001b[0;34m(\u001b[0m\u001b[0mimg\u001b[0m\u001b[0;34m)\u001b[0m\u001b[0;34m\u001b[0m\u001b[0;34m\u001b[0m\u001b[0m\n\u001b[0m\u001b[1;32m    133\u001b[0m             \u001b[0;32mif\u001b[0m \u001b[0mfeatures\u001b[0m \u001b[0;32mis\u001b[0m \u001b[0;32mnot\u001b[0m \u001b[0;32mNone\u001b[0m\u001b[0;34m:\u001b[0m\u001b[0;34m\u001b[0m\u001b[0;34m\u001b[0m\u001b[0m\n\u001b[1;32m    134\u001b[0m                 \u001b[0mall_features\u001b[0m\u001b[0;34m.\u001b[0m\u001b[0mappend\u001b[0m\u001b[0;34m(\u001b[0m\u001b[0mfeatures\u001b[0m\u001b[0;34m)\u001b[0m\u001b[0;34m\u001b[0m\u001b[0;34m\u001b[0m\u001b[0m\n",
      "\u001b[0;32m~/Desktop/AMLS_19-20_HYUNJEE_KIM_SN16075203/A1/lab2_landmarks.py\u001b[0m in \u001b[0;36mrun_dlib_shape\u001b[0;34m(image)\u001b[0m\n\u001b[1;32m     88\u001b[0m         \u001b[0;31m# convert the facial landmark (x, y)-coordinates to a NumPy\u001b[0m\u001b[0;34m\u001b[0m\u001b[0;34m\u001b[0m\u001b[0;34m\u001b[0m\u001b[0m\n\u001b[1;32m     89\u001b[0m         \u001b[0;31m# array\u001b[0m\u001b[0;34m\u001b[0m\u001b[0;34m\u001b[0m\u001b[0;34m\u001b[0m\u001b[0m\n\u001b[0;32m---> 90\u001b[0;31m         \u001b[0mtemp_shape\u001b[0m \u001b[0;34m=\u001b[0m \u001b[0mpredictor\u001b[0m\u001b[0;34m(\u001b[0m\u001b[0mgray\u001b[0m\u001b[0;34m,\u001b[0m \u001b[0mrect\u001b[0m\u001b[0;34m)\u001b[0m\u001b[0;34m\u001b[0m\u001b[0;34m\u001b[0m\u001b[0m\n\u001b[0m\u001b[1;32m     91\u001b[0m         \u001b[0mtemp_shape\u001b[0m \u001b[0;34m=\u001b[0m \u001b[0mshape_to_np\u001b[0m\u001b[0;34m(\u001b[0m\u001b[0mtemp_shape\u001b[0m\u001b[0;34m)\u001b[0m\u001b[0;34m\u001b[0m\u001b[0;34m\u001b[0m\u001b[0m\n\u001b[1;32m     92\u001b[0m \u001b[0;34m\u001b[0m\u001b[0m\n",
      "\u001b[0;31mKeyboardInterrupt\u001b[0m: "
     ]
    }
   ],
   "source": [
    "import os\n",
    "import sys\n",
    "\n",
    "for extension in ['A1', 'A2', 'B1', 'B2']:\n",
    "    sys.path.append(os.getcwd() + '/' + extension)\n",
    "\n",
    "import A1_SVM\n",
    "import A2_SVM\n",
    "import B1\n",
    "import B2\n",
    "\n",
    "# ======================================================================================================================\n",
    "# Data preprocessing\n",
    "# data_train, data_val, data_test = data_preprocessing(args...)\n",
    "# Data preprocessing handled in import\n",
    "# ======================================================================================================================\n",
    "# Task A1\n",
    "# model_A1 = A1(args...)                 # Build model object.\n",
    "# acc_A1_train = model_A1.train(args...) # Train model based on the training set (you should fine-tune your model based on validation set.)\n",
    "# acc_A1_test = model_A1.test(args...)   # Test model based on the test set.\n",
    "# Clean up memory/GPU etc...             # Some code to free memory if necessary.\n",
    "# A1 instantiation run in import\n",
    "acc_A1_train = str(A1_SVM.train_acc)\n",
    "acc_A1_test = str(A1_SVM.new_acc)\n",
    "\n",
    "# ======================================================================================================================\n",
    "# Task A2\n",
    "# model_A2 = A2(args...)\n",
    "# acc_A2_train = model_A2.train(args...)\n",
    "# acc_A2_test = model_A2.test(args...)\n",
    "# Clean up memory/GPU etc...\n",
    "# A2 instantiation run in import\n",
    "acc_A2_train = str(A2_SVM.train_acc)\n",
    "acc_A2_test = str(A2_SVM.new_acc)\n",
    "\n",
    "# ======================================================================================================================\n",
    "# Task B1\n",
    "# model_B1 = B1(args...)\n",
    "# acc_B1_train = model_B1.train(args...)\n",
    "# acc_B1_test = model_B1.test(args...)\n",
    "# Clean up memory/GPU etc...\n",
    "# B1 instantiation run in import\n",
    "acc_B1_train = str(B1.train_metric[1])\n",
    "acc_B1_test = str(B1.new_test_metric[1])\n",
    "\n",
    "# ======================================================================================================================\n",
    "# Task B2\n",
    "# model_B2 = B2(args...)\n",
    "# acc_B2_train = model_B2.train(args...)\n",
    "# acc_B2_test = model_B2.test(args...)\n",
    "# Clean up memory/GPU etc...\n",
    "# B2 instantiation run in import\n",
    "acc_B2_train = str(B2.train_metric[1])\n",
    "acc_B2_test = str(B2.new_test_metric[1])\n",
    "\n",
    "# ======================================================================================================================\n",
    "## Print out your results with following format:\n",
    "print('TA1:{},{};TA2:{},{};TB1:{},{};TB2:{},{};'.format(acc_A1_train, acc_A1_test,\n",
    "                                                        acc_A2_train, acc_A2_test,\n",
    "                                                        acc_B1_train, acc_B1_test,\n",
    "                                                        acc_B2_train, acc_B2_test))\n",
    "\n",
    "# If you are not able to finish a task, fill the corresponding variable with 'TBD'. For example:\n",
    "# acc_A1_train = 'TBD'\n",
    "# acc_A1_test = 'TBD'"
   ]
  },
  {
   "cell_type": "code",
   "execution_count": null,
   "metadata": {},
   "outputs": [],
   "source": []
  }
 ],
 "metadata": {
  "kernelspec": {
   "display_name": "Python 3",
   "language": "python",
   "name": "python3"
  },
  "language_info": {
   "codemirror_mode": {
    "name": "ipython",
    "version": 3
   },
   "file_extension": ".py",
   "mimetype": "text/x-python",
   "name": "python",
   "nbconvert_exporter": "python",
   "pygments_lexer": "ipython3",
   "version": "3.6.9"
  }
 },
 "nbformat": 4,
 "nbformat_minor": 2
}
